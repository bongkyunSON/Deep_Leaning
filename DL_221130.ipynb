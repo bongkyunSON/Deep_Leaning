{
  "nbformat": 4,
  "nbformat_minor": 0,
  "metadata": {
    "colab": {
      "provenance": [],
      "authorship_tag": "ABX9TyMyO+YcVkw7QjCQlHqGdPab",
      "include_colab_link": true
    },
    "kernelspec": {
      "name": "python3",
      "display_name": "Python 3"
    },
    "language_info": {
      "name": "python"
    },
    "accelerator": "GPU",
    "gpuClass": "standard"
  },
  "cells": [
    {
      "cell_type": "markdown",
      "metadata": {
        "id": "view-in-github",
        "colab_type": "text"
      },
      "source": [
        "<a href=\"https://colab.research.google.com/github/bongkyunSON/Deep_Leaning/blob/main/DL_221130.ipynb\" target=\"_parent\"><img src=\"https://colab.research.google.com/assets/colab-badge.svg\" alt=\"Open In Colab\"/></a>"
      ]
    },
    {
      "cell_type": "code",
      "source": [
        "from google.colab import drive\n",
        "drive.mount('/content/drive')"
      ],
      "metadata": {
        "colab": {
          "base_uri": "https://localhost:8080/"
        },
        "id": "2w12YVcOtsuY",
        "outputId": "4550ac24-d7ec-49ff-dc13-6bbcb8b57a3d"
      },
      "execution_count": null,
      "outputs": [
        {
          "output_type": "stream",
          "name": "stdout",
          "text": [
            "Mounted at /content/drive\n"
          ]
        }
      ]
    },
    {
      "cell_type": "markdown",
      "source": [
        "### tf.keras Practice!\n",
        "\n",
        "- CIFAR10 이미지 데이터셋을 분류하는 문제를 풀어봅니다!"
      ],
      "metadata": {
        "id": "nj_TGjqct0jF"
      }
    },
    {
      "cell_type": "code",
      "source": [
        "# import os\n",
        "# os.cpu_count()\n",
        "!nvidia-smi"
      ],
      "metadata": {
        "colab": {
          "base_uri": "https://localhost:8080/"
        },
        "id": "N8auySwJvGlW",
        "outputId": "71486d84-b3ae-450a-c407-ae0f8be12863"
      },
      "execution_count": null,
      "outputs": [
        {
          "output_type": "stream",
          "name": "stdout",
          "text": [
            "Wed Nov 30 08:05:39 2022       \n",
            "+-----------------------------------------------------------------------------+\n",
            "| NVIDIA-SMI 460.32.03    Driver Version: 460.32.03    CUDA Version: 11.2     |\n",
            "|-------------------------------+----------------------+----------------------+\n",
            "| GPU  Name        Persistence-M| Bus-Id        Disp.A | Volatile Uncorr. ECC |\n",
            "| Fan  Temp  Perf  Pwr:Usage/Cap|         Memory-Usage | GPU-Util  Compute M. |\n",
            "|                               |                      |               MIG M. |\n",
            "|===============================+======================+======================|\n",
            "|   0  Tesla T4            Off  | 00000000:00:04.0 Off |                    0 |\n",
            "| N/A   45C    P8     9W /  70W |      0MiB / 15109MiB |      0%      Default |\n",
            "|                               |                      |                  N/A |\n",
            "+-------------------------------+----------------------+----------------------+\n",
            "                                                                               \n",
            "+-----------------------------------------------------------------------------+\n",
            "| Processes:                                                                  |\n",
            "|  GPU   GI   CI        PID   Type   Process name                  GPU Memory |\n",
            "|        ID   ID                                                   Usage      |\n",
            "|=============================================================================|\n",
            "|  No running processes found                                                 |\n",
            "+-----------------------------------------------------------------------------+\n"
          ]
        }
      ]
    },
    {
      "cell_type": "code",
      "source": [
        "import tensorflow as tf\n",
        "import numpy as np\n",
        "tf.__version__"
      ],
      "metadata": {
        "colab": {
          "base_uri": "https://localhost:8080/",
          "height": 35
        },
        "id": "1V3B5--qttEF",
        "outputId": "349583e7-d5c8-4203-8e32-351e89223bb5"
      },
      "execution_count": null,
      "outputs": [
        {
          "output_type": "execute_result",
          "data": {
            "text/plain": [
              "'2.9.2'"
            ],
            "application/vnd.google.colaboratory.intrinsic+json": {
              "type": "string"
            }
          },
          "metadata": {},
          "execution_count": 3
        }
      ]
    },
    {
      "cell_type": "code",
      "source": [
        "# Import Libraries\n",
        "import numpy as np\n",
        "import tensorflow as tf\n",
        "\n",
        "# import tensorflow layers\n",
        "from tensorflow.keras.datasets import cifar10\n",
        "from tensorflow.keras import Sequential\n",
        "from tensorflow.keras.layers import Dense, Input, Flatten\n",
        "from tensorflow.keras.layers import Conv2D, MaxPool2D"
      ],
      "metadata": {
        "id": "NhEIZka_t1bt"
      },
      "execution_count": null,
      "outputs": []
    },
    {
      "cell_type": "code",
      "source": [
        "# Load Datasets\n",
        "(X_train, y_train), (X_test, y_test) = cifar10.load_data()\n",
        "\n",
        "print(X_train.shape) # 4차원 Tensor\n",
        "## 32 x 32 x 3(RGB-channel) -> 이미지당 pixel 개수.\n",
        "print(X_test.shape)\n",
        "\n",
        "\n",
        "# RGB (3-channel)\n",
        "# 32 x 32 - R -> pixel matrix\n",
        "# 32 x 32 - G\n",
        "# 32 x 32 - B\n",
        "\n",
        "\"\"\"\n",
        "\n",
        "1차원은 백터\n",
        "2차원은 메트릭\n",
        "3차원 이상은 텐서\n",
        "\n",
        "\"\"\""
      ],
      "metadata": {
        "colab": {
          "base_uri": "https://localhost:8080/",
          "height": 109
        },
        "id": "s5Gl_3giktBu",
        "outputId": "22075c69-ebed-4772-a2b4-32753d9afbed"
      },
      "execution_count": null,
      "outputs": [
        {
          "output_type": "stream",
          "name": "stdout",
          "text": [
            "Downloading data from https://www.cs.toronto.edu/~kriz/cifar-10-python.tar.gz\n",
            "170498071/170498071 [==============================] - 13s 0us/step\n",
            "(50000, 32, 32, 3)\n",
            "(10000, 32, 32, 3)\n"
          ]
        },
        {
          "output_type": "execute_result",
          "data": {
            "text/plain": [
              "'\\n\\n1차원은 백터\\n2차원은 메트릭\\n3차원 이상은 텐서\\n\\n'"
            ],
            "application/vnd.google.colaboratory.intrinsic+json": {
              "type": "string"
            }
          },
          "metadata": {},
          "execution_count": 6
        }
      ]
    },
    {
      "cell_type": "markdown",
      "source": [
        "### Preprocessing\n",
        "\n",
        "Input Normalization"
      ],
      "metadata": {
        "id": "SARCQ0TSk5Qu"
      }
    },
    {
      "cell_type": "code",
      "source": [
        "# min-max scaling\n",
        "# RGB, 3-channel color [0, 255] 24bit True color\n",
        "X_train = X_train / 255.0\n",
        "X_test = X_test / 255.0\n",
        "X_train[0]"
      ],
      "metadata": {
        "colab": {
          "base_uri": "https://localhost:8080/"
        },
        "id": "TZ38cpRgk9bb",
        "outputId": "8f55dfaa-3ba8-4be6-9309-d8d762a1158d"
      },
      "execution_count": null,
      "outputs": [
        {
          "output_type": "execute_result",
          "data": {
            "text/plain": [
              "array([[[0.23137255, 0.24313725, 0.24705882],\n",
              "        [0.16862745, 0.18039216, 0.17647059],\n",
              "        [0.19607843, 0.18823529, 0.16862745],\n",
              "        ...,\n",
              "        [0.61960784, 0.51764706, 0.42352941],\n",
              "        [0.59607843, 0.49019608, 0.4       ],\n",
              "        [0.58039216, 0.48627451, 0.40392157]],\n",
              "\n",
              "       [[0.0627451 , 0.07843137, 0.07843137],\n",
              "        [0.        , 0.        , 0.        ],\n",
              "        [0.07058824, 0.03137255, 0.        ],\n",
              "        ...,\n",
              "        [0.48235294, 0.34509804, 0.21568627],\n",
              "        [0.46666667, 0.3254902 , 0.19607843],\n",
              "        [0.47843137, 0.34117647, 0.22352941]],\n",
              "\n",
              "       [[0.09803922, 0.09411765, 0.08235294],\n",
              "        [0.0627451 , 0.02745098, 0.        ],\n",
              "        [0.19215686, 0.10588235, 0.03137255],\n",
              "        ...,\n",
              "        [0.4627451 , 0.32941176, 0.19607843],\n",
              "        [0.47058824, 0.32941176, 0.19607843],\n",
              "        [0.42745098, 0.28627451, 0.16470588]],\n",
              "\n",
              "       ...,\n",
              "\n",
              "       [[0.81568627, 0.66666667, 0.37647059],\n",
              "        [0.78823529, 0.6       , 0.13333333],\n",
              "        [0.77647059, 0.63137255, 0.10196078],\n",
              "        ...,\n",
              "        [0.62745098, 0.52156863, 0.2745098 ],\n",
              "        [0.21960784, 0.12156863, 0.02745098],\n",
              "        [0.20784314, 0.13333333, 0.07843137]],\n",
              "\n",
              "       [[0.70588235, 0.54509804, 0.37647059],\n",
              "        [0.67843137, 0.48235294, 0.16470588],\n",
              "        [0.72941176, 0.56470588, 0.11764706],\n",
              "        ...,\n",
              "        [0.72156863, 0.58039216, 0.36862745],\n",
              "        [0.38039216, 0.24313725, 0.13333333],\n",
              "        [0.3254902 , 0.20784314, 0.13333333]],\n",
              "\n",
              "       [[0.69411765, 0.56470588, 0.45490196],\n",
              "        [0.65882353, 0.50588235, 0.36862745],\n",
              "        [0.70196078, 0.55686275, 0.34117647],\n",
              "        ...,\n",
              "        [0.84705882, 0.72156863, 0.54901961],\n",
              "        [0.59215686, 0.4627451 , 0.32941176],\n",
              "        [0.48235294, 0.36078431, 0.28235294]]])"
            ]
          },
          "metadata": {},
          "execution_count": 9
        }
      ]
    },
    {
      "cell_type": "markdown",
      "source": [
        "### Training with Vanilla CNN\n",
        "\n",
        "**Model Architecture**\n",
        "\n",
        "> Conv - Relu - Conv - Relu - FC - FC\n"
      ],
      "metadata": {
        "id": "ggDV4UsWlAQH"
      }
    },
    {
      "cell_type": "code",
      "source": [
        "# Sequential 객체를 이용하여 layer를 쌓아올려 모델을 만듭니다.\n",
        "model = Sequential([\n",
        "    Input(shape=(32, 32, 3)),\n",
        "    Conv2D(filters=6,\n",
        "           kernel_size=3,\n",
        "           strides=1,\n",
        "           padding='same',\n",
        "           activation='relu'),\n",
        "    Conv2D(16, 5, 1, 'same', activation='relu'),\n",
        "    MaxPool2D(pool_size=2, strides=2),\n",
        "    Flatten(),\n",
        "    Dense(1024, activation='relu'),\n",
        "    Dense(128, activation='relu'),\n",
        "    Dense(10, activation='softmax')\n",
        "\n",
        "    \n",
        "])\n",
        "\n",
        "model.summary()"
      ],
      "metadata": {
        "colab": {
          "base_uri": "https://localhost:8080/"
        },
        "id": "TJHfMLGLlEkw",
        "outputId": "51722414-d062-4636-b691-c45cbc3733ea"
      },
      "execution_count": null,
      "outputs": [
        {
          "output_type": "stream",
          "name": "stdout",
          "text": [
            "Model: \"sequential_5\"\n",
            "_________________________________________________________________\n",
            " Layer (type)                Output Shape              Param #   \n",
            "=================================================================\n",
            " conv2d_10 (Conv2D)          (None, 32, 32, 6)         168       \n",
            "                                                                 \n",
            " conv2d_11 (Conv2D)          (None, 32, 32, 16)        2416      \n",
            "                                                                 \n",
            " max_pooling2d_5 (MaxPooling  (None, 16, 16, 16)       0         \n",
            " 2D)                                                             \n",
            "                                                                 \n",
            " flatten_5 (Flatten)         (None, 4096)              0         \n",
            "                                                                 \n",
            " dense_15 (Dense)            (None, 1024)              4195328   \n",
            "                                                                 \n",
            " dense_16 (Dense)            (None, 128)               131200    \n",
            "                                                                 \n",
            " dense_17 (Dense)            (None, 10)                1290      \n",
            "                                                                 \n",
            "=================================================================\n",
            "Total params: 4,330,402\n",
            "Trainable params: 4,330,402\n",
            "Non-trainable params: 0\n",
            "_________________________________________________________________\n"
          ]
        }
      ]
    },
    {
      "cell_type": "code",
      "source": [
        "# training setup\n",
        "from tensorflow.keras.optimizers import SGD, Adam\n",
        "\n",
        "## config variables\n",
        "batch_size = 128\n",
        "lr = 1e-3\n",
        "epochs = 30\n",
        "\n",
        "# Set optimizer, loss function, metrics, callback function\n",
        "optimizer = Adam(learning_rate=lr)\n",
        "\n",
        "# categorical_crossentropy : target value가 이미 one-hot vector인 경우\n",
        "# sparse_categorical_crossentropy : 그냥 정수\n",
        "\n",
        "loss_fn = 'sparse_categorical_crossentropy' # multi-class classification\n",
        "metrics = ['accuracy']\n",
        "\n",
        "model.compile(optimizer=optimizer,\n",
        "              loss=loss_fn,\n",
        "              metrics=metrics)"
      ],
      "metadata": {
        "id": "iWMLAZo6lLG1"
      },
      "execution_count": null,
      "outputs": []
    },
    {
      "cell_type": "code",
      "source": [
        "# model training\n",
        "\n",
        "history = model.fit(X_train, y_train,\n",
        "                    batch_size=batch_size,\n",
        "                    epochs=epochs,\n",
        "                    validation_data=(X_test, y_test), # 매 epoch마다 validation 성능 체크 가능!\n",
        "                    verbose=2)"
      ],
      "metadata": {
        "colab": {
          "base_uri": "https://localhost:8080/"
        },
        "id": "Bbvcll7tlN0R",
        "outputId": "01bf692a-f59c-4148-fbc5-918cb2f709b4"
      },
      "execution_count": null,
      "outputs": [
        {
          "output_type": "stream",
          "name": "stdout",
          "text": [
            "Epoch 1/30\n",
            "391/391 - 3s - loss: 1.5259 - accuracy: 0.4481 - val_loss: 1.2324 - val_accuracy: 0.5596 - 3s/epoch - 9ms/step\n",
            "Epoch 2/30\n",
            "391/391 - 3s - loss: 1.1331 - accuracy: 0.5986 - val_loss: 1.0891 - val_accuracy: 0.6176 - 3s/epoch - 7ms/step\n",
            "Epoch 3/30\n",
            "391/391 - 3s - loss: 0.9549 - accuracy: 0.6612 - val_loss: 1.0203 - val_accuracy: 0.6438 - 3s/epoch - 7ms/step\n",
            "Epoch 4/30\n",
            "391/391 - 3s - loss: 0.8126 - accuracy: 0.7143 - val_loss: 0.9776 - val_accuracy: 0.6616 - 3s/epoch - 7ms/step\n",
            "Epoch 5/30\n",
            "391/391 - 3s - loss: 0.6727 - accuracy: 0.7639 - val_loss: 0.9606 - val_accuracy: 0.6723 - 3s/epoch - 7ms/step\n",
            "Epoch 6/30\n",
            "391/391 - 3s - loss: 0.5310 - accuracy: 0.8142 - val_loss: 0.9947 - val_accuracy: 0.6742 - 3s/epoch - 7ms/step\n",
            "Epoch 7/30\n",
            "391/391 - 3s - loss: 0.3867 - accuracy: 0.8675 - val_loss: 1.0612 - val_accuracy: 0.6756 - 3s/epoch - 7ms/step\n",
            "Epoch 8/30\n",
            "391/391 - 3s - loss: 0.2638 - accuracy: 0.9102 - val_loss: 1.2059 - val_accuracy: 0.6687 - 3s/epoch - 7ms/step\n",
            "Epoch 9/30\n",
            "391/391 - 3s - loss: 0.1602 - accuracy: 0.9472 - val_loss: 1.3318 - val_accuracy: 0.6751 - 3s/epoch - 7ms/step\n",
            "Epoch 10/30\n",
            "391/391 - 3s - loss: 0.1045 - accuracy: 0.9667 - val_loss: 1.6126 - val_accuracy: 0.6751 - 3s/epoch - 7ms/step\n",
            "Epoch 11/30\n",
            "391/391 - 3s - loss: 0.0755 - accuracy: 0.9761 - val_loss: 1.8437 - val_accuracy: 0.6691 - 3s/epoch - 7ms/step\n",
            "Epoch 12/30\n",
            "391/391 - 3s - loss: 0.0702 - accuracy: 0.9772 - val_loss: 1.8327 - val_accuracy: 0.6670 - 3s/epoch - 7ms/step\n",
            "Epoch 13/30\n",
            "391/391 - 3s - loss: 0.0658 - accuracy: 0.9781 - val_loss: 2.0235 - val_accuracy: 0.6683 - 3s/epoch - 7ms/step\n",
            "Epoch 14/30\n",
            "391/391 - 3s - loss: 0.0518 - accuracy: 0.9826 - val_loss: 2.0404 - val_accuracy: 0.6667 - 3s/epoch - 7ms/step\n",
            "Epoch 15/30\n",
            "391/391 - 3s - loss: 0.0547 - accuracy: 0.9817 - val_loss: 2.0625 - val_accuracy: 0.6650 - 3s/epoch - 7ms/step\n",
            "Epoch 16/30\n",
            "391/391 - 3s - loss: 0.0542 - accuracy: 0.9814 - val_loss: 2.1499 - val_accuracy: 0.6650 - 3s/epoch - 7ms/step\n",
            "Epoch 17/30\n",
            "391/391 - 3s - loss: 0.0413 - accuracy: 0.9858 - val_loss: 2.4465 - val_accuracy: 0.6609 - 3s/epoch - 7ms/step\n",
            "Epoch 18/30\n",
            "391/391 - 3s - loss: 0.0415 - accuracy: 0.9864 - val_loss: 2.3563 - val_accuracy: 0.6691 - 3s/epoch - 7ms/step\n",
            "Epoch 19/30\n",
            "391/391 - 3s - loss: 0.0477 - accuracy: 0.9831 - val_loss: 2.2753 - val_accuracy: 0.6596 - 3s/epoch - 9ms/step\n",
            "Epoch 20/30\n",
            "391/391 - 4s - loss: 0.0331 - accuracy: 0.9889 - val_loss: 2.6098 - val_accuracy: 0.6667 - 4s/epoch - 9ms/step\n",
            "Epoch 21/30\n",
            "391/391 - 3s - loss: 0.0354 - accuracy: 0.9880 - val_loss: 2.4474 - val_accuracy: 0.6703 - 3s/epoch - 7ms/step\n",
            "Epoch 22/30\n",
            "391/391 - 3s - loss: 0.0317 - accuracy: 0.9892 - val_loss: 2.6730 - val_accuracy: 0.6592 - 3s/epoch - 7ms/step\n",
            "Epoch 23/30\n",
            "391/391 - 3s - loss: 0.0386 - accuracy: 0.9873 - val_loss: 2.7457 - val_accuracy: 0.6557 - 3s/epoch - 7ms/step\n",
            "Epoch 24/30\n",
            "391/391 - 3s - loss: 0.0387 - accuracy: 0.9875 - val_loss: 2.5185 - val_accuracy: 0.6630 - 3s/epoch - 7ms/step\n",
            "Epoch 25/30\n",
            "391/391 - 3s - loss: 0.0388 - accuracy: 0.9872 - val_loss: 2.6612 - val_accuracy: 0.6682 - 3s/epoch - 7ms/step\n",
            "Epoch 26/30\n",
            "391/391 - 3s - loss: 0.0237 - accuracy: 0.9921 - val_loss: 2.8951 - val_accuracy: 0.6570 - 3s/epoch - 7ms/step\n",
            "Epoch 27/30\n",
            "391/391 - 3s - loss: 0.0363 - accuracy: 0.9879 - val_loss: 2.7731 - val_accuracy: 0.6645 - 3s/epoch - 7ms/step\n",
            "Epoch 28/30\n",
            "391/391 - 3s - loss: 0.0257 - accuracy: 0.9918 - val_loss: 3.0121 - val_accuracy: 0.6573 - 3s/epoch - 7ms/step\n",
            "Epoch 29/30\n",
            "391/391 - 3s - loss: 0.0327 - accuracy: 0.9899 - val_loss: 2.9325 - val_accuracy: 0.6509 - 3s/epoch - 7ms/step\n",
            "Epoch 30/30\n",
            "391/391 - 3s - loss: 0.0267 - accuracy: 0.9914 - val_loss: 2.9238 - val_accuracy: 0.6600 - 3s/epoch - 7ms/step\n"
          ]
        }
      ]
    },
    {
      "cell_type": "code",
      "source": [
        "# evaluate\n",
        "loss, acc = model.evaluate(X_test, y_test, batch_size=batch_size)\n",
        "print(\"Loss : %.4f, Accuracy : %.4f\" % (loss, acc))"
      ],
      "metadata": {
        "colab": {
          "base_uri": "https://localhost:8080/"
        },
        "id": "VbzYmm8zlP26",
        "outputId": "f74fe10c-a63b-44ed-f539-a7d048c7897a"
      },
      "execution_count": null,
      "outputs": [
        {
          "output_type": "stream",
          "name": "stdout",
          "text": [
            "79/79 [==============================] - 0s 4ms/step - loss: 2.9238 - accuracy: 0.6600\n",
            "Loss : 2.9238, Accuracy : 0.6600\n"
          ]
        }
      ]
    },
    {
      "cell_type": "code",
      "source": [
        "## loss visualize\n",
        "import matplotlib.pyplot as plt\n",
        "\n",
        "plt.figure(figsize=(8,4))\n",
        "plt.subplot(1, 2,1)\n",
        "plt.plot(history.history['loss'],'b-', label = \"training\")\n",
        "plt.plot(history.history['val_loss'], 'r:', label = \"validation\")\n",
        "plt.title(\"model - loss\")\n",
        "plt.legend()\n",
        "\n",
        "plt.subplot(1, 2, 2)\n",
        "plt.title(\"model - accuracy\")\n",
        "\n",
        "plt.plot(history.history['accuracy'], 'b-', label = \"training\")\n",
        "plt.plot(history.history['val_accuracy'], 'r:', label = \"validation\")\n",
        "\n",
        "plt.legend()\n",
        "plt.tight_layout()\n",
        "plt.show()"
      ],
      "metadata": {
        "colab": {
          "base_uri": "https://localhost:8080/",
          "height": 297
        },
        "id": "t2jLCVZ-lRFc",
        "outputId": "0578d52a-a164-46cc-b0a7-c73833197cf4"
      },
      "execution_count": null,
      "outputs": [
        {
          "output_type": "display_data",
          "data": {
            "text/plain": [
              "<Figure size 576x288 with 2 Axes>"
            ],
            "image/png": "[encoded data removed]"
          },
          "metadata": {
            "needs_background": "light"
          }
        }
      ]
    },
    {
      "cell_type": "markdown",
      "source": [
        "### Model Training\n",
        "\n",
        "1. model architecture\n",
        "\n",
        "- Hidden Layer (뒤로 갈수록 hidden node수가 작아짐)\n",
        "\n",
        "- Activation function : 'sigmoid' / 'relu'\n",
        "\n",
        "\n",
        "\n",
        "2. loss optimization\n",
        "\n",
        "\n",
        "- optimizer : 'sgd', 'momentum', 'adam'\n",
        "\n",
        "- batch_size : 1 -> 8-> 32 -> 64 -> 128 -> 256 -> 512 -> 2048 -> ...\n",
        "\n",
        "- epochs : 10 -> 30 -> 100 -> 10000 (overfitting) "
      ],
      "metadata": {
        "id": "rQEcNEknt8lp"
      }
    },
    {
      "cell_type": "code",
      "source": [
        "(3072+1)*1024"
      ],
      "metadata": {
        "colab": {
          "base_uri": "https://localhost:8080/"
        },
        "id": "LysQAh2E06UB",
        "outputId": "2c4b50be-65fe-4f36-e42b-a518b34bf256"
      },
      "execution_count": null,
      "outputs": [
        {
          "output_type": "execute_result",
          "data": {
            "text/plain": [
              "3146752"
            ]
          },
          "metadata": {},
          "execution_count": 6
        }
      ]
    },
    {
      "cell_type": "code",
      "source": [
        "model = Sequential([\n",
        "    Input(shape=(32, 32, 3)),\n",
        "    Flatten(),   # 32x32x3 ----> 3072 (input layer의 node 수)\n",
        "    Dense(units=1024, activation='relu'),\n",
        "    Dense(units=256, activation='relu'),\n",
        "    Dense(units=128, activation='relu'),\n",
        "    Dense(units=10, activation='softmax')  # output layer\n",
        "])\n",
        "\n",
        "\n",
        "model.summary()"
      ],
      "metadata": {
        "colab": {
          "base_uri": "https://localhost:8080/"
        },
        "id": "HrvWgGy7t620",
        "outputId": "857d5c6a-91bd-4421-9d3e-181863a34ee2"
      },
      "execution_count": null,
      "outputs": [
        {
          "output_type": "stream",
          "name": "stdout",
          "text": [
            "Model: \"sequential_7\"\n",
            "_________________________________________________________________\n",
            " Layer (type)                Output Shape              Param #   \n",
            "=================================================================\n",
            " flatten_7 (Flatten)         (None, 3072)              0         \n",
            "                                                                 \n",
            " dense_28 (Dense)            (None, 1024)              3146752   \n",
            "                                                                 \n",
            " dense_29 (Dense)            (None, 256)               262400    \n",
            "                                                                 \n",
            " dense_30 (Dense)            (None, 128)               32896     \n",
            "                                                                 \n",
            " dense_31 (Dense)            (None, 10)                1290      \n",
            "                                                                 \n",
            "=================================================================\n",
            "Total params: 3,443,338\n",
            "Trainable params: 3,443,338\n",
            "Non-trainable params: 0\n",
            "_________________________________________________________________\n"
          ]
        }
      ]
    },
    {
      "cell_type": "code",
      "source": [
        "y_train # 0 ~ 9"
      ],
      "metadata": {
        "colab": {
          "base_uri": "https://localhost:8080/"
        },
        "id": "XPPB7XK52b2_",
        "outputId": "9bc68486-7811-4fce-a9de-075658090d2e"
      },
      "execution_count": null,
      "outputs": [
        {
          "output_type": "execute_result",
          "data": {
            "text/plain": [
              "array([[6],\n",
              "       [9],\n",
              "       [9],\n",
              "       ...,\n",
              "       [9],\n",
              "       [1],\n",
              "       [1]], dtype=uint8)"
            ]
          },
          "metadata": {},
          "execution_count": 8
        }
      ]
    },
    {
      "cell_type": "code",
      "source": [
        "# compile\n",
        "from tensorflow.keras.optimizers import SGD, Adam\n",
        "\n",
        "lr = 1e-4\n",
        "epochs = 200\n",
        "batch_size = 128\n",
        "\n",
        "# 모든데이터가 학습에 다 사용되면 1 epoch\n",
        "# epochs : 전체 데이터를 몇번 반복 학습을 수행한건지.\n",
        "# iterations : 실제로 weghit update를 한 횟수.\n",
        "\n",
        "\n",
        "loss_fn = 'sparse_categorical_crossentropy'  #target vector가 정수인 경우.\n",
        "# optimizer = SGD(learning_rate=lr) #learning rate 조절을 위해서 보통 함수로 구현.\n",
        "# optimizer = SGD(learning_rate=lr, momentum=0.9)\n",
        "optimizer = Adam(learning_rate=lr)\n",
        "\n",
        "\n",
        "model.compile(optimizer=optimizer,\n",
        "              loss=loss_fn,\n",
        "              metrics=['accuracy']\n",
        "              )"
      ],
      "metadata": {
        "id": "V4kJC2uRuCQU"
      },
      "execution_count": null,
      "outputs": []
    },
    {
      "cell_type": "code",
      "source": [
        "# fit\n",
        "model.fit(x=X_train,\n",
        "          y=y_train,\n",
        "          batch_size=batch_size,\n",
        "          epochs=epochs,\n",
        "          verbose=2,\n",
        "          validation_data=(X_test, y_test))\n"
      ],
      "metadata": {
        "colab": {
          "base_uri": "https://localhost:8080/"
        },
        "id": "g6bKWZmjuCeY",
        "outputId": "a9a1176b-3c8b-462b-a648-ee0dd63e7305"
      },
      "execution_count": null,
      "outputs": [
        {
          "output_type": "stream",
          "name": "stdout",
          "text": [
            "Epoch 1/200\n",
            "391/391 - 2s - loss: 11.5867 - accuracy: 0.2440 - val_loss: 4.8217 - val_accuracy: 0.2771 - 2s/epoch - 5ms/step\n",
            "Epoch 2/200\n",
            "391/391 - 1s - loss: 4.4090 - accuracy: 0.2928 - val_loss: 3.7697 - val_accuracy: 0.3124 - 1s/epoch - 3ms/step\n",
            "Epoch 3/200\n",
            "391/391 - 1s - loss: 3.5582 - accuracy: 0.3185 - val_loss: 4.8723 - val_accuracy: 0.2506 - 1s/epoch - 3ms/step\n",
            "Epoch 4/200\n",
            "391/391 - 1s - loss: 3.0897 - accuracy: 0.3375 - val_loss: 2.9197 - val_accuracy: 0.3226 - 1s/epoch - 3ms/step\n",
            "Epoch 5/200\n",
            "391/391 - 1s - loss: 2.7835 - accuracy: 0.3523 - val_loss: 2.9289 - val_accuracy: 0.3179 - 1s/epoch - 3ms/step\n",
            "Epoch 6/200\n",
            "391/391 - 1s - loss: 2.5064 - accuracy: 0.3722 - val_loss: 2.4738 - val_accuracy: 0.3770 - 1s/epoch - 3ms/step\n",
            "Epoch 7/200\n",
            "391/391 - 1s - loss: 2.3281 - accuracy: 0.3862 - val_loss: 2.6446 - val_accuracy: 0.3600 - 1s/epoch - 3ms/step\n",
            "Epoch 8/200\n",
            "391/391 - 1s - loss: 2.1773 - accuracy: 0.4009 - val_loss: 2.6156 - val_accuracy: 0.3631 - 1s/epoch - 3ms/step\n",
            "Epoch 9/200\n",
            "391/391 - 1s - loss: 2.1579 - accuracy: 0.4058 - val_loss: 2.3472 - val_accuracy: 0.3689 - 1s/epoch - 3ms/step\n",
            "Epoch 10/200\n",
            "391/391 - 1s - loss: 1.9869 - accuracy: 0.4246 - val_loss: 2.2890 - val_accuracy: 0.3834 - 1s/epoch - 3ms/step\n",
            "Epoch 11/200\n",
            "391/391 - 1s - loss: 1.9312 - accuracy: 0.4303 - val_loss: 2.0829 - val_accuracy: 0.3877 - 1s/epoch - 3ms/step\n",
            "Epoch 12/200\n",
            "391/391 - 1s - loss: 1.8512 - accuracy: 0.4429 - val_loss: 1.9147 - val_accuracy: 0.4163 - 1s/epoch - 3ms/step\n",
            "Epoch 13/200\n",
            "391/391 - 1s - loss: 1.7262 - accuracy: 0.4586 - val_loss: 2.1542 - val_accuracy: 0.4065 - 1s/epoch - 3ms/step\n",
            "Epoch 14/200\n",
            "391/391 - 1s - loss: 1.7161 - accuracy: 0.4615 - val_loss: 2.0613 - val_accuracy: 0.3793 - 1s/epoch - 3ms/step\n",
            "Epoch 15/200\n",
            "391/391 - 1s - loss: 1.6328 - accuracy: 0.4720 - val_loss: 1.9045 - val_accuracy: 0.4194 - 1s/epoch - 3ms/step\n",
            "Epoch 16/200\n",
            "391/391 - 1s - loss: 1.5877 - accuracy: 0.4793 - val_loss: 1.9735 - val_accuracy: 0.3934 - 1s/epoch - 3ms/step\n",
            "Epoch 17/200\n",
            "391/391 - 1s - loss: 1.5827 - accuracy: 0.4832 - val_loss: 1.9481 - val_accuracy: 0.4079 - 1s/epoch - 3ms/step\n",
            "Epoch 18/200\n",
            "391/391 - 1s - loss: 1.5350 - accuracy: 0.4925 - val_loss: 1.8765 - val_accuracy: 0.4303 - 1s/epoch - 3ms/step\n",
            "Epoch 19/200\n",
            "391/391 - 1s - loss: 1.4774 - accuracy: 0.5028 - val_loss: 1.7866 - val_accuracy: 0.4397 - 1s/epoch - 3ms/step\n",
            "Epoch 20/200\n",
            "391/391 - 1s - loss: 1.4785 - accuracy: 0.5061 - val_loss: 1.6991 - val_accuracy: 0.4468 - 1s/epoch - 4ms/step\n",
            "Epoch 21/200\n",
            "391/391 - 1s - loss: 1.4110 - accuracy: 0.5181 - val_loss: 1.6388 - val_accuracy: 0.4632 - 1s/epoch - 4ms/step\n",
            "Epoch 22/200\n",
            "391/391 - 1s - loss: 1.4126 - accuracy: 0.5189 - val_loss: 1.6581 - val_accuracy: 0.4564 - 1s/epoch - 4ms/step\n",
            "Epoch 23/200\n",
            "391/391 - 1s - loss: 1.3665 - accuracy: 0.5270 - val_loss: 1.7865 - val_accuracy: 0.4119 - 1s/epoch - 3ms/step\n",
            "Epoch 24/200\n",
            "391/391 - 1s - loss: 1.3341 - accuracy: 0.5363 - val_loss: 1.7612 - val_accuracy: 0.4337 - 1s/epoch - 3ms/step\n",
            "Epoch 25/200\n",
            "391/391 - 1s - loss: 1.3398 - accuracy: 0.5364 - val_loss: 1.5557 - val_accuracy: 0.4854 - 1s/epoch - 4ms/step\n",
            "Epoch 26/200\n",
            "391/391 - 1s - loss: 1.3229 - accuracy: 0.5398 - val_loss: 1.8108 - val_accuracy: 0.4379 - 1s/epoch - 3ms/step\n",
            "Epoch 27/200\n",
            "391/391 - 1s - loss: 1.2891 - accuracy: 0.5501 - val_loss: 1.6513 - val_accuracy: 0.4544 - 1s/epoch - 3ms/step\n",
            "Epoch 28/200\n",
            "391/391 - 1s - loss: 1.2469 - accuracy: 0.5607 - val_loss: 1.6227 - val_accuracy: 0.4684 - 1s/epoch - 4ms/step\n",
            "Epoch 29/200\n",
            "391/391 - 1s - loss: 1.2559 - accuracy: 0.5622 - val_loss: 1.5643 - val_accuracy: 0.4756 - 1s/epoch - 4ms/step\n",
            "Epoch 30/200\n",
            "391/391 - 1s - loss: 1.2450 - accuracy: 0.5627 - val_loss: 1.6380 - val_accuracy: 0.4738 - 1s/epoch - 4ms/step\n",
            "Epoch 31/200\n",
            "391/391 - 1s - loss: 1.2112 - accuracy: 0.5758 - val_loss: 1.7309 - val_accuracy: 0.4349 - 1s/epoch - 3ms/step\n",
            "Epoch 32/200\n",
            "391/391 - 1s - loss: 1.2000 - accuracy: 0.5759 - val_loss: 1.7791 - val_accuracy: 0.4489 - 1s/epoch - 3ms/step\n",
            "Epoch 33/200\n",
            "391/391 - 1s - loss: 1.1889 - accuracy: 0.5795 - val_loss: 1.6250 - val_accuracy: 0.4691 - 1s/epoch - 3ms/step\n",
            "Epoch 34/200\n",
            "391/391 - 1s - loss: 1.1630 - accuracy: 0.5898 - val_loss: 1.6109 - val_accuracy: 0.4772 - 1s/epoch - 3ms/step\n",
            "Epoch 35/200\n",
            "391/391 - 1s - loss: 1.1557 - accuracy: 0.5922 - val_loss: 1.5987 - val_accuracy: 0.4774 - 1s/epoch - 3ms/step\n",
            "Epoch 36/200\n",
            "391/391 - 1s - loss: 1.1437 - accuracy: 0.5964 - val_loss: 1.6095 - val_accuracy: 0.4817 - 1s/epoch - 3ms/step\n",
            "Epoch 37/200\n",
            "391/391 - 1s - loss: 1.1296 - accuracy: 0.5983 - val_loss: 1.6330 - val_accuracy: 0.4825 - 1s/epoch - 3ms/step\n",
            "Epoch 38/200\n",
            "391/391 - 1s - loss: 1.1166 - accuracy: 0.6040 - val_loss: 1.6087 - val_accuracy: 0.4801 - 1s/epoch - 3ms/step\n",
            "Epoch 39/200\n",
            "391/391 - 1s - loss: 1.1087 - accuracy: 0.6063 - val_loss: 1.6813 - val_accuracy: 0.4688 - 1s/epoch - 3ms/step\n",
            "Epoch 40/200\n",
            "391/391 - 1s - loss: 1.0906 - accuracy: 0.6141 - val_loss: 1.5872 - val_accuracy: 0.4959 - 1s/epoch - 3ms/step\n",
            "Epoch 41/200\n",
            "391/391 - 1s - loss: 1.0742 - accuracy: 0.6198 - val_loss: 1.5760 - val_accuracy: 0.4948 - 1s/epoch - 3ms/step\n",
            "Epoch 42/200\n",
            "391/391 - 1s - loss: 1.0640 - accuracy: 0.6226 - val_loss: 1.6114 - val_accuracy: 0.4937 - 1s/epoch - 3ms/step\n",
            "Epoch 43/200\n",
            "391/391 - 1s - loss: 1.0490 - accuracy: 0.6285 - val_loss: 1.5996 - val_accuracy: 0.4936 - 1s/epoch - 3ms/step\n",
            "Epoch 44/200\n",
            "391/391 - 1s - loss: 1.0244 - accuracy: 0.6373 - val_loss: 1.6484 - val_accuracy: 0.4871 - 1s/epoch - 3ms/step\n",
            "Epoch 45/200\n",
            "391/391 - 1s - loss: 1.0159 - accuracy: 0.6417 - val_loss: 1.6721 - val_accuracy: 0.4809 - 1s/epoch - 3ms/step\n",
            "Epoch 46/200\n",
            "391/391 - 1s - loss: 0.9981 - accuracy: 0.6447 - val_loss: 1.7320 - val_accuracy: 0.4752 - 1s/epoch - 3ms/step\n",
            "Epoch 47/200\n",
            "391/391 - 1s - loss: 1.0006 - accuracy: 0.6441 - val_loss: 1.6476 - val_accuracy: 0.4985 - 1s/epoch - 3ms/step\n",
            "Epoch 48/200\n",
            "391/391 - 1s - loss: 0.9862 - accuracy: 0.6517 - val_loss: 1.5971 - val_accuracy: 0.5062 - 1s/epoch - 3ms/step\n",
            "Epoch 49/200\n",
            "391/391 - 1s - loss: 0.9787 - accuracy: 0.6527 - val_loss: 1.6608 - val_accuracy: 0.4987 - 1s/epoch - 3ms/step\n",
            "Epoch 50/200\n",
            "391/391 - 1s - loss: 0.9601 - accuracy: 0.6589 - val_loss: 1.6502 - val_accuracy: 0.5005 - 1s/epoch - 3ms/step\n",
            "Epoch 51/200\n",
            "391/391 - 1s - loss: 0.9517 - accuracy: 0.6615 - val_loss: 1.6670 - val_accuracy: 0.5001 - 1s/epoch - 3ms/step\n",
            "Epoch 52/200\n",
            "391/391 - 1s - loss: 0.9339 - accuracy: 0.6702 - val_loss: 1.6648 - val_accuracy: 0.4949 - 1s/epoch - 3ms/step\n",
            "Epoch 53/200\n",
            "391/391 - 1s - loss: 0.9170 - accuracy: 0.6754 - val_loss: 1.6772 - val_accuracy: 0.4960 - 1s/epoch - 3ms/step\n",
            "Epoch 54/200\n",
            "391/391 - 1s - loss: 0.9104 - accuracy: 0.6767 - val_loss: 1.7089 - val_accuracy: 0.4998 - 1s/epoch - 3ms/step\n",
            "Epoch 55/200\n",
            "391/391 - 1s - loss: 0.8972 - accuracy: 0.6813 - val_loss: 1.7561 - val_accuracy: 0.4942 - 1s/epoch - 3ms/step\n",
            "Epoch 56/200\n",
            "391/391 - 1s - loss: 0.8873 - accuracy: 0.6862 - val_loss: 1.6882 - val_accuracy: 0.5105 - 1s/epoch - 3ms/step\n",
            "Epoch 57/200\n",
            "391/391 - 1s - loss: 0.8706 - accuracy: 0.6899 - val_loss: 1.7185 - val_accuracy: 0.5038 - 1s/epoch - 3ms/step\n",
            "Epoch 58/200\n",
            "391/391 - 1s - loss: 0.8579 - accuracy: 0.6958 - val_loss: 1.7325 - val_accuracy: 0.5121 - 1s/epoch - 3ms/step\n",
            "Epoch 59/200\n",
            "391/391 - 1s - loss: 0.8525 - accuracy: 0.6994 - val_loss: 1.7290 - val_accuracy: 0.5079 - 1s/epoch - 3ms/step\n",
            "Epoch 60/200\n",
            "391/391 - 1s - loss: 0.8328 - accuracy: 0.7059 - val_loss: 1.7121 - val_accuracy: 0.5102 - 1s/epoch - 3ms/step\n",
            "Epoch 61/200\n",
            "391/391 - 1s - loss: 0.8192 - accuracy: 0.7092 - val_loss: 1.7753 - val_accuracy: 0.5057 - 1s/epoch - 3ms/step\n",
            "Epoch 62/200\n",
            "391/391 - 1s - loss: 0.8262 - accuracy: 0.7094 - val_loss: 1.7654 - val_accuracy: 0.4982 - 1s/epoch - 3ms/step\n",
            "Epoch 63/200\n",
            "391/391 - 1s - loss: 0.8038 - accuracy: 0.7163 - val_loss: 1.8346 - val_accuracy: 0.4938 - 1s/epoch - 3ms/step\n",
            "Epoch 64/200\n",
            "391/391 - 1s - loss: 0.7947 - accuracy: 0.7176 - val_loss: 1.7949 - val_accuracy: 0.4977 - 1s/epoch - 3ms/step\n",
            "Epoch 65/200\n",
            "391/391 - 1s - loss: 0.7879 - accuracy: 0.7209 - val_loss: 1.8900 - val_accuracy: 0.4994 - 1s/epoch - 3ms/step\n",
            "Epoch 66/200\n",
            "391/391 - 1s - loss: 0.7650 - accuracy: 0.7290 - val_loss: 1.8603 - val_accuracy: 0.5008 - 1s/epoch - 3ms/step\n",
            "Epoch 67/200\n",
            "391/391 - 1s - loss: 0.7603 - accuracy: 0.7311 - val_loss: 1.8693 - val_accuracy: 0.4875 - 1s/epoch - 3ms/step\n",
            "Epoch 68/200\n",
            "391/391 - 1s - loss: 0.7611 - accuracy: 0.7276 - val_loss: 1.9627 - val_accuracy: 0.4972 - 1s/epoch - 3ms/step\n",
            "Epoch 69/200\n",
            "391/391 - 1s - loss: 0.7414 - accuracy: 0.7380 - val_loss: 1.8387 - val_accuracy: 0.5153 - 1s/epoch - 3ms/step\n",
            "Epoch 70/200\n",
            "391/391 - 1s - loss: 0.7291 - accuracy: 0.7417 - val_loss: 1.9555 - val_accuracy: 0.5011 - 1s/epoch - 3ms/step\n",
            "Epoch 71/200\n",
            "391/391 - 1s - loss: 0.7301 - accuracy: 0.7422 - val_loss: 1.9063 - val_accuracy: 0.5037 - 1s/epoch - 3ms/step\n",
            "Epoch 72/200\n",
            "391/391 - 1s - loss: 0.7164 - accuracy: 0.7455 - val_loss: 1.9962 - val_accuracy: 0.4847 - 1s/epoch - 3ms/step\n",
            "Epoch 73/200\n",
            "391/391 - 1s - loss: 0.7082 - accuracy: 0.7494 - val_loss: 1.9365 - val_accuracy: 0.5059 - 1s/epoch - 3ms/step\n",
            "Epoch 74/200\n",
            "391/391 - 1s - loss: 0.7026 - accuracy: 0.7525 - val_loss: 2.0301 - val_accuracy: 0.4943 - 1s/epoch - 3ms/step\n",
            "Epoch 75/200\n",
            "391/391 - 1s - loss: 0.6959 - accuracy: 0.7533 - val_loss: 2.0273 - val_accuracy: 0.4936 - 1s/epoch - 3ms/step\n",
            "Epoch 76/200\n",
            "391/391 - 1s - loss: 0.6713 - accuracy: 0.7641 - val_loss: 2.0044 - val_accuracy: 0.5033 - 1s/epoch - 3ms/step\n",
            "Epoch 77/200\n",
            "391/391 - 1s - loss: 0.6669 - accuracy: 0.7622 - val_loss: 2.0252 - val_accuracy: 0.4946 - 1s/epoch - 3ms/step\n",
            "Epoch 78/200\n",
            "391/391 - 1s - loss: 0.6615 - accuracy: 0.7665 - val_loss: 2.0957 - val_accuracy: 0.4906 - 1s/epoch - 3ms/step\n",
            "Epoch 79/200\n",
            "391/391 - 1s - loss: 0.6644 - accuracy: 0.7663 - val_loss: 2.0671 - val_accuracy: 0.4982 - 1s/epoch - 3ms/step\n",
            "Epoch 80/200\n",
            "391/391 - 1s - loss: 0.6412 - accuracy: 0.7729 - val_loss: 2.0816 - val_accuracy: 0.4942 - 1s/epoch - 3ms/step\n",
            "Epoch 81/200\n",
            "391/391 - 1s - loss: 0.6326 - accuracy: 0.7761 - val_loss: 2.1035 - val_accuracy: 0.5025 - 1s/epoch - 3ms/step\n",
            "Epoch 82/200\n",
            "391/391 - 1s - loss: 0.6100 - accuracy: 0.7846 - val_loss: 2.1626 - val_accuracy: 0.4932 - 1s/epoch - 3ms/step\n",
            "Epoch 83/200\n",
            "391/391 - 1s - loss: 0.6243 - accuracy: 0.7796 - val_loss: 2.1425 - val_accuracy: 0.5033 - 1s/epoch - 3ms/step\n",
            "Epoch 84/200\n",
            "391/391 - 1s - loss: 0.6122 - accuracy: 0.7830 - val_loss: 2.2515 - val_accuracy: 0.4838 - 1s/epoch - 3ms/step\n",
            "Epoch 85/200\n",
            "391/391 - 1s - loss: 0.5969 - accuracy: 0.7879 - val_loss: 2.2118 - val_accuracy: 0.4954 - 1s/epoch - 3ms/step\n",
            "Epoch 86/200\n",
            "391/391 - 1s - loss: 0.6033 - accuracy: 0.7856 - val_loss: 2.1395 - val_accuracy: 0.5095 - 1s/epoch - 3ms/step\n",
            "Epoch 87/200\n",
            "391/391 - 1s - loss: 0.5824 - accuracy: 0.7959 - val_loss: 2.3284 - val_accuracy: 0.4855 - 1s/epoch - 3ms/step\n",
            "Epoch 88/200\n",
            "391/391 - 1s - loss: 0.5782 - accuracy: 0.7954 - val_loss: 2.1758 - val_accuracy: 0.5075 - 1s/epoch - 3ms/step\n",
            "Epoch 89/200\n",
            "391/391 - 1s - loss: 0.5819 - accuracy: 0.7930 - val_loss: 2.2210 - val_accuracy: 0.5093 - 1s/epoch - 3ms/step\n",
            "Epoch 90/200\n",
            "391/391 - 1s - loss: 0.5678 - accuracy: 0.7969 - val_loss: 2.2091 - val_accuracy: 0.5024 - 1s/epoch - 3ms/step\n",
            "Epoch 91/200\n",
            "391/391 - 1s - loss: 0.5467 - accuracy: 0.8052 - val_loss: 2.2842 - val_accuracy: 0.5034 - 1s/epoch - 3ms/step\n",
            "Epoch 92/200\n",
            "391/391 - 1s - loss: 0.5461 - accuracy: 0.8060 - val_loss: 2.2869 - val_accuracy: 0.5017 - 1s/epoch - 3ms/step\n",
            "Epoch 93/200\n",
            "391/391 - 1s - loss: 0.5657 - accuracy: 0.7983 - val_loss: 2.3092 - val_accuracy: 0.5061 - 1s/epoch - 3ms/step\n",
            "Epoch 94/200\n",
            "391/391 - 1s - loss: 0.5493 - accuracy: 0.8060 - val_loss: 2.3239 - val_accuracy: 0.4999 - 1s/epoch - 3ms/step\n",
            "Epoch 95/200\n",
            "391/391 - 1s - loss: 0.5243 - accuracy: 0.8155 - val_loss: 2.3644 - val_accuracy: 0.5050 - 1s/epoch - 3ms/step\n",
            "Epoch 96/200\n",
            "391/391 - 1s - loss: 0.5281 - accuracy: 0.8137 - val_loss: 2.2911 - val_accuracy: 0.5049 - 1s/epoch - 3ms/step\n",
            "Epoch 97/200\n",
            "391/391 - 1s - loss: 0.5265 - accuracy: 0.8147 - val_loss: 2.3983 - val_accuracy: 0.5027 - 1s/epoch - 3ms/step\n",
            "Epoch 98/200\n",
            "391/391 - 1s - loss: 0.5081 - accuracy: 0.8199 - val_loss: 2.3634 - val_accuracy: 0.5026 - 1s/epoch - 3ms/step\n",
            "Epoch 99/200\n",
            "391/391 - 1s - loss: 0.4971 - accuracy: 0.8257 - val_loss: 2.3803 - val_accuracy: 0.5071 - 1s/epoch - 3ms/step\n",
            "Epoch 100/200\n",
            "391/391 - 1s - loss: 0.5000 - accuracy: 0.8216 - val_loss: 2.3939 - val_accuracy: 0.5035 - 1s/epoch - 3ms/step\n",
            "Epoch 101/200\n",
            "391/391 - 1s - loss: 0.5030 - accuracy: 0.8213 - val_loss: 2.3953 - val_accuracy: 0.5032 - 1s/epoch - 3ms/step\n",
            "Epoch 102/200\n",
            "391/391 - 1s - loss: 0.5086 - accuracy: 0.8173 - val_loss: 2.4959 - val_accuracy: 0.5007 - 1s/epoch - 3ms/step\n",
            "Epoch 103/200\n",
            "391/391 - 1s - loss: 0.4664 - accuracy: 0.8352 - val_loss: 2.5899 - val_accuracy: 0.4945 - 1s/epoch - 3ms/step\n",
            "Epoch 104/200\n",
            "391/391 - 1s - loss: 0.4947 - accuracy: 0.8251 - val_loss: 2.5524 - val_accuracy: 0.4836 - 1s/epoch - 3ms/step\n",
            "Epoch 105/200\n",
            "391/391 - 1s - loss: 0.4683 - accuracy: 0.8342 - val_loss: 2.5460 - val_accuracy: 0.5004 - 1s/epoch - 3ms/step\n",
            "Epoch 106/200\n",
            "391/391 - 1s - loss: 0.4612 - accuracy: 0.8365 - val_loss: 2.4763 - val_accuracy: 0.5064 - 1s/epoch - 3ms/step\n",
            "Epoch 107/200\n",
            "391/391 - 1s - loss: 0.4559 - accuracy: 0.8387 - val_loss: 2.4883 - val_accuracy: 0.5006 - 1s/epoch - 3ms/step\n",
            "Epoch 108/200\n",
            "391/391 - 1s - loss: 0.4531 - accuracy: 0.8397 - val_loss: 2.5472 - val_accuracy: 0.5041 - 1s/epoch - 3ms/step\n",
            "Epoch 109/200\n",
            "391/391 - 1s - loss: 0.4594 - accuracy: 0.8372 - val_loss: 2.6267 - val_accuracy: 0.5001 - 1s/epoch - 3ms/step\n",
            "Epoch 110/200\n",
            "391/391 - 1s - loss: 0.4428 - accuracy: 0.8438 - val_loss: 2.5776 - val_accuracy: 0.5001 - 1s/epoch - 3ms/step\n",
            "Epoch 111/200\n",
            "391/391 - 1s - loss: 0.4401 - accuracy: 0.8432 - val_loss: 2.6691 - val_accuracy: 0.5025 - 1s/epoch - 3ms/step\n",
            "Epoch 112/200\n",
            "391/391 - 1s - loss: 0.4263 - accuracy: 0.8476 - val_loss: 2.7727 - val_accuracy: 0.4851 - 1s/epoch - 3ms/step\n",
            "Epoch 113/200\n",
            "391/391 - 1s - loss: 0.4307 - accuracy: 0.8481 - val_loss: 2.6723 - val_accuracy: 0.5024 - 1s/epoch - 3ms/step\n",
            "Epoch 114/200\n",
            "391/391 - 1s - loss: 0.4227 - accuracy: 0.8502 - val_loss: 2.7291 - val_accuracy: 0.4990 - 1s/epoch - 3ms/step\n",
            "Epoch 115/200\n",
            "391/391 - 1s - loss: 0.4029 - accuracy: 0.8568 - val_loss: 2.7832 - val_accuracy: 0.5032 - 1s/epoch - 3ms/step\n",
            "Epoch 116/200\n",
            "391/391 - 1s - loss: 0.4047 - accuracy: 0.8562 - val_loss: 2.8563 - val_accuracy: 0.4866 - 1s/epoch - 3ms/step\n",
            "Epoch 117/200\n",
            "391/391 - 1s - loss: 0.4189 - accuracy: 0.8522 - val_loss: 2.8463 - val_accuracy: 0.5034 - 1s/epoch - 3ms/step\n",
            "Epoch 118/200\n",
            "391/391 - 1s - loss: 0.4097 - accuracy: 0.8552 - val_loss: 2.7249 - val_accuracy: 0.5038 - 1s/epoch - 3ms/step\n",
            "Epoch 119/200\n",
            "391/391 - 1s - loss: 0.3964 - accuracy: 0.8591 - val_loss: 2.8031 - val_accuracy: 0.5064 - 1s/epoch - 3ms/step\n",
            "Epoch 120/200\n",
            "391/391 - 1s - loss: 0.3875 - accuracy: 0.8638 - val_loss: 2.8353 - val_accuracy: 0.5031 - 1s/epoch - 3ms/step\n",
            "Epoch 121/200\n",
            "391/391 - 1s - loss: 0.3973 - accuracy: 0.8599 - val_loss: 2.9786 - val_accuracy: 0.4845 - 1s/epoch - 3ms/step\n",
            "Epoch 122/200\n",
            "391/391 - 1s - loss: 0.4006 - accuracy: 0.8575 - val_loss: 2.8079 - val_accuracy: 0.4968 - 1s/epoch - 3ms/step\n",
            "Epoch 123/200\n",
            "391/391 - 1s - loss: 0.3910 - accuracy: 0.8607 - val_loss: 2.9205 - val_accuracy: 0.5007 - 1s/epoch - 3ms/step\n",
            "Epoch 124/200\n",
            "391/391 - 1s - loss: 0.3746 - accuracy: 0.8666 - val_loss: 2.9457 - val_accuracy: 0.5056 - 1s/epoch - 3ms/step\n",
            "Epoch 125/200\n",
            "391/391 - 1s - loss: 0.3715 - accuracy: 0.8690 - val_loss: 2.8558 - val_accuracy: 0.5054 - 1s/epoch - 3ms/step\n",
            "Epoch 126/200\n",
            "391/391 - 1s - loss: 0.3515 - accuracy: 0.8754 - val_loss: 2.9404 - val_accuracy: 0.5028 - 1s/epoch - 3ms/step\n",
            "Epoch 127/200\n",
            "391/391 - 1s - loss: 0.3594 - accuracy: 0.8720 - val_loss: 3.0495 - val_accuracy: 0.4960 - 1s/epoch - 3ms/step\n",
            "Epoch 128/200\n",
            "391/391 - 1s - loss: 0.3756 - accuracy: 0.8672 - val_loss: 3.1510 - val_accuracy: 0.4966 - 1s/epoch - 3ms/step\n",
            "Epoch 129/200\n",
            "391/391 - 1s - loss: 0.3577 - accuracy: 0.8733 - val_loss: 3.0356 - val_accuracy: 0.5009 - 1s/epoch - 3ms/step\n",
            "Epoch 130/200\n",
            "391/391 - 1s - loss: 0.3524 - accuracy: 0.8762 - val_loss: 3.0415 - val_accuracy: 0.5018 - 1s/epoch - 3ms/step\n",
            "Epoch 131/200\n",
            "391/391 - 1s - loss: 0.3450 - accuracy: 0.8770 - val_loss: 3.1126 - val_accuracy: 0.4872 - 1s/epoch - 3ms/step\n",
            "Epoch 132/200\n",
            "391/391 - 1s - loss: 0.3483 - accuracy: 0.8767 - val_loss: 3.0724 - val_accuracy: 0.5000 - 1s/epoch - 3ms/step\n",
            "Epoch 133/200\n",
            "391/391 - 1s - loss: 0.3617 - accuracy: 0.8735 - val_loss: 3.0292 - val_accuracy: 0.5062 - 1s/epoch - 3ms/step\n",
            "Epoch 134/200\n",
            "391/391 - 1s - loss: 0.3277 - accuracy: 0.8830 - val_loss: 3.1102 - val_accuracy: 0.5035 - 1s/epoch - 3ms/step\n",
            "Epoch 135/200\n",
            "391/391 - 1s - loss: 0.3219 - accuracy: 0.8866 - val_loss: 3.1908 - val_accuracy: 0.4972 - 1s/epoch - 3ms/step\n",
            "Epoch 136/200\n",
            "391/391 - 1s - loss: 0.3366 - accuracy: 0.8819 - val_loss: 3.0933 - val_accuracy: 0.5067 - 1s/epoch - 3ms/step\n",
            "Epoch 137/200\n",
            "391/391 - 1s - loss: 0.3254 - accuracy: 0.8836 - val_loss: 3.1882 - val_accuracy: 0.5007 - 1s/epoch - 3ms/step\n",
            "Epoch 138/200\n",
            "391/391 - 2s - loss: 0.3250 - accuracy: 0.8856 - val_loss: 3.2715 - val_accuracy: 0.4942 - 2s/epoch - 4ms/step\n",
            "Epoch 139/200\n",
            "391/391 - 2s - loss: 0.3233 - accuracy: 0.8861 - val_loss: 3.1709 - val_accuracy: 0.4996 - 2s/epoch - 4ms/step\n",
            "Epoch 140/200\n",
            "391/391 - 1s - loss: 0.3246 - accuracy: 0.8846 - val_loss: 3.2165 - val_accuracy: 0.4989 - 1s/epoch - 3ms/step\n",
            "Epoch 141/200\n",
            "391/391 - 1s - loss: 0.3332 - accuracy: 0.8825 - val_loss: 3.3320 - val_accuracy: 0.4959 - 1s/epoch - 3ms/step\n",
            "Epoch 142/200\n",
            "391/391 - 1s - loss: 0.3185 - accuracy: 0.8880 - val_loss: 3.4217 - val_accuracy: 0.4881 - 1s/epoch - 3ms/step\n",
            "Epoch 143/200\n",
            "391/391 - 1s - loss: 0.3029 - accuracy: 0.8938 - val_loss: 3.3812 - val_accuracy: 0.4922 - 1s/epoch - 3ms/step\n",
            "Epoch 144/200\n",
            "391/391 - 1s - loss: 0.3116 - accuracy: 0.8914 - val_loss: 3.3390 - val_accuracy: 0.4951 - 1s/epoch - 3ms/step\n",
            "Epoch 145/200\n",
            "391/391 - 1s - loss: 0.2984 - accuracy: 0.8952 - val_loss: 3.3482 - val_accuracy: 0.4995 - 1s/epoch - 3ms/step\n",
            "Epoch 146/200\n",
            "391/391 - 1s - loss: 0.2971 - accuracy: 0.8954 - val_loss: 3.5174 - val_accuracy: 0.4920 - 1s/epoch - 3ms/step\n",
            "Epoch 147/200\n",
            "391/391 - 1s - loss: 0.3014 - accuracy: 0.8942 - val_loss: 3.4548 - val_accuracy: 0.4940 - 1s/epoch - 3ms/step\n",
            "Epoch 148/200\n",
            "391/391 - 1s - loss: 0.2786 - accuracy: 0.9021 - val_loss: 3.4006 - val_accuracy: 0.5050 - 1s/epoch - 3ms/step\n",
            "Epoch 149/200\n",
            "391/391 - 1s - loss: 0.3066 - accuracy: 0.8920 - val_loss: 3.5085 - val_accuracy: 0.4921 - 1s/epoch - 3ms/step\n",
            "Epoch 150/200\n",
            "391/391 - 1s - loss: 0.2882 - accuracy: 0.8977 - val_loss: 3.4789 - val_accuracy: 0.4987 - 1s/epoch - 3ms/step\n",
            "Epoch 151/200\n",
            "391/391 - 1s - loss: 0.2650 - accuracy: 0.9065 - val_loss: 3.4340 - val_accuracy: 0.5076 - 1s/epoch - 3ms/step\n",
            "Epoch 152/200\n",
            "391/391 - 1s - loss: 0.2917 - accuracy: 0.8962 - val_loss: 3.5141 - val_accuracy: 0.4959 - 1s/epoch - 3ms/step\n",
            "Epoch 153/200\n",
            "391/391 - 1s - loss: 0.2854 - accuracy: 0.8993 - val_loss: 3.4544 - val_accuracy: 0.5015 - 1s/epoch - 3ms/step\n",
            "Epoch 154/200\n",
            "391/391 - 1s - loss: 0.2832 - accuracy: 0.9019 - val_loss: 3.5626 - val_accuracy: 0.5007 - 1s/epoch - 3ms/step\n",
            "Epoch 155/200\n",
            "391/391 - 1s - loss: 0.2746 - accuracy: 0.9035 - val_loss: 3.4856 - val_accuracy: 0.4942 - 1s/epoch - 3ms/step\n",
            "Epoch 156/200\n",
            "391/391 - 1s - loss: 0.2766 - accuracy: 0.9042 - val_loss: 3.5546 - val_accuracy: 0.4997 - 1s/epoch - 3ms/step\n",
            "Epoch 157/200\n",
            "391/391 - 1s - loss: 0.2770 - accuracy: 0.9020 - val_loss: 3.6058 - val_accuracy: 0.4985 - 1s/epoch - 3ms/step\n",
            "Epoch 158/200\n",
            "391/391 - 1s - loss: 0.2574 - accuracy: 0.9090 - val_loss: 3.6870 - val_accuracy: 0.4955 - 1s/epoch - 3ms/step\n",
            "Epoch 159/200\n",
            "391/391 - 1s - loss: 0.2675 - accuracy: 0.9051 - val_loss: 3.6771 - val_accuracy: 0.4909 - 1s/epoch - 3ms/step\n",
            "Epoch 160/200\n",
            "391/391 - 1s - loss: 0.2750 - accuracy: 0.9038 - val_loss: 3.6952 - val_accuracy: 0.4897 - 1s/epoch - 3ms/step\n",
            "Epoch 161/200\n",
            "391/391 - 1s - loss: 0.2561 - accuracy: 0.9073 - val_loss: 3.7190 - val_accuracy: 0.5017 - 1s/epoch - 3ms/step\n",
            "Epoch 162/200\n",
            "391/391 - 1s - loss: 0.2950 - accuracy: 0.8951 - val_loss: 3.7600 - val_accuracy: 0.4902 - 1s/epoch - 3ms/step\n",
            "Epoch 163/200\n",
            "391/391 - 1s - loss: 0.2500 - accuracy: 0.9121 - val_loss: 3.6113 - val_accuracy: 0.4914 - 1s/epoch - 3ms/step\n",
            "Epoch 164/200\n",
            "391/391 - 1s - loss: 0.2526 - accuracy: 0.9098 - val_loss: 3.6906 - val_accuracy: 0.4950 - 1s/epoch - 3ms/step\n",
            "Epoch 165/200\n",
            "391/391 - 2s - loss: 0.2339 - accuracy: 0.9167 - val_loss: 3.6997 - val_accuracy: 0.5042 - 2s/epoch - 4ms/step\n",
            "Epoch 166/200\n",
            "391/391 - 2s - loss: 0.2479 - accuracy: 0.9130 - val_loss: 3.6937 - val_accuracy: 0.4937 - 2s/epoch - 4ms/step\n",
            "Epoch 167/200\n",
            "391/391 - 1s - loss: 0.2803 - accuracy: 0.9014 - val_loss: 3.8071 - val_accuracy: 0.4994 - 1s/epoch - 3ms/step\n",
            "Epoch 168/200\n",
            "391/391 - 1s - loss: 0.2498 - accuracy: 0.9125 - val_loss: 3.7221 - val_accuracy: 0.4998 - 1s/epoch - 3ms/step\n",
            "Epoch 169/200\n",
            "391/391 - 1s - loss: 0.2298 - accuracy: 0.9189 - val_loss: 4.0073 - val_accuracy: 0.4846 - 1s/epoch - 3ms/step\n",
            "Epoch 170/200\n",
            "391/391 - 1s - loss: 0.2665 - accuracy: 0.9064 - val_loss: 3.8467 - val_accuracy: 0.4968 - 1s/epoch - 3ms/step\n",
            "Epoch 171/200\n",
            "391/391 - 1s - loss: 0.2254 - accuracy: 0.9207 - val_loss: 3.9582 - val_accuracy: 0.4902 - 1s/epoch - 3ms/step\n",
            "Epoch 172/200\n",
            "391/391 - 1s - loss: 0.2597 - accuracy: 0.9083 - val_loss: 3.7297 - val_accuracy: 0.5034 - 1s/epoch - 3ms/step\n",
            "Epoch 173/200\n",
            "391/391 - 1s - loss: 0.2414 - accuracy: 0.9161 - val_loss: 3.8108 - val_accuracy: 0.4996 - 1s/epoch - 3ms/step\n",
            "Epoch 174/200\n",
            "391/391 - 1s - loss: 0.2105 - accuracy: 0.9259 - val_loss: 3.9032 - val_accuracy: 0.4951 - 1s/epoch - 3ms/step\n",
            "Epoch 175/200\n",
            "391/391 - 1s - loss: 0.2162 - accuracy: 0.9238 - val_loss: 3.9376 - val_accuracy: 0.5002 - 1s/epoch - 3ms/step\n",
            "Epoch 176/200\n",
            "391/391 - 1s - loss: 0.2362 - accuracy: 0.9177 - val_loss: 4.0446 - val_accuracy: 0.4868 - 1s/epoch - 3ms/step\n",
            "Epoch 177/200\n",
            "391/391 - 1s - loss: 0.2543 - accuracy: 0.9112 - val_loss: 3.9677 - val_accuracy: 0.4964 - 1s/epoch - 3ms/step\n",
            "Epoch 178/200\n",
            "391/391 - 1s - loss: 0.2286 - accuracy: 0.9191 - val_loss: 3.9314 - val_accuracy: 0.4953 - 1s/epoch - 3ms/step\n",
            "Epoch 179/200\n",
            "391/391 - 1s - loss: 0.2285 - accuracy: 0.9193 - val_loss: 3.9403 - val_accuracy: 0.4981 - 1s/epoch - 3ms/step\n",
            "Epoch 180/200\n",
            "391/391 - 1s - loss: 0.1972 - accuracy: 0.9308 - val_loss: 4.0769 - val_accuracy: 0.4939 - 1s/epoch - 3ms/step\n",
            "Epoch 181/200\n",
            "391/391 - 1s - loss: 0.2212 - accuracy: 0.9223 - val_loss: 4.2253 - val_accuracy: 0.4707 - 1s/epoch - 3ms/step\n",
            "Epoch 182/200\n",
            "391/391 - 1s - loss: 0.2595 - accuracy: 0.9078 - val_loss: 3.9625 - val_accuracy: 0.5000 - 1s/epoch - 3ms/step\n",
            "Epoch 183/200\n",
            "391/391 - 1s - loss: 0.1970 - accuracy: 0.9303 - val_loss: 4.0951 - val_accuracy: 0.5044 - 1s/epoch - 3ms/step\n",
            "Epoch 184/200\n",
            "391/391 - 1s - loss: 0.2086 - accuracy: 0.9271 - val_loss: 4.1532 - val_accuracy: 0.4943 - 1s/epoch - 3ms/step\n",
            "Epoch 185/200\n",
            "391/391 - 1s - loss: 0.2374 - accuracy: 0.9164 - val_loss: 3.9694 - val_accuracy: 0.5052 - 1s/epoch - 3ms/step\n",
            "Epoch 186/200\n",
            "391/391 - 1s - loss: 0.2281 - accuracy: 0.9198 - val_loss: 4.0115 - val_accuracy: 0.4888 - 1s/epoch - 3ms/step\n",
            "Epoch 187/200\n",
            "391/391 - 1s - loss: 0.2150 - accuracy: 0.9244 - val_loss: 4.1088 - val_accuracy: 0.4959 - 1s/epoch - 3ms/step\n",
            "Epoch 188/200\n",
            "391/391 - 1s - loss: 0.2167 - accuracy: 0.9236 - val_loss: 4.1142 - val_accuracy: 0.4999 - 1s/epoch - 3ms/step\n",
            "Epoch 189/200\n",
            "391/391 - 1s - loss: 0.1899 - accuracy: 0.9328 - val_loss: 4.1183 - val_accuracy: 0.5007 - 1s/epoch - 3ms/step\n",
            "Epoch 190/200\n",
            "391/391 - 1s - loss: 0.2160 - accuracy: 0.9243 - val_loss: 4.1675 - val_accuracy: 0.4973 - 1s/epoch - 3ms/step\n",
            "Epoch 191/200\n",
            "391/391 - 1s - loss: 0.2201 - accuracy: 0.9229 - val_loss: 4.1706 - val_accuracy: 0.4848 - 1s/epoch - 3ms/step\n",
            "Epoch 192/200\n",
            "391/391 - 1s - loss: 0.1874 - accuracy: 0.9342 - val_loss: 4.1128 - val_accuracy: 0.4993 - 1s/epoch - 3ms/step\n",
            "Epoch 193/200\n",
            "391/391 - 1s - loss: 0.1926 - accuracy: 0.9321 - val_loss: 4.3840 - val_accuracy: 0.4820 - 1s/epoch - 3ms/step\n",
            "Epoch 194/200\n",
            "391/391 - 1s - loss: 0.2013 - accuracy: 0.9286 - val_loss: 4.3437 - val_accuracy: 0.4844 - 1s/epoch - 3ms/step\n",
            "Epoch 195/200\n",
            "391/391 - 1s - loss: 0.2444 - accuracy: 0.9140 - val_loss: 4.2573 - val_accuracy: 0.4850 - 1s/epoch - 3ms/step\n",
            "Epoch 196/200\n",
            "391/391 - 1s - loss: 0.1793 - accuracy: 0.9360 - val_loss: 4.2473 - val_accuracy: 0.5006 - 1s/epoch - 3ms/step\n",
            "Epoch 197/200\n",
            "391/391 - 1s - loss: 0.1926 - accuracy: 0.9335 - val_loss: 4.1710 - val_accuracy: 0.4954 - 1s/epoch - 3ms/step\n",
            "Epoch 198/200\n",
            "391/391 - 1s - loss: 0.2282 - accuracy: 0.9199 - val_loss: 4.2190 - val_accuracy: 0.4952 - 1s/epoch - 3ms/step\n",
            "Epoch 199/200\n",
            "391/391 - 1s - loss: 0.1807 - accuracy: 0.9360 - val_loss: 4.4885 - val_accuracy: 0.4860 - 1s/epoch - 3ms/step\n",
            "Epoch 200/200\n",
            "391/391 - 1s - loss: 0.1728 - accuracy: 0.9401 - val_loss: 4.3276 - val_accuracy: 0.4943 - 1s/epoch - 3ms/step\n"
          ]
        },
        {
          "output_type": "execute_result",
          "data": {
            "text/plain": [
              "<keras.callbacks.History at 0x7fa8e672c510>"
            ]
          },
          "metadata": {},
          "execution_count": 38
        }
      ]
    },
    {
      "cell_type": "code",
      "source": [
        "## 어떤 Hyper-parameter setting에서 최고의 성능이 나왔나요?\n",
        "# evaluate\n",
        "\n",
        "loss, acc = model.evaluate(X_test, y_test, batch_size=batch_size)\n",
        "print(\"Loss : %4.f, Test Accuracy : %.4f\" % (loss, acc))"
      ],
      "metadata": {
        "colab": {
          "base_uri": "https://localhost:8080/"
        },
        "id": "e0n4eErPuCls",
        "outputId": "d6f79bb7-1c0c-4a90-d025-ab0acf5e8f34"
      },
      "execution_count": null,
      "outputs": [
        {
          "output_type": "stream",
          "name": "stdout",
          "text": [
            "79/79 [==============================] - 0s 3ms/step - loss: 4.3276 - accuracy: 0.4943\n",
            "Loss :    4, Test Accuracy : 0.4943\n"
          ]
        }
      ]
    },
    {
      "cell_type": "code",
      "source": [
        "\"\"\"\n",
        "오버핏팅이 되면 optimizer, batch_size를 바꾸고\n",
        "언더핏팅이 되면 모델을 바꾸는게 효율적이다\n",
        "\"\"\""
      ],
      "metadata": {
        "id": "yBo3mMnI9-tY"
      },
      "execution_count": null,
      "outputs": []
    }
  ]
}