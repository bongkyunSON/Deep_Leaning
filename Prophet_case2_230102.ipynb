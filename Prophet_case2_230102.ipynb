{
  "nbformat": 4,
  "nbformat_minor": 0,
  "metadata": {
    "colab": {
      "provenance": [],
      "mount_file_id": "1e3W7x3hJL4HgfpEGJjZY3-7dIngiqfCv",
      "authorship_tag": "ABX9TyN9dU82yrJmg9PsGuyca50I",
      "include_colab_link": true
    },
    "kernelspec": {
      "name": "python3",
      "display_name": "Python 3"
    },
    "language_info": {
      "name": "python"
    },
    "widgets": {
      "application/vnd.jupyter.widget-state+json": {
        "02575dd7243f4ac7a6dbd8fe13667fdf": {
          "model_module": "@jupyter-widgets/controls",
          "model_name": "HBoxModel",
          "model_module_version": "1.5.0",
          "state": {
            "_dom_classes": [],
            "_model_module": "@jupyter-widgets/controls",
            "_model_module_version": "1.5.0",
            "_model_name": "HBoxModel",
            "_view_count": null,
            "_view_module": "@jupyter-widgets/controls",
            "_view_module_version": "1.5.0",
            "_view_name": "HBoxView",
            "box_style": "",
            "children": [
              "IPY_MODEL_baf2d7b6e95c48a8be430c3628ae7141",
              "IPY_MODEL_d236d0ea413746e8b65d553de593e76b",
              "IPY_MODEL_09e1c5cb766c4d1da691691ff9f43b10"
            ],
            "layout": "IPY_MODEL_42346d0dc6bf45eba03b09aabf801fd3"
          }
        },
        "baf2d7b6e95c48a8be430c3628ae7141": {
          "model_module": "@jupyter-widgets/controls",
          "model_name": "HTMLModel",
          "model_module_version": "1.5.0",
          "state": {
            "_dom_classes": [],
            "_model_module": "@jupyter-widgets/controls",
            "_model_module_version": "1.5.0",
            "_model_name": "HTMLModel",
            "_view_count": null,
            "_view_module": "@jupyter-widgets/controls",
            "_view_module_version": "1.5.0",
            "_view_name": "HTMLView",
            "description": "",
            "description_tooltip": null,
            "layout": "IPY_MODEL_2df4ba8267244f29922239f49a434516",
            "placeholder": "​",
            "style": "IPY_MODEL_78ddb2e4751d4570a1b5e7fa799308a8",
            "value": "100%"
          }
        },
        "d236d0ea413746e8b65d553de593e76b": {
          "model_module": "@jupyter-widgets/controls",
          "model_name": "FloatProgressModel",
          "model_module_version": "1.5.0",
          "state": {
            "_dom_classes": [],
            "_model_module": "@jupyter-widgets/controls",
            "_model_module_version": "1.5.0",
            "_model_name": "FloatProgressModel",
            "_view_count": null,
            "_view_module": "@jupyter-widgets/controls",
            "_view_module_version": "1.5.0",
            "_view_name": "ProgressView",
            "bar_style": "success",
            "description": "",
            "description_tooltip": null,
            "layout": "IPY_MODEL_306c1ce3e8f043a5903421fecf3e0ae3",
            "max": 2,
            "min": 0,
            "orientation": "horizontal",
            "style": "IPY_MODEL_c257ec33c16d4dd08e7be1aac2099cab",
            "value": 2
          }
        },
        "09e1c5cb766c4d1da691691ff9f43b10": {
          "model_module": "@jupyter-widgets/controls",
          "model_name": "HTMLModel",
          "model_module_version": "1.5.0",
          "state": {
            "_dom_classes": [],
            "_model_module": "@jupyter-widgets/controls",
            "_model_module_version": "1.5.0",
            "_model_name": "HTMLModel",
            "_view_count": null,
            "_view_module": "@jupyter-widgets/controls",
            "_view_module_version": "1.5.0",
            "_view_name": "HTMLView",
            "description": "",
            "description_tooltip": null,
            "layout": "IPY_MODEL_ce5a85e94e4b44dabc2eb9dfb90ccbe5",
            "placeholder": "​",
            "style": "IPY_MODEL_c4c8d0ea8b0a4539b897b46e70e744f1",
            "value": " 2/2 [00:13&lt;00:00,  5.76s/it]"
          }
        },
        "42346d0dc6bf45eba03b09aabf801fd3": {
          "model_module": "@jupyter-widgets/base",
          "model_name": "LayoutModel",
          "model_module_version": "1.2.0",
          "state": {
            "_model_module": "@jupyter-widgets/base",
            "_model_module_version": "1.2.0",
            "_model_name": "LayoutModel",
            "_view_count": null,
            "_view_module": "@jupyter-widgets/base",
            "_view_module_version": "1.2.0",
            "_view_name": "LayoutView",
            "align_content": null,
            "align_items": null,
            "align_self": null,
            "border": null,
            "bottom": null,
            "display": null,
            "flex": null,
            "flex_flow": null,
            "grid_area": null,
            "grid_auto_columns": null,
            "grid_auto_flow": null,
            "grid_auto_rows": null,
            "grid_column": null,
            "grid_gap": null,
            "grid_row": null,
            "grid_template_areas": null,
            "grid_template_columns": null,
            "grid_template_rows": null,
            "height": null,
            "justify_content": null,
            "justify_items": null,
            "left": null,
            "margin": null,
            "max_height": null,
            "max_width": null,
            "min_height": null,
            "min_width": null,
            "object_fit": null,
            "object_position": null,
            "order": null,
            "overflow": null,
            "overflow_x": null,
            "overflow_y": null,
            "padding": null,
            "right": null,
            "top": null,
            "visibility": null,
            "width": null
          }
        },
        "2df4ba8267244f29922239f49a434516": {
          "model_module": "@jupyter-widgets/base",
          "model_name": "LayoutModel",
          "model_module_version": "1.2.0",
          "state": {
            "_model_module": "@jupyter-widgets/base",
            "_model_module_version": "1.2.0",
            "_model_name": "LayoutModel",
            "_view_count": null,
            "_view_module": "@jupyter-widgets/base",
            "_view_module_version": "1.2.0",
            "_view_name": "LayoutView",
            "align_content": null,
            "align_items": null,
            "align_self": null,
            "border": null,
            "bottom": null,
            "display": null,
            "flex": null,
            "flex_flow": null,
            "grid_area": null,
            "grid_auto_columns": null,
            "grid_auto_flow": null,
            "grid_auto_rows": null,
            "grid_column": null,
            "grid_gap": null,
            "grid_row": null,
            "grid_template_areas": null,
            "grid_template_columns": null,
            "grid_template_rows": null,
            "height": null,
            "justify_content": null,
            "justify_items": null,
            "left": null,
            "margin": null,
            "max_height": null,
            "max_width": null,
            "min_height": null,
            "min_width": null,
            "object_fit": null,
            "object_position": null,
            "order": null,
            "overflow": null,
            "overflow_x": null,
            "overflow_y": null,
            "padding": null,
            "right": null,
            "top": null,
            "visibility": null,
            "width": null
          }
        },
        "78ddb2e4751d4570a1b5e7fa799308a8": {
          "model_module": "@jupyter-widgets/controls",
          "model_name": "DescriptionStyleModel",
          "model_module_version": "1.5.0",
          "state": {
            "_model_module": "@jupyter-widgets/controls",
            "_model_module_version": "1.5.0",
            "_model_name": "DescriptionStyleModel",
            "_view_count": null,
            "_view_module": "@jupyter-widgets/base",
            "_view_module_version": "1.2.0",
            "_view_name": "StyleView",
            "description_width": ""
          }
        },
        "306c1ce3e8f043a5903421fecf3e0ae3": {
          "model_module": "@jupyter-widgets/base",
          "model_name": "LayoutModel",
          "model_module_version": "1.2.0",
          "state": {
            "_model_module": "@jupyter-widgets/base",
            "_model_module_version": "1.2.0",
            "_model_name": "LayoutModel",
            "_view_count": null,
            "_view_module": "@jupyter-widgets/base",
            "_view_module_version": "1.2.0",
            "_view_name": "LayoutView",
            "align_content": null,
            "align_items": null,
            "align_self": null,
            "border": null,
            "bottom": null,
            "display": null,
            "flex": null,
            "flex_flow": null,
            "grid_area": null,
            "grid_auto_columns": null,
            "grid_auto_flow": null,
            "grid_auto_rows": null,
            "grid_column": null,
            "grid_gap": null,
            "grid_row": null,
            "grid_template_areas": null,
            "grid_template_columns": null,
            "grid_template_rows": null,
            "height": null,
            "justify_content": null,
            "justify_items": null,
            "left": null,
            "margin": null,
            "max_height": null,
            "max_width": null,
            "min_height": null,
            "min_width": null,
            "object_fit": null,
            "object_position": null,
            "order": null,
            "overflow": null,
            "overflow_x": null,
            "overflow_y": null,
            "padding": null,
            "right": null,
            "top": null,
            "visibility": null,
            "width": null
          }
        },
        "c257ec33c16d4dd08e7be1aac2099cab": {
          "model_module": "@jupyter-widgets/controls",
          "model_name": "ProgressStyleModel",
          "model_module_version": "1.5.0",
          "state": {
            "_model_module": "@jupyter-widgets/controls",
            "_model_module_version": "1.5.0",
            "_model_name": "ProgressStyleModel",
            "_view_count": null,
            "_view_module": "@jupyter-widgets/base",
            "_view_module_version": "1.2.0",
            "_view_name": "StyleView",
            "bar_color": null,
            "description_width": ""
          }
        },
        "ce5a85e94e4b44dabc2eb9dfb90ccbe5": {
          "model_module": "@jupyter-widgets/base",
          "model_name": "LayoutModel",
          "model_module_version": "1.2.0",
          "state": {
            "_model_module": "@jupyter-widgets/base",
            "_model_module_version": "1.2.0",
            "_model_name": "LayoutModel",
            "_view_count": null,
            "_view_module": "@jupyter-widgets/base",
            "_view_module_version": "1.2.0",
            "_view_name": "LayoutView",
            "align_content": null,
            "align_items": null,
            "align_self": null,
            "border": null,
            "bottom": null,
            "display": null,
            "flex": null,
            "flex_flow": null,
            "grid_area": null,
            "grid_auto_columns": null,
            "grid_auto_flow": null,
            "grid_auto_rows": null,
            "grid_column": null,
            "grid_gap": null,
            "grid_row": null,
            "grid_template_areas": null,
            "grid_template_columns": null,
            "grid_template_rows": null,
            "height": null,
            "justify_content": null,
            "justify_items": null,
            "left": null,
            "margin": null,
            "max_height": null,
            "max_width": null,
            "min_height": null,
            "min_width": null,
            "object_fit": null,
            "object_position": null,
            "order": null,
            "overflow": null,
            "overflow_x": null,
            "overflow_y": null,
            "padding": null,
            "right": null,
            "top": null,
            "visibility": null,
            "width": null
          }
        },
        "c4c8d0ea8b0a4539b897b46e70e744f1": {
          "model_module": "@jupyter-widgets/controls",
          "model_name": "DescriptionStyleModel",
          "model_module_version": "1.5.0",
          "state": {
            "_model_module": "@jupyter-widgets/controls",
            "_model_module_version": "1.5.0",
            "_model_name": "DescriptionStyleModel",
            "_view_count": null,
            "_view_module": "@jupyter-widgets/base",
            "_view_module_version": "1.2.0",
            "_view_name": "StyleView",
            "description_width": ""
          }
        }
      }
    }
  },
  "cells": [
    {
      "cell_type": "markdown",
      "metadata": {
        "id": "view-in-github",
        "colab_type": "text"
      },
      "source": [
        "<a href=\"https://colab.research.google.com/github/bongkyunSON/Deep_Leaning/blob/main/Prophet_case2_230102.ipynb\" target=\"_parent\"><img src=\"https://colab.research.google.com/assets/colab-badge.svg\" alt=\"Open In Colab\"/></a>"
      ]
    },
    {
      "cell_type": "markdown",
      "source": [
        "# Covid Spread Forecasting Using Fb Prophet"
      ],
      "metadata": {
        "id": "FisypV843_Pu"
      }
    },
    {
      "cell_type": "code",
      "execution_count": null,
      "metadata": {
        "colab": {
          "base_uri": "https://localhost:8080/"
        },
        "id": "UWKNHsDq3xHT",
        "outputId": "49dff497-ed29-4a39-e2f0-88c8ba05ead1"
      },
      "outputs": [
        {
          "output_type": "stream",
          "name": "stdout",
          "text": [
            "Looking in indexes: https://pypi.org/simple, https://us-python.pkg.dev/colab-wheels/public/simple/\n",
            "Requirement already satisfied: pandas in /usr/local/lib/python3.8/dist-packages (1.3.5)\n",
            "Requirement already satisfied: pytz>=2017.3 in /usr/local/lib/python3.8/dist-packages (from pandas) (2022.6)\n",
            "Requirement already satisfied: python-dateutil>=2.7.3 in /usr/local/lib/python3.8/dist-packages (from pandas) (2.8.2)\n",
            "Requirement already satisfied: numpy>=1.17.3 in /usr/local/lib/python3.8/dist-packages (from pandas) (1.21.6)\n",
            "Requirement already satisfied: six>=1.5 in /usr/local/lib/python3.8/dist-packages (from python-dateutil>=2.7.3->pandas) (1.15.0)\n",
            "Looking in indexes: https://pypi.org/simple, https://us-python.pkg.dev/colab-wheels/public/simple/\n",
            "Requirement already satisfied: numpy in /usr/local/lib/python3.8/dist-packages (1.21.6)\n",
            "Looking in indexes: https://pypi.org/simple, https://us-python.pkg.dev/colab-wheels/public/simple/\n",
            "Requirement already satisfied: prophet in /usr/local/lib/python3.8/dist-packages (1.1.1)\n",
            "Requirement already satisfied: cmdstanpy>=1.0.4 in /usr/local/lib/python3.8/dist-packages (from prophet) (1.0.8)\n",
            "Requirement already satisfied: python-dateutil>=2.8.0 in /usr/local/lib/python3.8/dist-packages (from prophet) (2.8.2)\n",
            "Requirement already satisfied: holidays>=0.14.2 in /usr/local/lib/python3.8/dist-packages (from prophet) (0.17.2)\n",
            "Requirement already satisfied: pandas>=1.0.4 in /usr/local/lib/python3.8/dist-packages (from prophet) (1.3.5)\n",
            "Requirement already satisfied: LunarCalendar>=0.0.9 in /usr/local/lib/python3.8/dist-packages (from prophet) (0.0.9)\n",
            "Requirement already satisfied: setuptools>=42 in /usr/local/lib/python3.8/dist-packages (from prophet) (57.4.0)\n",
            "Requirement already satisfied: numpy>=1.15.4 in /usr/local/lib/python3.8/dist-packages (from prophet) (1.21.6)\n",
            "Requirement already satisfied: matplotlib>=2.0.0 in /usr/local/lib/python3.8/dist-packages (from prophet) (3.2.2)\n",
            "Requirement already satisfied: wheel>=0.37.0 in /usr/local/lib/python3.8/dist-packages (from prophet) (0.38.4)\n",
            "Requirement already satisfied: convertdate>=2.1.2 in /usr/local/lib/python3.8/dist-packages (from prophet) (2.4.0)\n",
            "Requirement already satisfied: setuptools-git>=1.2 in /usr/local/lib/python3.8/dist-packages (from prophet) (1.2)\n",
            "Requirement already satisfied: tqdm>=4.36.1 in /usr/local/lib/python3.8/dist-packages (from prophet) (4.64.1)\n",
            "Requirement already satisfied: pymeeus<=1,>=0.3.13 in /usr/local/lib/python3.8/dist-packages (from convertdate>=2.1.2->prophet) (0.5.12)\n",
            "Requirement already satisfied: hijri-converter in /usr/local/lib/python3.8/dist-packages (from holidays>=0.14.2->prophet) (2.2.4)\n",
            "Requirement already satisfied: korean-lunar-calendar in /usr/local/lib/python3.8/dist-packages (from holidays>=0.14.2->prophet) (0.3.1)\n",
            "Requirement already satisfied: pytz in /usr/local/lib/python3.8/dist-packages (from LunarCalendar>=0.0.9->prophet) (2022.6)\n",
            "Requirement already satisfied: ephem>=3.7.5.3 in /usr/local/lib/python3.8/dist-packages (from LunarCalendar>=0.0.9->prophet) (4.1.3)\n",
            "Requirement already satisfied: pyparsing!=2.0.4,!=2.1.2,!=2.1.6,>=2.0.1 in /usr/local/lib/python3.8/dist-packages (from matplotlib>=2.0.0->prophet) (3.0.9)\n",
            "Requirement already satisfied: cycler>=0.10 in /usr/local/lib/python3.8/dist-packages (from matplotlib>=2.0.0->prophet) (0.11.0)\n",
            "Requirement already satisfied: kiwisolver>=1.0.1 in /usr/local/lib/python3.8/dist-packages (from matplotlib>=2.0.0->prophet) (1.4.4)\n",
            "Requirement already satisfied: six>=1.5 in /usr/local/lib/python3.8/dist-packages (from python-dateutil>=2.8.0->prophet) (1.15.0)\n",
            "Looking in indexes: https://pypi.org/simple, https://us-python.pkg.dev/colab-wheels/public/simple/\n",
            "Requirement already satisfied: plotnine in /usr/local/lib/python3.8/dist-packages (0.8.0)\n",
            "Requirement already satisfied: descartes>=1.1.0 in /usr/local/lib/python3.8/dist-packages (from plotnine) (1.1.0)\n",
            "Requirement already satisfied: mizani>=0.7.3 in /usr/local/lib/python3.8/dist-packages (from plotnine) (0.7.3)\n",
            "Requirement already satisfied: statsmodels>=0.12.1 in /usr/local/lib/python3.8/dist-packages (from plotnine) (0.12.2)\n",
            "Requirement already satisfied: patsy>=0.5.1 in /usr/local/lib/python3.8/dist-packages (from plotnine) (0.5.3)\n",
            "Requirement already satisfied: numpy>=1.19.0 in /usr/local/lib/python3.8/dist-packages (from plotnine) (1.21.6)\n",
            "Requirement already satisfied: scipy>=1.5.0 in /usr/local/lib/python3.8/dist-packages (from plotnine) (1.7.3)\n",
            "Requirement already satisfied: pandas>=1.1.0 in /usr/local/lib/python3.8/dist-packages (from plotnine) (1.3.5)\n",
            "Requirement already satisfied: matplotlib>=3.1.1 in /usr/local/lib/python3.8/dist-packages (from plotnine) (3.2.2)\n",
            "Requirement already satisfied: cycler>=0.10 in /usr/local/lib/python3.8/dist-packages (from matplotlib>=3.1.1->plotnine) (0.11.0)\n",
            "Requirement already satisfied: python-dateutil>=2.1 in /usr/local/lib/python3.8/dist-packages (from matplotlib>=3.1.1->plotnine) (2.8.2)\n",
            "Requirement already satisfied: pyparsing!=2.0.4,!=2.1.2,!=2.1.6,>=2.0.1 in /usr/local/lib/python3.8/dist-packages (from matplotlib>=3.1.1->plotnine) (3.0.9)\n",
            "Requirement already satisfied: kiwisolver>=1.0.1 in /usr/local/lib/python3.8/dist-packages (from matplotlib>=3.1.1->plotnine) (1.4.4)\n",
            "Requirement already satisfied: palettable in /usr/local/lib/python3.8/dist-packages (from mizani>=0.7.3->plotnine) (3.3.0)\n",
            "Requirement already satisfied: pytz>=2017.3 in /usr/local/lib/python3.8/dist-packages (from pandas>=1.1.0->plotnine) (2022.6)\n",
            "Requirement already satisfied: six in /usr/local/lib/python3.8/dist-packages (from patsy>=0.5.1->plotnine) (1.15.0)\n"
          ]
        }
      ],
      "source": [
        "# install relevant, necessary packages\n",
        "!pip install pandas\n",
        "!pip install numpy\n",
        "!pip install prophet\n",
        "!pip install plotnine"
      ]
    },
    {
      "cell_type": "code",
      "source": [
        "# import necessary libraries\n",
        "import numpy as np # linear algebra\n",
        "from prophet import Prophet\n",
        "from prophet.plot import plot_plotly, plot_components_plotly\n",
        "from prophet.diagnostics import cross_validation\n",
        "from prophet.diagnostics import performance_metrics\n",
        "import warnings\n",
        "warnings.filterwarnings('ignore')  # Hide warnings\n",
        "warnings.simplefilter(action = \"ignore\", category = RuntimeWarning)\n",
        "import datetime as dt\n",
        "import pandas as pd\n",
        "pd.core.common.is_list_like = pd.api.types.is_list_like\n",
        "import pandas_datareader.data as web\n",
        "import numpy as np\n",
        "import matplotlib.pyplot as plt\n",
        "import seaborn as sns\n",
        "import matplotlib.dates as mdates\n",
        "import pandas as pd\n",
        "from plotnine import *\n",
        "import io\n",
        "# we'll use the statistics package to conduct some predictive analytics\n",
        "import statistics as st\n",
        "%matplotlib inline\n",
        "import matplotlib.dates as mdates\n",
        "from pandas import DataFrame\n",
        "from pandas import to_datetime\n",
        "from statsmodels.tsa.stattools import kpss\n",
        "from statsmodels.tsa.stattools import adfuller\n",
        "from  sklearn.metrics import mean_absolute_error"
      ],
      "metadata": {
        "id": "MK93xI8532Iz"
      },
      "execution_count": null,
      "outputs": []
    },
    {
      "cell_type": "code",
      "source": [
        "df = pd.read_csv('/content/drive/MyDrive/Colab Notebooks/DeepLearning/prophet_강의/data/covid19_data.csv')"
      ],
      "metadata": {
        "id": "vmwKBp0R3-yM"
      },
      "execution_count": null,
      "outputs": []
    },
    {
      "cell_type": "code",
      "source": [
        "df.head()"
      ],
      "metadata": {
        "colab": {
          "base_uri": "https://localhost:8080/",
          "height": 334
        },
        "id": "QDyVfzEy5A62",
        "outputId": "ba0742a6-e7e8-448d-afb6-5d3f32937f62"
      },
      "execution_count": null,
      "outputs": [
        {
          "output_type": "execute_result",
          "data": {
            "text/plain": [
              "  Report_Date  Afghanistan_cases  Afghanistan_deaths  Afghanistan_recovered  \\\n",
              "0  2022-04-06             177974                7671                      0   \n",
              "1  2022-04-07             177974                7671                      0   \n",
              "2  2022-04-08             177974                7671                      0   \n",
              "3  2022-04-09             177974                7671                      0   \n",
              "4  2022-04-10             177974                7671                      0   \n",
              "\n",
              "   Albania_cases  Albania_deaths  Albania_recovered  Algeria_cases  \\\n",
              "0         274055            3492                  0         265705   \n",
              "1         274108            3492                  0         265707   \n",
              "2         274136            3492                  0         265714   \n",
              "3         274191            3492                  0         265720   \n",
              "4         274219            3493                  0         265724   \n",
              "\n",
              "   Algeria_deaths  Algeria_recovered  ...  Winter Olympics 2022_recovered  \\\n",
              "0            6874                  0  ...                               0   \n",
              "1            6874                  0  ...                               0   \n",
              "2            6874                  0  ...                               0   \n",
              "3            6874                  0  ...                               0   \n",
              "4            6874                  0  ...                               0   \n",
              "\n",
              "   Yemen_cases  Yemen_deaths  Yemen_recovered  Zambia_cases  Zambia_deaths  \\\n",
              "0        11812          2144                0        317358           3967   \n",
              "1        11812          2145                0        317483           3967   \n",
              "2        11812          2146                0        317483           3967   \n",
              "3        11813          2147                0        317483           3967   \n",
              "4        11813          2147                0        317483           3967   \n",
              "\n",
              "   Zambia_recovered  Zimbabwe_cases  Zimbabwe_deaths  Zimbabwe_recovered  \n",
              "0                 0          246803             5453                   0  \n",
              "1                 0          246870             5455                   0  \n",
              "2                 0          246925             5457                   0  \n",
              "3                 0          246925             5457                   0  \n",
              "4                 0          246958             5457                   0  \n",
              "\n",
              "[5 rows x 853 columns]"
            ],
            "text/html": [
              "\n",
              "  <div id=\"df-02c887c8-6321-40d2-ad35-1e1bf56e805a\">\n",
              "    <div class=\"colab-df-container\">\n",
              "      <div>\n",
              "<style scoped>\n",
              "    .dataframe tbody tr th:only-of-type {\n",
              "        vertical-align: middle;\n",
              "    }\n",
              "\n",
              "    .dataframe tbody tr th {\n",
              "        vertical-align: top;\n",
              "    }\n",
              "\n",
              "    .dataframe thead th {\n",
              "        text-align: right;\n",
              "    }\n",
              "</style>\n",
              "<table border=\"1\" class=\"dataframe\">\n",
              "  <thead>\n",
              "    <tr style=\"text-align: right;\">\n",
              "      <th></th>\n",
              "      <th>Report_Date</th>\n",
              "      <th>Afghanistan_cases</th>\n",
              "      <th>Afghanistan_deaths</th>\n",
              "      <th>Afghanistan_recovered</th>\n",
              "      <th>Albania_cases</th>\n",
              "      <th>Albania_deaths</th>\n",
              "      <th>Albania_recovered</th>\n",
              "      <th>Algeria_cases</th>\n",
              "      <th>Algeria_deaths</th>\n",
              "      <th>Algeria_recovered</th>\n",
              "      <th>...</th>\n",
              "      <th>Winter Olympics 2022_recovered</th>\n",
              "      <th>Yemen_cases</th>\n",
              "      <th>Yemen_deaths</th>\n",
              "      <th>Yemen_recovered</th>\n",
              "      <th>Zambia_cases</th>\n",
              "      <th>Zambia_deaths</th>\n",
              "      <th>Zambia_recovered</th>\n",
              "      <th>Zimbabwe_cases</th>\n",
              "      <th>Zimbabwe_deaths</th>\n",
              "      <th>Zimbabwe_recovered</th>\n",
              "    </tr>\n",
              "  </thead>\n",
              "  <tbody>\n",
              "    <tr>\n",
              "      <th>0</th>\n",
              "      <td>2022-04-06</td>\n",
              "      <td>177974</td>\n",
              "      <td>7671</td>\n",
              "      <td>0</td>\n",
              "      <td>274055</td>\n",
              "      <td>3492</td>\n",
              "      <td>0</td>\n",
              "      <td>265705</td>\n",
              "      <td>6874</td>\n",
              "      <td>0</td>\n",
              "      <td>...</td>\n",
              "      <td>0</td>\n",
              "      <td>11812</td>\n",
              "      <td>2144</td>\n",
              "      <td>0</td>\n",
              "      <td>317358</td>\n",
              "      <td>3967</td>\n",
              "      <td>0</td>\n",
              "      <td>246803</td>\n",
              "      <td>5453</td>\n",
              "      <td>0</td>\n",
              "    </tr>\n",
              "    <tr>\n",
              "      <th>1</th>\n",
              "      <td>2022-04-07</td>\n",
              "      <td>177974</td>\n",
              "      <td>7671</td>\n",
              "      <td>0</td>\n",
              "      <td>274108</td>\n",
              "      <td>3492</td>\n",
              "      <td>0</td>\n",
              "      <td>265707</td>\n",
              "      <td>6874</td>\n",
              "      <td>0</td>\n",
              "      <td>...</td>\n",
              "      <td>0</td>\n",
              "      <td>11812</td>\n",
              "      <td>2145</td>\n",
              "      <td>0</td>\n",
              "      <td>317483</td>\n",
              "      <td>3967</td>\n",
              "      <td>0</td>\n",
              "      <td>246870</td>\n",
              "      <td>5455</td>\n",
              "      <td>0</td>\n",
              "    </tr>\n",
              "    <tr>\n",
              "      <th>2</th>\n",
              "      <td>2022-04-08</td>\n",
              "      <td>177974</td>\n",
              "      <td>7671</td>\n",
              "      <td>0</td>\n",
              "      <td>274136</td>\n",
              "      <td>3492</td>\n",
              "      <td>0</td>\n",
              "      <td>265714</td>\n",
              "      <td>6874</td>\n",
              "      <td>0</td>\n",
              "      <td>...</td>\n",
              "      <td>0</td>\n",
              "      <td>11812</td>\n",
              "      <td>2146</td>\n",
              "      <td>0</td>\n",
              "      <td>317483</td>\n",
              "      <td>3967</td>\n",
              "      <td>0</td>\n",
              "      <td>246925</td>\n",
              "      <td>5457</td>\n",
              "      <td>0</td>\n",
              "    </tr>\n",
              "    <tr>\n",
              "      <th>3</th>\n",
              "      <td>2022-04-09</td>\n",
              "      <td>177974</td>\n",
              "      <td>7671</td>\n",
              "      <td>0</td>\n",
              "      <td>274191</td>\n",
              "      <td>3492</td>\n",
              "      <td>0</td>\n",
              "      <td>265720</td>\n",
              "      <td>6874</td>\n",
              "      <td>0</td>\n",
              "      <td>...</td>\n",
              "      <td>0</td>\n",
              "      <td>11813</td>\n",
              "      <td>2147</td>\n",
              "      <td>0</td>\n",
              "      <td>317483</td>\n",
              "      <td>3967</td>\n",
              "      <td>0</td>\n",
              "      <td>246925</td>\n",
              "      <td>5457</td>\n",
              "      <td>0</td>\n",
              "    </tr>\n",
              "    <tr>\n",
              "      <th>4</th>\n",
              "      <td>2022-04-10</td>\n",
              "      <td>177974</td>\n",
              "      <td>7671</td>\n",
              "      <td>0</td>\n",
              "      <td>274219</td>\n",
              "      <td>3493</td>\n",
              "      <td>0</td>\n",
              "      <td>265724</td>\n",
              "      <td>6874</td>\n",
              "      <td>0</td>\n",
              "      <td>...</td>\n",
              "      <td>0</td>\n",
              "      <td>11813</td>\n",
              "      <td>2147</td>\n",
              "      <td>0</td>\n",
              "      <td>317483</td>\n",
              "      <td>3967</td>\n",
              "      <td>0</td>\n",
              "      <td>246958</td>\n",
              "      <td>5457</td>\n",
              "      <td>0</td>\n",
              "    </tr>\n",
              "  </tbody>\n",
              "</table>\n",
              "<p>5 rows × 853 columns</p>\n",
              "</div>\n",
              "      <button class=\"colab-df-convert\" onclick=\"convertToInteractive('df-02c887c8-6321-40d2-ad35-1e1bf56e805a')\"\n",
              "              title=\"Convert this dataframe to an interactive table.\"\n",
              "              style=\"display:none;\">\n",
              "        \n",
              "  <svg xmlns=\"http://www.w3.org/2000/svg\" height=\"24px\"viewBox=\"0 0 24 24\"\n",
              "       width=\"24px\">\n",
              "    <path d=\"M0 0h24v24H0V0z\" fill=\"none\"/>\n",
              "    <path d=\"M18.56 5.44l.94 2.06.94-2.06 2.06-.94-2.06-.94-.94-2.06-.94 2.06-2.06.94zm-11 1L8.5 8.5l.94-2.06 2.06-.94-2.06-.94L8.5 2.5l-.94 2.06-2.06.94zm10 10l.94 2.06.94-2.06 2.06-.94-2.06-.94-.94-2.06-.94 2.06-2.06.94z\"/><path d=\"M17.41 7.96l-1.37-1.37c-.4-.4-.92-.59-1.43-.59-.52 0-1.04.2-1.43.59L10.3 9.45l-7.72 7.72c-.78.78-.78 2.05 0 2.83L4 21.41c.39.39.9.59 1.41.59.51 0 1.02-.2 1.41-.59l7.78-7.78 2.81-2.81c.8-.78.8-2.07 0-2.86zM5.41 20L4 18.59l7.72-7.72 1.47 1.35L5.41 20z\"/>\n",
              "  </svg>\n",
              "      </button>\n",
              "      \n",
              "  <style>\n",
              "    .colab-df-container {\n",
              "      display:flex;\n",
              "      flex-wrap:wrap;\n",
              "      gap: 12px;\n",
              "    }\n",
              "\n",
              "    .colab-df-convert {\n",
              "      background-color: #E8F0FE;\n",
              "      border: none;\n",
              "      border-radius: 50%;\n",
              "      cursor: pointer;\n",
              "      display: none;\n",
              "      fill: #1967D2;\n",
              "      height: 32px;\n",
              "      padding: 0 0 0 0;\n",
              "      width: 32px;\n",
              "    }\n",
              "\n",
              "    .colab-df-convert:hover {\n",
              "      background-color: #E2EBFA;\n",
              "      box-shadow: 0px 1px 2px rgba(60, 64, 67, 0.3), 0px 1px 3px 1px rgba(60, 64, 67, 0.15);\n",
              "      fill: #174EA6;\n",
              "    }\n",
              "\n",
              "    [theme=dark] .colab-df-convert {\n",
              "      background-color: #3B4455;\n",
              "      fill: #D2E3FC;\n",
              "    }\n",
              "\n",
              "    [theme=dark] .colab-df-convert:hover {\n",
              "      background-color: #434B5C;\n",
              "      box-shadow: 0px 1px 3px 1px rgba(0, 0, 0, 0.15);\n",
              "      filter: drop-shadow(0px 1px 2px rgba(0, 0, 0, 0.3));\n",
              "      fill: #FFFFFF;\n",
              "    }\n",
              "  </style>\n",
              "\n",
              "      <script>\n",
              "        const buttonEl =\n",
              "          document.querySelector('#df-02c887c8-6321-40d2-ad35-1e1bf56e805a button.colab-df-convert');\n",
              "        buttonEl.style.display =\n",
              "          google.colab.kernel.accessAllowed ? 'block' : 'none';\n",
              "\n",
              "        async function convertToInteractive(key) {\n",
              "          const element = document.querySelector('#df-02c887c8-6321-40d2-ad35-1e1bf56e805a');\n",
              "          const dataTable =\n",
              "            await google.colab.kernel.invokeFunction('convertToInteractive',\n",
              "                                                     [key], {});\n",
              "          if (!dataTable) return;\n",
              "\n",
              "          const docLinkHtml = 'Like what you see? Visit the ' +\n",
              "            '<a target=\"_blank\" href=https://colab.research.google.com/notebooks/data_table.ipynb>data table notebook</a>'\n",
              "            + ' to learn more about interactive tables.';\n",
              "          element.innerHTML = '';\n",
              "          dataTable['output_type'] = 'display_data';\n",
              "          await google.colab.output.renderOutput(dataTable, element);\n",
              "          const docLink = document.createElement('div');\n",
              "          docLink.innerHTML = docLinkHtml;\n",
              "          element.appendChild(docLink);\n",
              "        }\n",
              "      </script>\n",
              "    </div>\n",
              "  </div>\n",
              "  "
            ]
          },
          "metadata": {},
          "execution_count": 5
        }
      ]
    },
    {
      "cell_type": "code",
      "source": [
        "# check total number of cells, first few rows, and descriptive stats \n",
        "def descriptive_info(df):\n",
        "#  number_of_cells = df.count(axis=0, level=None, numeric_only=False)\n",
        "  # Let's check the shape of the dataset\n",
        "  print('Features:', df.shape[1], ' ', 'Entries:', df.shape[0])\n",
        "  print('\\n\\n')\n",
        "  print('Printing descriptive statistics...\\n\\n', df.describe())"
      ],
      "metadata": {
        "id": "TMSX9WeA5Esf"
      },
      "execution_count": null,
      "outputs": []
    },
    {
      "cell_type": "code",
      "source": [
        "# now check sopme basic info of our dataset\n",
        "descriptive_info(df)"
      ],
      "metadata": {
        "colab": {
          "base_uri": "https://localhost:8080/"
        },
        "id": "e_wjtSba5tat",
        "outputId": "1d302a9d-31b5-4e41-e7f1-dc40863730ec"
      },
      "execution_count": null,
      "outputs": [
        {
          "output_type": "stream",
          "name": "stdout",
          "text": [
            "Features: 853   Entries: 30\n",
            "\n",
            "\n",
            "\n",
            "Printing descriptive statistics...\n",
            "\n",
            "        Afghanistan_cases  Afghanistan_deaths  Afghanistan_recovered  \\\n",
            "count          30.000000           30.000000                   30.0   \n",
            "mean       178521.833333         7678.800000                    0.0   \n",
            "std           331.756567            4.482918                    0.0   \n",
            "min        177974.000000         7671.000000                    0.0   \n",
            "25%        178309.250000         7676.000000                    0.0   \n",
            "50%        178592.500000         7680.000000                    0.0   \n",
            "75%        178839.750000         7683.000000                    0.0   \n",
            "max        178905.000000         7684.000000                    0.0   \n",
            "\n",
            "       Albania_cases  Albania_deaths  Albania_recovered  Algeria_cases  \\\n",
            "count      30.000000       30.000000               30.0      30.000000   \n",
            "mean   274656.966667     3495.066667                0.0  265751.600000   \n",
            "std       380.623217        1.507071                0.0      25.296313   \n",
            "min    274055.000000     3492.000000                0.0  265705.000000   \n",
            "25%    274334.000000     3494.250000                0.0  265731.500000   \n",
            "50%    274606.000000     3496.000000                0.0  265750.000000   \n",
            "75%    274983.750000     3496.000000                0.0  265775.250000   \n",
            "max    275266.000000     3496.000000                0.0  265786.000000   \n",
            "\n",
            "       Algeria_deaths  Algeria_recovered  Andorra_cases  ...  \\\n",
            "count       30.000000               30.0      30.000000  ...   \n",
            "mean      6874.400000                0.0   40886.233333  ...   \n",
            "std          0.498273                0.0     440.489437  ...   \n",
            "min       6874.000000                0.0   40024.000000  ...   \n",
            "25%       6874.000000                0.0   40709.000000  ...   \n",
            "50%       6874.000000                0.0   41013.000000  ...   \n",
            "75%       6875.000000                0.0   41265.000000  ...   \n",
            "max       6875.000000                0.0   41717.000000  ...   \n",
            "\n",
            "       Winter Olympics 2022_recovered   Yemen_cases  Yemen_deaths  \\\n",
            "count                            30.0     30.000000     30.000000   \n",
            "mean                              0.0  11816.633333   2147.900000   \n",
            "std                               0.0      2.341284      1.268994   \n",
            "min                               0.0  11812.000000   2144.000000   \n",
            "25%                               0.0  11815.000000   2147.000000   \n",
            "50%                               0.0  11818.000000   2148.000000   \n",
            "75%                               0.0  11818.000000   2149.000000   \n",
            "max                               0.0  11819.000000   2149.000000   \n",
            "\n",
            "       Yemen_recovered   Zambia_cases  Zambia_deaths  Zambia_recovered  \\\n",
            "count             30.0      30.000000      30.000000              30.0   \n",
            "mean               0.0  318735.666667    3972.500000               0.0   \n",
            "std                0.0     825.550029       3.607941               0.0   \n",
            "min                0.0  317358.000000    3967.000000               0.0   \n",
            "25%                0.0  318142.000000    3969.000000               0.0   \n",
            "50%                0.0  318812.000000    3973.500000               0.0   \n",
            "75%                0.0  319553.250000    3976.000000               0.0   \n",
            "max                0.0  319755.000000    3976.000000               0.0   \n",
            "\n",
            "       Zimbabwe_cases  Zimbabwe_deaths  Zimbabwe_recovered  \n",
            "count       30.000000        30.000000                30.0  \n",
            "mean    247432.833333      5464.566667                 0.0  \n",
            "std        382.889566         5.243606                 0.0  \n",
            "min     246803.000000      5453.000000                 0.0  \n",
            "25%     247172.000000      5460.500000                 0.0  \n",
            "50%     247359.500000      5466.500000                 0.0  \n",
            "75%     247770.250000      5469.000000                 0.0  \n",
            "max     248050.000000      5471.000000                 0.0  \n",
            "\n",
            "[8 rows x 852 columns]\n"
          ]
        }
      ]
    },
    {
      "cell_type": "code",
      "source": [
        "spike_cols = [col for col in df.columns if 'US' in col]"
      ],
      "metadata": {
        "id": "1_4FLrEm6ICv"
      },
      "execution_count": null,
      "outputs": []
    },
    {
      "cell_type": "code",
      "source": [
        "print(spike_cols)"
      ],
      "metadata": {
        "colab": {
          "base_uri": "https://localhost:8080/"
        },
        "id": "QbesOIGa6tnf",
        "outputId": "4222b8bb-ddbd-4f82-db9c-5fb671902688"
      },
      "execution_count": null,
      "outputs": [
        {
          "output_type": "stream",
          "name": "stdout",
          "text": [
            "['USA_cases', 'USA_deaths', 'USA_recovered']\n"
          ]
        }
      ]
    },
    {
      "cell_type": "markdown",
      "source": [
        "The analysis will be similar for all countries. Here we'll investigate the US data only. If interested, play around with other countries similarly."
      ],
      "metadata": {
        "id": "i2MVegmO7GGy"
      }
    },
    {
      "cell_type": "code",
      "source": [
        "# let's EXTRACT COLUMSN WITH USA DATA\n",
        "df_us = df[['Report_Date', 'USA_cases', 'USA_deaths', 'USA_recovered']]"
      ],
      "metadata": {
        "id": "HVImSjvu7Anq"
      },
      "execution_count": null,
      "outputs": []
    },
    {
      "cell_type": "code",
      "source": [
        "df_us.head()"
      ],
      "metadata": {
        "colab": {
          "base_uri": "https://localhost:8080/",
          "height": 206
        },
        "id": "_hMKW6BY7GcL",
        "outputId": "57488c5c-f983-4b89-92cf-9633cf8d39bc"
      },
      "execution_count": null,
      "outputs": [
        {
          "output_type": "execute_result",
          "data": {
            "text/plain": [
              "  Report_Date  USA_cases  USA_deaths  USA_recovered\n",
              "0  2022-04-06   80255129      984260              0\n",
              "1  2022-04-07   80302516      984953              0\n",
              "2  2022-04-08   80390106      985593              0\n",
              "3  2022-04-09   80402760      985732              0\n",
              "4  2022-04-10   80412219      985757              0"
            ],
            "text/html": [
              "\n",
              "  <div id=\"df-fa04ba3c-fb79-4dc4-b0d2-560e669ef234\">\n",
              "    <div class=\"colab-df-container\">\n",
              "      <div>\n",
              "<style scoped>\n",
              "    .dataframe tbody tr th:only-of-type {\n",
              "        vertical-align: middle;\n",
              "    }\n",
              "\n",
              "    .dataframe tbody tr th {\n",
              "        vertical-align: top;\n",
              "    }\n",
              "\n",
              "    .dataframe thead th {\n",
              "        text-align: right;\n",
              "    }\n",
              "</style>\n",
              "<table border=\"1\" class=\"dataframe\">\n",
              "  <thead>\n",
              "    <tr style=\"text-align: right;\">\n",
              "      <th></th>\n",
              "      <th>Report_Date</th>\n",
              "      <th>USA_cases</th>\n",
              "      <th>USA_deaths</th>\n",
              "      <th>USA_recovered</th>\n",
              "    </tr>\n",
              "  </thead>\n",
              "  <tbody>\n",
              "    <tr>\n",
              "      <th>0</th>\n",
              "      <td>2022-04-06</td>\n",
              "      <td>80255129</td>\n",
              "      <td>984260</td>\n",
              "      <td>0</td>\n",
              "    </tr>\n",
              "    <tr>\n",
              "      <th>1</th>\n",
              "      <td>2022-04-07</td>\n",
              "      <td>80302516</td>\n",
              "      <td>984953</td>\n",
              "      <td>0</td>\n",
              "    </tr>\n",
              "    <tr>\n",
              "      <th>2</th>\n",
              "      <td>2022-04-08</td>\n",
              "      <td>80390106</td>\n",
              "      <td>985593</td>\n",
              "      <td>0</td>\n",
              "    </tr>\n",
              "    <tr>\n",
              "      <th>3</th>\n",
              "      <td>2022-04-09</td>\n",
              "      <td>80402760</td>\n",
              "      <td>985732</td>\n",
              "      <td>0</td>\n",
              "    </tr>\n",
              "    <tr>\n",
              "      <th>4</th>\n",
              "      <td>2022-04-10</td>\n",
              "      <td>80412219</td>\n",
              "      <td>985757</td>\n",
              "      <td>0</td>\n",
              "    </tr>\n",
              "  </tbody>\n",
              "</table>\n",
              "</div>\n",
              "      <button class=\"colab-df-convert\" onclick=\"convertToInteractive('df-fa04ba3c-fb79-4dc4-b0d2-560e669ef234')\"\n",
              "              title=\"Convert this dataframe to an interactive table.\"\n",
              "              style=\"display:none;\">\n",
              "        \n",
              "  <svg xmlns=\"http://www.w3.org/2000/svg\" height=\"24px\"viewBox=\"0 0 24 24\"\n",
              "       width=\"24px\">\n",
              "    <path d=\"M0 0h24v24H0V0z\" fill=\"none\"/>\n",
              "    <path d=\"M18.56 5.44l.94 2.06.94-2.06 2.06-.94-2.06-.94-.94-2.06-.94 2.06-2.06.94zm-11 1L8.5 8.5l.94-2.06 2.06-.94-2.06-.94L8.5 2.5l-.94 2.06-2.06.94zm10 10l.94 2.06.94-2.06 2.06-.94-2.06-.94-.94-2.06-.94 2.06-2.06.94z\"/><path d=\"M17.41 7.96l-1.37-1.37c-.4-.4-.92-.59-1.43-.59-.52 0-1.04.2-1.43.59L10.3 9.45l-7.72 7.72c-.78.78-.78 2.05 0 2.83L4 21.41c.39.39.9.59 1.41.59.51 0 1.02-.2 1.41-.59l7.78-7.78 2.81-2.81c.8-.78.8-2.07 0-2.86zM5.41 20L4 18.59l7.72-7.72 1.47 1.35L5.41 20z\"/>\n",
              "  </svg>\n",
              "      </button>\n",
              "      \n",
              "  <style>\n",
              "    .colab-df-container {\n",
              "      display:flex;\n",
              "      flex-wrap:wrap;\n",
              "      gap: 12px;\n",
              "    }\n",
              "\n",
              "    .colab-df-convert {\n",
              "      background-color: #E8F0FE;\n",
              "      border: none;\n",
              "      border-radius: 50%;\n",
              "      cursor: pointer;\n",
              "      display: none;\n",
              "      fill: #1967D2;\n",
              "      height: 32px;\n",
              "      padding: 0 0 0 0;\n",
              "      width: 32px;\n",
              "    }\n",
              "\n",
              "    .colab-df-convert:hover {\n",
              "      background-color: #E2EBFA;\n",
              "      box-shadow: 0px 1px 2px rgba(60, 64, 67, 0.3), 0px 1px 3px 1px rgba(60, 64, 67, 0.15);\n",
              "      fill: #174EA6;\n",
              "    }\n",
              "\n",
              "    [theme=dark] .colab-df-convert {\n",
              "      background-color: #3B4455;\n",
              "      fill: #D2E3FC;\n",
              "    }\n",
              "\n",
              "    [theme=dark] .colab-df-convert:hover {\n",
              "      background-color: #434B5C;\n",
              "      box-shadow: 0px 1px 3px 1px rgba(0, 0, 0, 0.15);\n",
              "      filter: drop-shadow(0px 1px 2px rgba(0, 0, 0, 0.3));\n",
              "      fill: #FFFFFF;\n",
              "    }\n",
              "  </style>\n",
              "\n",
              "      <script>\n",
              "        const buttonEl =\n",
              "          document.querySelector('#df-fa04ba3c-fb79-4dc4-b0d2-560e669ef234 button.colab-df-convert');\n",
              "        buttonEl.style.display =\n",
              "          google.colab.kernel.accessAllowed ? 'block' : 'none';\n",
              "\n",
              "        async function convertToInteractive(key) {\n",
              "          const element = document.querySelector('#df-fa04ba3c-fb79-4dc4-b0d2-560e669ef234');\n",
              "          const dataTable =\n",
              "            await google.colab.kernel.invokeFunction('convertToInteractive',\n",
              "                                                     [key], {});\n",
              "          if (!dataTable) return;\n",
              "\n",
              "          const docLinkHtml = 'Like what you see? Visit the ' +\n",
              "            '<a target=\"_blank\" href=https://colab.research.google.com/notebooks/data_table.ipynb>data table notebook</a>'\n",
              "            + ' to learn more about interactive tables.';\n",
              "          element.innerHTML = '';\n",
              "          dataTable['output_type'] = 'display_data';\n",
              "          await google.colab.output.renderOutput(dataTable, element);\n",
              "          const docLink = document.createElement('div');\n",
              "          docLink.innerHTML = docLinkHtml;\n",
              "          element.appendChild(docLink);\n",
              "        }\n",
              "      </script>\n",
              "    </div>\n",
              "  </div>\n",
              "  "
            ]
          },
          "metadata": {},
          "execution_count": 12
        }
      ]
    },
    {
      "cell_type": "code",
      "source": [
        "# This Function is to prepare the dataset for Fb Prophet\n",
        "#ds, save the name of date column as ds\n",
        "#y, save the name of column we are interested in as y\n",
        "def prepare_data(df, ds, y):\n",
        "  '''\n",
        "  input: df = dataframe\n",
        "  ds = date column\n",
        "  y = prediction column\n",
        "  '''\n",
        "  df = df[[ds, y]]\n",
        "  df = df.rename(columns={ds: \"ds\", y: \"y\"}) #now it is usable for FB Prophet, let's check the new file\n",
        "  print('The series is ready for use.\\n')\n",
        "  return df"
      ],
      "metadata": {
        "id": "KzcvAnyA7-c7"
      },
      "execution_count": null,
      "outputs": []
    },
    {
      "cell_type": "code",
      "source": [
        "# Use the function to prepare the dataframe to feed into fbprophet\n",
        "# df = series, ds = the time variable name from the dataframe (string), \n",
        "# y = intended variable name for prediction from the dataframe, (string)\n",
        "df2 = prepare_data(df_us, ds = 'Report_Date', y = 'USA_cases') \n",
        "print(df2.head())\n",
        "print('')\n",
        "print('The length of your series is: ', len(df2))"
      ],
      "metadata": {
        "colab": {
          "base_uri": "https://localhost:8080/"
        },
        "id": "Hn9yiXx18ErY",
        "outputId": "42790c61-c948-4d4a-b05d-ecf372e93e8e"
      },
      "execution_count": null,
      "outputs": [
        {
          "output_type": "stream",
          "name": "stdout",
          "text": [
            "The series is ready for use.\n",
            "\n",
            "           ds         y\n",
            "0  2022-04-06  80255129\n",
            "1  2022-04-07  80302516\n",
            "2  2022-04-08  80390106\n",
            "3  2022-04-09  80402760\n",
            "4  2022-04-10  80412219\n",
            "\n",
            "The length of your series is:  30\n"
          ]
        }
      ]
    },
    {
      "cell_type": "code",
      "source": [
        "## function to Plot the prepared data\n",
        "def _fig_plot(df, X, Y):\n",
        "  ''' Function plots the data. requires to provide dataframe in the\n",
        "  format of date as ds, observation as y, Preset other variables e.g., axis name\n",
        "  '''\n",
        "  df.plot(x = X, y = Y, figsize=Figsize, label = Label)\n",
        "  plt.xlabel(xAxisLabel, fontsize = 16)\n",
        "  plt.ylabel(yAxisLabel, fontsize = 16)\n",
        "  plt.legend()\n",
        "  plt.title(Title, fontsize = 20)\n",
        "  ax = plt.gca().get_xaxis()"
      ],
      "metadata": {
        "id": "beiAKk2l8GYC"
      },
      "execution_count": null,
      "outputs": []
    },
    {
      "cell_type": "code",
      "source": [
        "# provide variable names and other required inputs to plot using the function\n",
        "X = 'ds'\n",
        "Y = 'y'\n",
        "Label = \"total cases\"\n",
        "Figsize = (16,8)\n",
        "Title = \"Daily Total COVID Cases\"\n",
        "xAxisLabel = 'Time (Day)'\n",
        "yAxisLabel = 'Number (N)'\n",
        "_fig_plot(df2, X, Y)"
      ],
      "metadata": {
        "colab": {
          "base_uri": "https://localhost:8080/",
          "height": 518
        },
        "id": "edYRGHDk8HYD",
        "outputId": "967acd10-bc4e-49c2-c90f-32b03a5b00fa"
      },
      "execution_count": null,
      "outputs": [
        {
          "output_type": "display_data",
          "data": {
            "text/plain": [
              "<Figure size 1152x576 with 1 Axes>"
            ],
            "image/png": "[encoded data removed]"
          },
          "metadata": {
            "needs_background": "light"
          }
        }
      ]
    },
    {
      "cell_type": "code",
      "source": [
        "# define training dataset\n",
        "train = df2.copy()"
      ],
      "metadata": {
        "id": "scAc_pXE8I1y"
      },
      "execution_count": null,
      "outputs": []
    },
    {
      "cell_type": "code",
      "source": [
        "# Let's fit the model\n",
        "\n",
        "prophet = Prophet(growth=\"linear\",\n",
        "            daily_seasonality= 'auto',\n",
        "            weekly_seasonality= 'auto',\n",
        "            yearly_seasonality= 'auto',\n",
        "            changepoint_prior_scale=0.01)\n",
        "\n",
        "prophet.fit(train)\n",
        "future = prophet.make_future_dataframe(periods=30)\n",
        "forecast = prophet.predict(future)"
      ],
      "metadata": {
        "colab": {
          "base_uri": "https://localhost:8080/"
        },
        "id": "UUeeUSEF8Jqy",
        "outputId": "19abf740-b161-423c-f2c7-01698f7f0633"
      },
      "execution_count": null,
      "outputs": [
        {
          "output_type": "stream",
          "name": "stderr",
          "text": [
            "INFO:prophet:Disabling yearly seasonality. Run prophet with yearly_seasonality=True to override this.\n",
            "INFO:prophet:Disabling daily seasonality. Run prophet with daily_seasonality=True to override this.\n",
            "INFO:prophet:n_changepoints greater than number of observations. Using 23.\n",
            "DEBUG:cmdstanpy:input tempfile: /tmp/tmp5iossgjm/whc571jz.json\n",
            "DEBUG:cmdstanpy:input tempfile: /tmp/tmp5iossgjm/b9tnyejg.json\n",
            "DEBUG:cmdstanpy:idx 0\n",
            "DEBUG:cmdstanpy:running CmdStan, num_threads: None\n",
            "DEBUG:cmdstanpy:CmdStan args: ['/usr/local/lib/python3.8/dist-packages/prophet/stan_model/prophet_model.bin', 'random', 'seed=60042', 'data', 'file=/tmp/tmp5iossgjm/whc571jz.json', 'init=/tmp/tmp5iossgjm/b9tnyejg.json', 'output', 'file=/tmp/tmp5iossgjm/prophet_modelty34kh1w/prophet_model-20230102102302.csv', 'method=optimize', 'algorithm=newton', 'iter=10000']\n",
            "10:23:02 - cmdstanpy - INFO - Chain [1] start processing\n",
            "INFO:cmdstanpy:Chain [1] start processing\n",
            "10:23:07 - cmdstanpy - INFO - Chain [1] done processing\n",
            "INFO:cmdstanpy:Chain [1] done processing\n"
          ]
        }
      ]
    },
    {
      "cell_type": "code",
      "source": [
        "# summarize the forecast\n",
        "print('Printing outputs from Prophet prediction...\\n', forecast[['ds', 'yhat', 'yhat_lower', 'yhat_upper']].head())\n",
        "# plot forecast\n",
        "prophet.plot(forecast)\n",
        "plt.show()"
      ],
      "metadata": {
        "colab": {
          "base_uri": "https://localhost:8080/",
          "height": 570
        },
        "id": "2wILhOG48Kig",
        "outputId": "a4861250-2d08-4b80-830d-1bc68821e61a"
      },
      "execution_count": null,
      "outputs": [
        {
          "output_type": "stream",
          "name": "stdout",
          "text": [
            "Printing outputs from Prophet prediction...\n",
            "           ds          yhat    yhat_lower    yhat_upper\n",
            "0 2022-04-06  8.025516e+07  8.025516e+07  8.025516e+07\n",
            "1 2022-04-07  8.030255e+07  8.030255e+07  8.030255e+07\n",
            "2 2022-04-08  8.039014e+07  8.039014e+07  8.039014e+07\n",
            "3 2022-04-09  8.040279e+07  8.040279e+07  8.040279e+07\n",
            "4 2022-04-10  8.041225e+07  8.041225e+07  8.041225e+07\n"
          ]
        },
        {
          "output_type": "display_data",
          "data": {
            "text/plain": [
              "<Figure size 720x432 with 1 Axes>"
            ],
            "image/png": "[encoded data removed]"
          },
          "metadata": {}
        }
      ]
    },
    {
      "cell_type": "code",
      "source": [
        "# Use the plot_plotly function to visualize prediction as seperate window size\n",
        "plot_plotly(prophet, forecast)"
      ],
      "metadata": {
        "colab": {
          "base_uri": "https://localhost:8080/",
          "height": 617
        },
        "id": "XV4sUsn48Lfp",
        "outputId": "e8f8bfb5-fbd8-4a21-e070-02a3de03e954"
      },
      "execution_count": null,
      "outputs": [
        {
          "output_type": "display_data",
          "data": {
            "text/html": [
              "<html>\n",
              "<head><meta charset=\"utf-8\" /></head>\n",
              "<body>\n",
              "    <div>            <script src=\"https://cdnjs.cloudflare.com/ajax/libs/mathjax/2.7.5/MathJax.js?config=TeX-AMS-MML_SVG\"></script><script type=\"text/javascript\">if (window.MathJax) {MathJax.Hub.Config({SVG: {font: \"STIX-Web\"}});}</script>                <script type=\"text/javascript\">window.PlotlyConfig = {MathJaxConfig: 'local'};</script>\n",
              "        <script src=\"https://cdn.plot.ly/plotly-2.8.3.min.js\"></script>                <div id=\"935b704d-e341-44c6-8c01-93a748b4ee5a\" class=\"plotly-graph-div\" style=\"height:600px; width:900px;\"></div>            <script type=\"text/javascript\">                                    window.PLOTLYENV=window.PLOTLYENV || {};                                    if (document.getElementById(\"935b704d-e341-44c6-8c01-93a748b4ee5a\")) {                    Plotly.newPlot(                        \"935b704d-e341-44c6-8c01-93a748b4ee5a\",                        [{\"marker\":{\"color\":\"black\",\"size\":4},\"mode\":\"markers\",\"name\":\"Actual\",\"x\":[\"2022-04-06T00:00:00\",\"2022-04-07T00:00:00\",\"2022-04-08T00:00:00\",\"2022-04-09T00:00:00\",\"2022-04-10T00:00:00\",\"2022-04-11T00:00:00\",\"2022-04-12T00:00:00\",\"2022-04-13T00:00:00\",\"2022-04-14T00:00:00\",\"2022-04-15T00:00:00\",\"2022-04-16T00:00:00\",\"2022-04-17T00:00:00\",\"2022-04-18T00:00:00\",\"2022-04-19T00:00:00\",\"2022-04-20T00:00:00\",\"2022-04-21T00:00:00\",\"2022-04-22T00:00:00\",\"2022-04-23T00:00:00\",\"2022-04-24T00:00:00\",\"2022-04-25T00:00:00\",\"2022-04-26T00:00:00\",\"2022-04-27T00:00:00\",\"2022-04-28T00:00:00\",\"2022-04-29T00:00:00\",\"2022-04-30T00:00:00\",\"2022-05-01T00:00:00\",\"2022-05-02T00:00:00\",\"2022-05-03T00:00:00\",\"2022-05-04T00:00:00\",\"2022-05-05T00:00:00\"],\"y\":[80255129,80302516,80390106,80402760,80412219,80453999,80489693,80531259,80580219,80615660,80627981,80635482,80696872,80736117,80805017,80864539,80954558,80974208,80986573,81055811,81101145,81189789,81263135,81323186,81346535,81362688,81444332,81506075,81620383,81694580],\"type\":\"scatter\"},{\"hoverinfo\":\"skip\",\"line\":{\"width\":0},\"mode\":\"lines\",\"x\":[\"2022-04-06T00:00:00\",\"2022-04-07T00:00:00\",\"2022-04-08T00:00:00\",\"2022-04-09T00:00:00\",\"2022-04-10T00:00:00\",\"2022-04-11T00:00:00\",\"2022-04-12T00:00:00\",\"2022-04-13T00:00:00\",\"2022-04-14T00:00:00\",\"2022-04-15T00:00:00\",\"2022-04-16T00:00:00\",\"2022-04-17T00:00:00\",\"2022-04-18T00:00:00\",\"2022-04-19T00:00:00\",\"2022-04-20T00:00:00\",\"2022-04-21T00:00:00\",\"2022-04-22T00:00:00\",\"2022-04-23T00:00:00\",\"2022-04-24T00:00:00\",\"2022-04-25T00:00:00\",\"2022-04-26T00:00:00\",\"2022-04-27T00:00:00\",\"2022-04-28T00:00:00\",\"2022-04-29T00:00:00\",\"2022-04-30T00:00:00\",\"2022-05-01T00:00:00\",\"2022-05-02T00:00:00\",\"2022-05-03T00:00:00\",\"2022-05-04T00:00:00\",\"2022-05-05T00:00:00\",\"2022-05-06T00:00:00\",\"2022-05-07T00:00:00\",\"2022-05-08T00:00:00\",\"2022-05-09T00:00:00\",\"2022-05-10T00:00:00\",\"2022-05-11T00:00:00\",\"2022-05-12T00:00:00\",\"2022-05-13T00:00:00\",\"2022-05-14T00:00:00\",\"2022-05-15T00:00:00\",\"2022-05-16T00:00:00\",\"2022-05-17T00:00:00\",\"2022-05-18T00:00:00\",\"2022-05-19T00:00:00\",\"2022-05-20T00:00:00\",\"2022-05-21T00:00:00\",\"2022-05-22T00:00:00\",\"2022-05-23T00:00:00\",\"2022-05-24T00:00:00\",\"2022-05-25T00:00:00\",\"2022-05-26T00:00:00\",\"2022-05-27T00:00:00\",\"2022-05-28T00:00:00\",\"2022-05-29T00:00:00\",\"2022-05-30T00:00:00\",\"2022-05-31T00:00:00\",\"2022-06-01T00:00:00\",\"2022-06-02T00:00:00\",\"2022-06-03T00:00:00\",\"2022-06-04T00:00:00\"],\"y\":[80255163.05642007,80302549.9967261,80390140.11532088,80402794.1336457,80412253.2719874,80454033.36150126,80489727.41938229,80531293.5820455,80580253.73459643,80615695.07584853,80628016.2310144,80635517.49958903,80696907.68003695,80736152.8238353,80805053.02671559,80864575.04050718,80954594.21222183,80974244.29238936,80986609.48638965,81055847.6135615,81101181.69864841,81189825.83832942,81263171.86160283,81323223.0294099,81346572.14635414,81362725.37717485,81444369.53058541,81506112.64815466,81620420.83026609,81694617.88570076,81771126.00380848,81761602.39384203,81739919.67795064,81774593.36975943,81774395.46813479,81835688.10292545,81847091.02724588,81870301.52086943,81823266.0794066,81756159.20523809,81747651.97353569,81731558.59843634,81769553.67110872,81763253.20354968,81760370.95565145,81678207.70859256,81594650.09819569,81562839.70420249,81513470.30801913,81517509.16367967,81458287.05594032,81409970.37945049,81296975.68634215,81187224.39147791,81186629.85128498,81095757.77823953,81082841.19376802,81013984.3404607,80937495.51736912,80825223.61826126],\"type\":\"scatter\"},{\"fill\":\"tonexty\",\"fillcolor\":\"rgba(0, 114, 178, 0.2)\",\"line\":{\"color\":\"#0072B2\",\"width\":2},\"mode\":\"lines\",\"name\":\"Predicted\",\"x\":[\"2022-04-06T00:00:00\",\"2022-04-07T00:00:00\",\"2022-04-08T00:00:00\",\"2022-04-09T00:00:00\",\"2022-04-10T00:00:00\",\"2022-04-11T00:00:00\",\"2022-04-12T00:00:00\",\"2022-04-13T00:00:00\",\"2022-04-14T00:00:00\",\"2022-04-15T00:00:00\",\"2022-04-16T00:00:00\",\"2022-04-17T00:00:00\",\"2022-04-18T00:00:00\",\"2022-04-19T00:00:00\",\"2022-04-20T00:00:00\",\"2022-04-21T00:00:00\",\"2022-04-22T00:00:00\",\"2022-04-23T00:00:00\",\"2022-04-24T00:00:00\",\"2022-04-25T00:00:00\",\"2022-04-26T00:00:00\",\"2022-04-27T00:00:00\",\"2022-04-28T00:00:00\",\"2022-04-29T00:00:00\",\"2022-04-30T00:00:00\",\"2022-05-01T00:00:00\",\"2022-05-02T00:00:00\",\"2022-05-03T00:00:00\",\"2022-05-04T00:00:00\",\"2022-05-05T00:00:00\",\"2022-05-06T00:00:00\",\"2022-05-07T00:00:00\",\"2022-05-08T00:00:00\",\"2022-05-09T00:00:00\",\"2022-05-10T00:00:00\",\"2022-05-11T00:00:00\",\"2022-05-12T00:00:00\",\"2022-05-13T00:00:00\",\"2022-05-14T00:00:00\",\"2022-05-15T00:00:00\",\"2022-05-16T00:00:00\",\"2022-05-17T00:00:00\",\"2022-05-18T00:00:00\",\"2022-05-19T00:00:00\",\"2022-05-20T00:00:00\",\"2022-05-21T00:00:00\",\"2022-05-22T00:00:00\",\"2022-05-23T00:00:00\",\"2022-05-24T00:00:00\",\"2022-05-25T00:00:00\",\"2022-05-26T00:00:00\",\"2022-05-27T00:00:00\",\"2022-05-28T00:00:00\",\"2022-05-29T00:00:00\",\"2022-05-30T00:00:00\",\"2022-05-31T00:00:00\",\"2022-06-01T00:00:00\",\"2022-06-02T00:00:00\",\"2022-06-03T00:00:00\",\"2022-06-04T00:00:00\"],\"y\":[80255163.05643891,80302549.99674486,80390140.11533982,80402794.13366397,80412253.27200662,80454033.36152002,80489727.4194001,80531293.58206394,80580253.7346163,80615695.07586688,80628016.23103327,80635517.49960813,80696907.68005516,80736152.82385331,80805053.0267355,80864575.04052663,80954594.21223938,80974244.29240854,80986609.4864082,81055847.61358209,81101181.69866624,81189825.83834662,81263171.8616225,81323223.0294282,81346572.14637177,81362725.37719338,81444369.5306038,81506112.64817406,81620420.83028549,81694617.88572066,81784912.38704233,81808261.50398603,81824414.7348074,81906058.88821788,81967802.00578816,82082110.18789953,82156307.2433347,82246601.74465626,82269950.86160009,82286104.0924215,82367748.24583197,82429491.36340226,82543799.54551354,82617996.60094878,82708291.10227036,82731640.21921402,82747793.45003547,82829437.60344595,82891180.72101632,83005488.9031276,83079685.95856278,83169980.45988442,83193329.57682815,83209482.80764967,83291126.96106008,83352870.07863042,83467178.2607417,83541375.31617686,83631669.8174986,83655018.93444212],\"type\":\"scatter\"},{\"fill\":\"tonexty\",\"fillcolor\":\"rgba(0, 114, 178, 0.2)\",\"hoverinfo\":\"skip\",\"line\":{\"width\":0},\"mode\":\"lines\",\"x\":[\"2022-04-06T00:00:00\",\"2022-04-07T00:00:00\",\"2022-04-08T00:00:00\",\"2022-04-09T00:00:00\",\"2022-04-10T00:00:00\",\"2022-04-11T00:00:00\",\"2022-04-12T00:00:00\",\"2022-04-13T00:00:00\",\"2022-04-14T00:00:00\",\"2022-04-15T00:00:00\",\"2022-04-16T00:00:00\",\"2022-04-17T00:00:00\",\"2022-04-18T00:00:00\",\"2022-04-19T00:00:00\",\"2022-04-20T00:00:00\",\"2022-04-21T00:00:00\",\"2022-04-22T00:00:00\",\"2022-04-23T00:00:00\",\"2022-04-24T00:00:00\",\"2022-04-25T00:00:00\",\"2022-04-26T00:00:00\",\"2022-04-27T00:00:00\",\"2022-04-28T00:00:00\",\"2022-04-29T00:00:00\",\"2022-04-30T00:00:00\",\"2022-05-01T00:00:00\",\"2022-05-02T00:00:00\",\"2022-05-03T00:00:00\",\"2022-05-04T00:00:00\",\"2022-05-05T00:00:00\",\"2022-05-06T00:00:00\",\"2022-05-07T00:00:00\",\"2022-05-08T00:00:00\",\"2022-05-09T00:00:00\",\"2022-05-10T00:00:00\",\"2022-05-11T00:00:00\",\"2022-05-12T00:00:00\",\"2022-05-13T00:00:00\",\"2022-05-14T00:00:00\",\"2022-05-15T00:00:00\",\"2022-05-16T00:00:00\",\"2022-05-17T00:00:00\",\"2022-05-18T00:00:00\",\"2022-05-19T00:00:00\",\"2022-05-20T00:00:00\",\"2022-05-21T00:00:00\",\"2022-05-22T00:00:00\",\"2022-05-23T00:00:00\",\"2022-05-24T00:00:00\",\"2022-05-25T00:00:00\",\"2022-05-26T00:00:00\",\"2022-05-27T00:00:00\",\"2022-05-28T00:00:00\",\"2022-05-29T00:00:00\",\"2022-05-30T00:00:00\",\"2022-05-31T00:00:00\",\"2022-06-01T00:00:00\",\"2022-06-02T00:00:00\",\"2022-06-03T00:00:00\",\"2022-06-04T00:00:00\"],\"y\":[80255163.05645774,80302549.99676393,80390140.11535819,80402794.13368373,80412253.27202617,80454033.36153877,80489727.41941892,80531293.58208252,80580253.73463441,80615695.07588506,80628016.23105356,80635517.49962668,80696907.68007343,80736152.82387196,80805053.02675584,80864575.04054514,80954594.2122575,80974244.2924258,80986609.4864284,81055847.61360085,81101181.6986851,81189825.83836624,81263171.86164135,81323223.02944665,81346572.14639044,81362725.3772124,81444369.53062147,81506112.64819257,81620420.83030304,81694617.88573965,81797170.30475846,81849444.61379586,81908610.02405427,82042111.3512688,82156261.08849043,82333211.01589423,82486037.22062266,82642211.74015427,82739784.92679799,82826270.90371539,82992094.73863052,83129662.22005068,83340540.43845922,83502926.53858368,83680617.05309677,83805003.7196212,83933466.78251119,84146883.55332875,84296145.80899817,84531315.8879607,84723776.87357323,84913495.01469016,85052102.04286282,85179091.46722236,85350360.38210471,85545041.22071181,85755404.80136552,85925225.09606515,86147801.85004368,86320185.39882049],\"type\":\"scatter\"}],                        {\"height\":600,\"showlegend\":false,\"width\":900,\"xaxis\":{\"rangeselector\":{\"buttons\":[{\"count\":7,\"label\":\"1w\",\"step\":\"day\",\"stepmode\":\"backward\"},{\"count\":1,\"label\":\"1m\",\"step\":\"month\",\"stepmode\":\"backward\"},{\"count\":6,\"label\":\"6m\",\"step\":\"month\",\"stepmode\":\"backward\"},{\"count\":1,\"label\":\"1y\",\"step\":\"year\",\"stepmode\":\"backward\"},{\"step\":\"all\"}]},\"rangeslider\":{\"visible\":true},\"title\":{\"text\":\"ds\"},\"type\":\"date\"},\"yaxis\":{\"title\":{\"text\":\"y\"}},\"template\":{\"data\":{\"bar\":[{\"error_x\":{\"color\":\"#2a3f5f\"},\"error_y\":{\"color\":\"#2a3f5f\"},\"marker\":{\"line\":{\"color\":\"#E5ECF6\",\"width\":0.5},\"pattern\":{\"fillmode\":\"overlay\",\"size\":10,\"solidity\":0.2}},\"type\":\"bar\"}],\"barpolar\":[{\"marker\":{\"line\":{\"color\":\"#E5ECF6\",\"width\":0.5},\"pattern\":{\"fillmode\":\"overlay\",\"size\":10,\"solidity\":0.2}},\"type\":\"barpolar\"}],\"carpet\":[{\"aaxis\":{\"endlinecolor\":\"#2a3f5f\",\"gridcolor\":\"white\",\"linecolor\":\"white\",\"minorgridcolor\":\"white\",\"startlinecolor\":\"#2a3f5f\"},\"baxis\":{\"endlinecolor\":\"#2a3f5f\",\"gridcolor\":\"white\",\"linecolor\":\"white\",\"minorgridcolor\":\"white\",\"startlinecolor\":\"#2a3f5f\"},\"type\":\"carpet\"}],\"choropleth\":[{\"colorbar\":{\"outlinewidth\":0,\"ticks\":\"\"},\"type\":\"choropleth\"}],\"contour\":[{\"colorbar\":{\"outlinewidth\":0,\"ticks\":\"\"},\"colorscale\":[[0.0,\"#0d0887\"],[0.1111111111111111,\"#46039f\"],[0.2222222222222222,\"#7201a8\"],[0.3333333333333333,\"#9c179e\"],[0.4444444444444444,\"#bd3786\"],[0.5555555555555556,\"#d8576b\"],[0.6666666666666666,\"#ed7953\"],[0.7777777777777778,\"#fb9f3a\"],[0.8888888888888888,\"#fdca26\"],[1.0,\"#f0f921\"]],\"type\":\"contour\"}],\"contourcarpet\":[{\"colorbar\":{\"outlinewidth\":0,\"ticks\":\"\"},\"type\":\"contourcarpet\"}],\"heatmap\":[{\"colorbar\":{\"outlinewidth\":0,\"ticks\":\"\"},\"colorscale\":[[0.0,\"#0d0887\"],[0.1111111111111111,\"#46039f\"],[0.2222222222222222,\"#7201a8\"],[0.3333333333333333,\"#9c179e\"],[0.4444444444444444,\"#bd3786\"],[0.5555555555555556,\"#d8576b\"],[0.6666666666666666,\"#ed7953\"],[0.7777777777777778,\"#fb9f3a\"],[0.8888888888888888,\"#fdca26\"],[1.0,\"#f0f921\"]],\"type\":\"heatmap\"}],\"heatmapgl\":[{\"colorbar\":{\"outlinewidth\":0,\"ticks\":\"\"},\"colorscale\":[[0.0,\"#0d0887\"],[0.1111111111111111,\"#46039f\"],[0.2222222222222222,\"#7201a8\"],[0.3333333333333333,\"#9c179e\"],[0.4444444444444444,\"#bd3786\"],[0.5555555555555556,\"#d8576b\"],[0.6666666666666666,\"#ed7953\"],[0.7777777777777778,\"#fb9f3a\"],[0.8888888888888888,\"#fdca26\"],[1.0,\"#f0f921\"]],\"type\":\"heatmapgl\"}],\"histogram\":[{\"marker\":{\"pattern\":{\"fillmode\":\"overlay\",\"size\":10,\"solidity\":0.2}},\"type\":\"histogram\"}],\"histogram2d\":[{\"colorbar\":{\"outlinewidth\":0,\"ticks\":\"\"},\"colorscale\":[[0.0,\"#0d0887\"],[0.1111111111111111,\"#46039f\"],[0.2222222222222222,\"#7201a8\"],[0.3333333333333333,\"#9c179e\"],[0.4444444444444444,\"#bd3786\"],[0.5555555555555556,\"#d8576b\"],[0.6666666666666666,\"#ed7953\"],[0.7777777777777778,\"#fb9f3a\"],[0.8888888888888888,\"#fdca26\"],[1.0,\"#f0f921\"]],\"type\":\"histogram2d\"}],\"histogram2dcontour\":[{\"colorbar\":{\"outlinewidth\":0,\"ticks\":\"\"},\"colorscale\":[[0.0,\"#0d0887\"],[0.1111111111111111,\"#46039f\"],[0.2222222222222222,\"#7201a8\"],[0.3333333333333333,\"#9c179e\"],[0.4444444444444444,\"#bd3786\"],[0.5555555555555556,\"#d8576b\"],[0.6666666666666666,\"#ed7953\"],[0.7777777777777778,\"#fb9f3a\"],[0.8888888888888888,\"#fdca26\"],[1.0,\"#f0f921\"]],\"type\":\"histogram2dcontour\"}],\"mesh3d\":[{\"colorbar\":{\"outlinewidth\":0,\"ticks\":\"\"},\"type\":\"mesh3d\"}],\"parcoords\":[{\"line\":{\"colorbar\":{\"outlinewidth\":0,\"ticks\":\"\"}},\"type\":\"parcoords\"}],\"pie\":[{\"automargin\":true,\"type\":\"pie\"}],\"scatter\":[{\"marker\":{\"colorbar\":{\"outlinewidth\":0,\"ticks\":\"\"}},\"type\":\"scatter\"}],\"scatter3d\":[{\"line\":{\"colorbar\":{\"outlinewidth\":0,\"ticks\":\"\"}},\"marker\":{\"colorbar\":{\"outlinewidth\":0,\"ticks\":\"\"}},\"type\":\"scatter3d\"}],\"scattercarpet\":[{\"marker\":{\"colorbar\":{\"outlinewidth\":0,\"ticks\":\"\"}},\"type\":\"scattercarpet\"}],\"scattergeo\":[{\"marker\":{\"colorbar\":{\"outlinewidth\":0,\"ticks\":\"\"}},\"type\":\"scattergeo\"}],\"scattergl\":[{\"marker\":{\"colorbar\":{\"outlinewidth\":0,\"ticks\":\"\"}},\"type\":\"scattergl\"}],\"scattermapbox\":[{\"marker\":{\"colorbar\":{\"outlinewidth\":0,\"ticks\":\"\"}},\"type\":\"scattermapbox\"}],\"scatterpolar\":[{\"marker\":{\"colorbar\":{\"outlinewidth\":0,\"ticks\":\"\"}},\"type\":\"scatterpolar\"}],\"scatterpolargl\":[{\"marker\":{\"colorbar\":{\"outlinewidth\":0,\"ticks\":\"\"}},\"type\":\"scatterpolargl\"}],\"scatterternary\":[{\"marker\":{\"colorbar\":{\"outlinewidth\":0,\"ticks\":\"\"}},\"type\":\"scatterternary\"}],\"surface\":[{\"colorbar\":{\"outlinewidth\":0,\"ticks\":\"\"},\"colorscale\":[[0.0,\"#0d0887\"],[0.1111111111111111,\"#46039f\"],[0.2222222222222222,\"#7201a8\"],[0.3333333333333333,\"#9c179e\"],[0.4444444444444444,\"#bd3786\"],[0.5555555555555556,\"#d8576b\"],[0.6666666666666666,\"#ed7953\"],[0.7777777777777778,\"#fb9f3a\"],[0.8888888888888888,\"#fdca26\"],[1.0,\"#f0f921\"]],\"type\":\"surface\"}],\"table\":[{\"cells\":{\"fill\":{\"color\":\"#EBF0F8\"},\"line\":{\"color\":\"white\"}},\"header\":{\"fill\":{\"color\":\"#C8D4E3\"},\"line\":{\"color\":\"white\"}},\"type\":\"table\"}]},\"layout\":{\"annotationdefaults\":{\"arrowcolor\":\"#2a3f5f\",\"arrowhead\":0,\"arrowwidth\":1},\"autotypenumbers\":\"strict\",\"coloraxis\":{\"colorbar\":{\"outlinewidth\":0,\"ticks\":\"\"}},\"colorscale\":{\"diverging\":[[0,\"#8e0152\"],[0.1,\"#c51b7d\"],[0.2,\"#de77ae\"],[0.3,\"#f1b6da\"],[0.4,\"#fde0ef\"],[0.5,\"#f7f7f7\"],[0.6,\"#e6f5d0\"],[0.7,\"#b8e186\"],[0.8,\"#7fbc41\"],[0.9,\"#4d9221\"],[1,\"#276419\"]],\"sequential\":[[0.0,\"#0d0887\"],[0.1111111111111111,\"#46039f\"],[0.2222222222222222,\"#7201a8\"],[0.3333333333333333,\"#9c179e\"],[0.4444444444444444,\"#bd3786\"],[0.5555555555555556,\"#d8576b\"],[0.6666666666666666,\"#ed7953\"],[0.7777777777777778,\"#fb9f3a\"],[0.8888888888888888,\"#fdca26\"],[1.0,\"#f0f921\"]],\"sequentialminus\":[[0.0,\"#0d0887\"],[0.1111111111111111,\"#46039f\"],[0.2222222222222222,\"#7201a8\"],[0.3333333333333333,\"#9c179e\"],[0.4444444444444444,\"#bd3786\"],[0.5555555555555556,\"#d8576b\"],[0.6666666666666666,\"#ed7953\"],[0.7777777777777778,\"#fb9f3a\"],[0.8888888888888888,\"#fdca26\"],[1.0,\"#f0f921\"]]},\"colorway\":[\"#636efa\",\"#EF553B\",\"#00cc96\",\"#ab63fa\",\"#FFA15A\",\"#19d3f3\",\"#FF6692\",\"#B6E880\",\"#FF97FF\",\"#FECB52\"],\"font\":{\"color\":\"#2a3f5f\"},\"geo\":{\"bgcolor\":\"white\",\"lakecolor\":\"white\",\"landcolor\":\"#E5ECF6\",\"showlakes\":true,\"showland\":true,\"subunitcolor\":\"white\"},\"hoverlabel\":{\"align\":\"left\"},\"hovermode\":\"closest\",\"mapbox\":{\"style\":\"light\"},\"paper_bgcolor\":\"white\",\"plot_bgcolor\":\"#E5ECF6\",\"polar\":{\"angularaxis\":{\"gridcolor\":\"white\",\"linecolor\":\"white\",\"ticks\":\"\"},\"bgcolor\":\"#E5ECF6\",\"radialaxis\":{\"gridcolor\":\"white\",\"linecolor\":\"white\",\"ticks\":\"\"}},\"scene\":{\"xaxis\":{\"backgroundcolor\":\"#E5ECF6\",\"gridcolor\":\"white\",\"gridwidth\":2,\"linecolor\":\"white\",\"showbackground\":true,\"ticks\":\"\",\"zerolinecolor\":\"white\"},\"yaxis\":{\"backgroundcolor\":\"#E5ECF6\",\"gridcolor\":\"white\",\"gridwidth\":2,\"linecolor\":\"white\",\"showbackground\":true,\"ticks\":\"\",\"zerolinecolor\":\"white\"},\"zaxis\":{\"backgroundcolor\":\"#E5ECF6\",\"gridcolor\":\"white\",\"gridwidth\":2,\"linecolor\":\"white\",\"showbackground\":true,\"ticks\":\"\",\"zerolinecolor\":\"white\"}},\"shapedefaults\":{\"line\":{\"color\":\"#2a3f5f\"}},\"ternary\":{\"aaxis\":{\"gridcolor\":\"white\",\"linecolor\":\"white\",\"ticks\":\"\"},\"baxis\":{\"gridcolor\":\"white\",\"linecolor\":\"white\",\"ticks\":\"\"},\"bgcolor\":\"#E5ECF6\",\"caxis\":{\"gridcolor\":\"white\",\"linecolor\":\"white\",\"ticks\":\"\"}},\"title\":{\"x\":0.05},\"xaxis\":{\"automargin\":true,\"gridcolor\":\"white\",\"linecolor\":\"white\",\"ticks\":\"\",\"title\":{\"standoff\":15},\"zerolinecolor\":\"white\",\"zerolinewidth\":2},\"yaxis\":{\"automargin\":true,\"gridcolor\":\"white\",\"linecolor\":\"white\",\"ticks\":\"\",\"title\":{\"standoff\":15},\"zerolinecolor\":\"white\",\"zerolinewidth\":2}}}},                        {\"responsive\": true}                    ).then(function(){\n",
              "                            \n",
              "var gd = document.getElementById('935b704d-e341-44c6-8c01-93a748b4ee5a');\n",
              "var x = new MutationObserver(function (mutations, observer) {{\n",
              "        var display = window.getComputedStyle(gd).display;\n",
              "        if (!display || display === 'none') {{\n",
              "            console.log([gd, 'removed!']);\n",
              "            Plotly.purge(gd);\n",
              "            observer.disconnect();\n",
              "        }}\n",
              "}});\n",
              "\n",
              "// Listen for the removal of the full notebook cells\n",
              "var notebookContainer = gd.closest('#notebook-container');\n",
              "if (notebookContainer) {{\n",
              "    x.observe(notebookContainer, {childList: true});\n",
              "}}\n",
              "\n",
              "// Listen for the clearing of the current output cell\n",
              "var outputEl = gd.closest('.output');\n",
              "if (outputEl) {{\n",
              "    x.observe(outputEl, {childList: true});\n",
              "}}\n",
              "\n",
              "                        })                };                            </script>        </div>\n",
              "</body>\n",
              "</html>"
            ]
          },
          "metadata": {}
        }
      ]
    },
    {
      "cell_type": "code",
      "source": [
        "# plot the components of forcasted series\n",
        "fig2 = prophet.plot_components(forecast)\n",
        "plt.show()"
      ],
      "metadata": {
        "colab": {
          "base_uri": "https://localhost:8080/",
          "height": 441
        },
        "id": "yRBropnD8MbA",
        "outputId": "777a45e1-cdc2-41f4-e46e-77484e2858f6"
      },
      "execution_count": null,
      "outputs": [
        {
          "output_type": "display_data",
          "data": {
            "text/plain": [
              "<Figure size 648x432 with 2 Axes>"
            ],
            "image/png": "[encoded data removed]"
          },
          "metadata": {}
        }
      ]
    },
    {
      "cell_type": "code",
      "source": [
        "len(train)"
      ],
      "metadata": {
        "colab": {
          "base_uri": "https://localhost:8080/"
        },
        "id": "f0O7Qz8Y8Ncb",
        "outputId": "e717c24c-37ea-4de3-ed16-8368fc4183e3"
      },
      "execution_count": null,
      "outputs": [
        {
          "output_type": "execute_result",
          "data": {
            "text/plain": [
              "30"
            ]
          },
          "metadata": {},
          "execution_count": 22
        }
      ]
    },
    {
      "cell_type": "code",
      "source": [
        "# use built in fbprophet evaluation function and metrix\n",
        "evaluation_model = cross_validation(prophet, initial='20 days', period='4 days', horizon = '2 days')"
      ],
      "metadata": {
        "colab": {
          "base_uri": "https://localhost:8080/",
          "height": 457,
          "referenced_widgets": [
            "02575dd7243f4ac7a6dbd8fe13667fdf",
            "baf2d7b6e95c48a8be430c3628ae7141",
            "d236d0ea413746e8b65d553de593e76b",
            "09e1c5cb766c4d1da691691ff9f43b10",
            "42346d0dc6bf45eba03b09aabf801fd3",
            "2df4ba8267244f29922239f49a434516",
            "78ddb2e4751d4570a1b5e7fa799308a8",
            "306c1ce3e8f043a5903421fecf3e0ae3",
            "c257ec33c16d4dd08e7be1aac2099cab",
            "ce5a85e94e4b44dabc2eb9dfb90ccbe5",
            "c4c8d0ea8b0a4539b897b46e70e744f1"
          ]
        },
        "id": "hL8jnDy98Of6",
        "outputId": "0d566c8b-785d-4745-ef93-02835e9d748e"
      },
      "execution_count": null,
      "outputs": [
        {
          "output_type": "stream",
          "name": "stderr",
          "text": [
            "INFO:prophet:Making 2 forecasts with cutoffs between 2022-04-29 00:00:00 and 2022-05-03 00:00:00\n"
          ]
        },
        {
          "output_type": "display_data",
          "data": {
            "text/plain": [
              "  0%|          | 0/2 [00:00<?, ?it/s]"
            ],
            "application/vnd.jupyter.widget-view+json": {
              "version_major": 2,
              "version_minor": 0,
              "model_id": "02575dd7243f4ac7a6dbd8fe13667fdf"
            }
          },
          "metadata": {}
        },
        {
          "output_type": "stream",
          "name": "stderr",
          "text": [
            "INFO:prophet:n_changepoints greater than number of observations. Using 18.\n",
            "DEBUG:cmdstanpy:input tempfile: /tmp/tmp5iossgjm/15sx37j0.json\n",
            "DEBUG:cmdstanpy:input tempfile: /tmp/tmp5iossgjm/k1k7o68p.json\n",
            "DEBUG:cmdstanpy:idx 0\n",
            "DEBUG:cmdstanpy:running CmdStan, num_threads: None\n",
            "DEBUG:cmdstanpy:CmdStan args: ['/usr/local/lib/python3.8/dist-packages/prophet/stan_model/prophet_model.bin', 'random', 'seed=76430', 'data', 'file=/tmp/tmp5iossgjm/15sx37j0.json', 'init=/tmp/tmp5iossgjm/k1k7o68p.json', 'output', 'file=/tmp/tmp5iossgjm/prophet_model0opgaunn/prophet_model-20230102102309.csv', 'method=optimize', 'algorithm=newton', 'iter=10000']\n",
            "10:23:09 - cmdstanpy - INFO - Chain [1] start processing\n",
            "INFO:cmdstanpy:Chain [1] start processing\n",
            "10:23:20 - cmdstanpy - INFO - Chain [1] done processing\n",
            "INFO:cmdstanpy:Chain [1] done processing\n",
            "INFO:prophet:n_changepoints greater than number of observations. Using 21.\n",
            "DEBUG:cmdstanpy:input tempfile: /tmp/tmp5iossgjm/wpyfasyt.json\n",
            "DEBUG:cmdstanpy:input tempfile: /tmp/tmp5iossgjm/9jn7dea7.json\n",
            "DEBUG:cmdstanpy:idx 0\n",
            "DEBUG:cmdstanpy:running CmdStan, num_threads: None\n",
            "DEBUG:cmdstanpy:CmdStan args: ['/usr/local/lib/python3.8/dist-packages/prophet/stan_model/prophet_model.bin', 'random', 'seed=80132', 'data', 'file=/tmp/tmp5iossgjm/wpyfasyt.json', 'init=/tmp/tmp5iossgjm/9jn7dea7.json', 'output', 'file=/tmp/tmp5iossgjm/prophet_modeloh5zvqwi/prophet_model-20230102102320.csv', 'method=optimize', 'algorithm=newton', 'iter=10000']\n",
            "10:23:20 - cmdstanpy - INFO - Chain [1] start processing\n",
            "INFO:cmdstanpy:Chain [1] start processing\n",
            "10:23:22 - cmdstanpy - INFO - Chain [1] done processing\n",
            "INFO:cmdstanpy:Chain [1] done processing\n"
          ]
        }
      ]
    },
    {
      "cell_type": "code",
      "source": [
        "evaluation_metrix = performance_metrics(evaluation_model)\n",
        "evaluation_metrix.sort_values('rmse').head()"
      ],
      "metadata": {
        "colab": {
          "base_uri": "https://localhost:8080/",
          "height": 112
        },
        "id": "grT3mhDd8PWX",
        "outputId": "b70f8992-f0ee-4224-a14e-05e90debde03"
      },
      "execution_count": null,
      "outputs": [
        {
          "output_type": "execute_result",
          "data": {
            "text/plain": [
              "  horizon           mse          rmse           mae      mape     mdape  \\\n",
              "1  2 days  5.692710e+08  23859.401547  18749.856367  0.000230  0.000230   \n",
              "0  1 days  6.681047e+08  25847.722233  24541.708401  0.000301  0.000301   \n",
              "\n",
              "      smape  coverage  \n",
              "1  0.000230       0.5  \n",
              "0  0.000301       0.5  "
            ],
            "text/html": [
              "\n",
              "  <div id=\"df-c0e7aa5e-9745-4677-bc3e-6e6f0309e0ef\">\n",
              "    <div class=\"colab-df-container\">\n",
              "      <div>\n",
              "<style scoped>\n",
              "    .dataframe tbody tr th:only-of-type {\n",
              "        vertical-align: middle;\n",
              "    }\n",
              "\n",
              "    .dataframe tbody tr th {\n",
              "        vertical-align: top;\n",
              "    }\n",
              "\n",
              "    .dataframe thead th {\n",
              "        text-align: right;\n",
              "    }\n",
              "</style>\n",
              "<table border=\"1\" class=\"dataframe\">\n",
              "  <thead>\n",
              "    <tr style=\"text-align: right;\">\n",
              "      <th></th>\n",
              "      <th>horizon</th>\n",
              "      <th>mse</th>\n",
              "      <th>rmse</th>\n",
              "      <th>mae</th>\n",
              "      <th>mape</th>\n",
              "      <th>mdape</th>\n",
              "      <th>smape</th>\n",
              "      <th>coverage</th>\n",
              "    </tr>\n",
              "  </thead>\n",
              "  <tbody>\n",
              "    <tr>\n",
              "      <th>1</th>\n",
              "      <td>2 days</td>\n",
              "      <td>5.692710e+08</td>\n",
              "      <td>23859.401547</td>\n",
              "      <td>18749.856367</td>\n",
              "      <td>0.000230</td>\n",
              "      <td>0.000230</td>\n",
              "      <td>0.000230</td>\n",
              "      <td>0.5</td>\n",
              "    </tr>\n",
              "    <tr>\n",
              "      <th>0</th>\n",
              "      <td>1 days</td>\n",
              "      <td>6.681047e+08</td>\n",
              "      <td>25847.722233</td>\n",
              "      <td>24541.708401</td>\n",
              "      <td>0.000301</td>\n",
              "      <td>0.000301</td>\n",
              "      <td>0.000301</td>\n",
              "      <td>0.5</td>\n",
              "    </tr>\n",
              "  </tbody>\n",
              "</table>\n",
              "</div>\n",
              "      <button class=\"colab-df-convert\" onclick=\"convertToInteractive('df-c0e7aa5e-9745-4677-bc3e-6e6f0309e0ef')\"\n",
              "              title=\"Convert this dataframe to an interactive table.\"\n",
              "              style=\"display:none;\">\n",
              "        \n",
              "  <svg xmlns=\"http://www.w3.org/2000/svg\" height=\"24px\"viewBox=\"0 0 24 24\"\n",
              "       width=\"24px\">\n",
              "    <path d=\"M0 0h24v24H0V0z\" fill=\"none\"/>\n",
              "    <path d=\"M18.56 5.44l.94 2.06.94-2.06 2.06-.94-2.06-.94-.94-2.06-.94 2.06-2.06.94zm-11 1L8.5 8.5l.94-2.06 2.06-.94-2.06-.94L8.5 2.5l-.94 2.06-2.06.94zm10 10l.94 2.06.94-2.06 2.06-.94-2.06-.94-.94-2.06-.94 2.06-2.06.94z\"/><path d=\"M17.41 7.96l-1.37-1.37c-.4-.4-.92-.59-1.43-.59-.52 0-1.04.2-1.43.59L10.3 9.45l-7.72 7.72c-.78.78-.78 2.05 0 2.83L4 21.41c.39.39.9.59 1.41.59.51 0 1.02-.2 1.41-.59l7.78-7.78 2.81-2.81c.8-.78.8-2.07 0-2.86zM5.41 20L4 18.59l7.72-7.72 1.47 1.35L5.41 20z\"/>\n",
              "  </svg>\n",
              "      </button>\n",
              "      \n",
              "  <style>\n",
              "    .colab-df-container {\n",
              "      display:flex;\n",
              "      flex-wrap:wrap;\n",
              "      gap: 12px;\n",
              "    }\n",
              "\n",
              "    .colab-df-convert {\n",
              "      background-color: #E8F0FE;\n",
              "      border: none;\n",
              "      border-radius: 50%;\n",
              "      cursor: pointer;\n",
              "      display: none;\n",
              "      fill: #1967D2;\n",
              "      height: 32px;\n",
              "      padding: 0 0 0 0;\n",
              "      width: 32px;\n",
              "    }\n",
              "\n",
              "    .colab-df-convert:hover {\n",
              "      background-color: #E2EBFA;\n",
              "      box-shadow: 0px 1px 2px rgba(60, 64, 67, 0.3), 0px 1px 3px 1px rgba(60, 64, 67, 0.15);\n",
              "      fill: #174EA6;\n",
              "    }\n",
              "\n",
              "    [theme=dark] .colab-df-convert {\n",
              "      background-color: #3B4455;\n",
              "      fill: #D2E3FC;\n",
              "    }\n",
              "\n",
              "    [theme=dark] .colab-df-convert:hover {\n",
              "      background-color: #434B5C;\n",
              "      box-shadow: 0px 1px 3px 1px rgba(0, 0, 0, 0.15);\n",
              "      filter: drop-shadow(0px 1px 2px rgba(0, 0, 0, 0.3));\n",
              "      fill: #FFFFFF;\n",
              "    }\n",
              "  </style>\n",
              "\n",
              "      <script>\n",
              "        const buttonEl =\n",
              "          document.querySelector('#df-c0e7aa5e-9745-4677-bc3e-6e6f0309e0ef button.colab-df-convert');\n",
              "        buttonEl.style.display =\n",
              "          google.colab.kernel.accessAllowed ? 'block' : 'none';\n",
              "\n",
              "        async function convertToInteractive(key) {\n",
              "          const element = document.querySelector('#df-c0e7aa5e-9745-4677-bc3e-6e6f0309e0ef');\n",
              "          const dataTable =\n",
              "            await google.colab.kernel.invokeFunction('convertToInteractive',\n",
              "                                                     [key], {});\n",
              "          if (!dataTable) return;\n",
              "\n",
              "          const docLinkHtml = 'Like what you see? Visit the ' +\n",
              "            '<a target=\"_blank\" href=https://colab.research.google.com/notebooks/data_table.ipynb>data table notebook</a>'\n",
              "            + ' to learn more about interactive tables.';\n",
              "          element.innerHTML = '';\n",
              "          dataTable['output_type'] = 'display_data';\n",
              "          await google.colab.output.renderOutput(dataTable, element);\n",
              "          const docLink = document.createElement('div');\n",
              "          docLink.innerHTML = docLinkHtml;\n",
              "          element.appendChild(docLink);\n",
              "        }\n",
              "      </script>\n",
              "    </div>\n",
              "  </div>\n",
              "  "
            ]
          },
          "metadata": {},
          "execution_count": 24
        }
      ]
    }
  ]
}