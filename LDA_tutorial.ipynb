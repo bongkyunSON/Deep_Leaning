{
  "nbformat": 4,
  "nbformat_minor": 0,
  "metadata": {
    "kernelspec": {
      "display_name": "Python 3",
      "language": "python",
      "name": "python3"
    },
    "language_info": {
      "codemirror_mode": {
        "name": "ipython",
        "version": 3
      },
      "file_extension": ".py",
      "mimetype": "text/x-python",
      "name": "python",
      "nbconvert_exporter": "python",
      "pygments_lexer": "ipython3",
      "version": "3.6.12"
    },
    "latex_metadata": {
      "author": "이기황",
      "coursetitle": "텍스트분석기법",
      "courseyear": "2018",
      "date": "2018.04.18",
      "logofile": "figs/ewhauniv-logo.png",
      "logoraise": "-.2",
      "logoscale": ".4",
      "title": "단어 임베딩과 토픽 모델링"
    },
    "colab": {
      "provenance": [],
      "include_colab_link": true
    },
    "widgets": {
      "application/vnd.jupyter.widget-state+json": {
        "66a8d9c39d1c4733aca0f6fb4af98cdf": {
          "model_module": "@jupyter-widgets/controls",
          "model_name": "HBoxModel",
          "model_module_version": "1.5.0",
          "state": {
            "_dom_classes": [],
            "_model_module": "@jupyter-widgets/controls",
            "_model_module_version": "1.5.0",
            "_model_name": "HBoxModel",
            "_view_count": null,
            "_view_module": "@jupyter-widgets/controls",
            "_view_module_version": "1.5.0",
            "_view_name": "HBoxView",
            "box_style": "",
            "children": [
              "IPY_MODEL_c7d11b897eaf4091b5c186852b460aa0",
              "IPY_MODEL_da493c35634f41e7b11dad2ad450b7d4",
              "IPY_MODEL_7a4aebcbc680470da890414ad874bcb6"
            ],
            "layout": "IPY_MODEL_ed1ed608bd4d421aa43d7ef409b5af16"
          }
        },
        "c7d11b897eaf4091b5c186852b460aa0": {
          "model_module": "@jupyter-widgets/controls",
          "model_name": "HTMLModel",
          "model_module_version": "1.5.0",
          "state": {
            "_dom_classes": [],
            "_model_module": "@jupyter-widgets/controls",
            "_model_module_version": "1.5.0",
            "_model_name": "HTMLModel",
            "_view_count": null,
            "_view_module": "@jupyter-widgets/controls",
            "_view_module_version": "1.5.0",
            "_view_name": "HTMLView",
            "description": "",
            "description_tooltip": null,
            "layout": "IPY_MODEL_1797199e1fee4c40b577898e4ed4c300",
            "placeholder": "​",
            "style": "IPY_MODEL_288e0b54978d4ca589635a5ca314341c",
            "value": "100%"
          }
        },
        "da493c35634f41e7b11dad2ad450b7d4": {
          "model_module": "@jupyter-widgets/controls",
          "model_name": "FloatProgressModel",
          "model_module_version": "1.5.0",
          "state": {
            "_dom_classes": [],
            "_model_module": "@jupyter-widgets/controls",
            "_model_module_version": "1.5.0",
            "_model_name": "FloatProgressModel",
            "_view_count": null,
            "_view_module": "@jupyter-widgets/controls",
            "_view_module_version": "1.5.0",
            "_view_name": "ProgressView",
            "bar_style": "success",
            "description": "",
            "description_tooltip": null,
            "layout": "IPY_MODEL_541d6a812e844bc383c78c7caa0e8d1c",
            "max": 5,
            "min": 0,
            "orientation": "horizontal",
            "style": "IPY_MODEL_aeea3092db0c4315b35501a83f80c559",
            "value": 5
          }
        },
        "7a4aebcbc680470da890414ad874bcb6": {
          "model_module": "@jupyter-widgets/controls",
          "model_name": "HTMLModel",
          "model_module_version": "1.5.0",
          "state": {
            "_dom_classes": [],
            "_model_module": "@jupyter-widgets/controls",
            "_model_module_version": "1.5.0",
            "_model_name": "HTMLModel",
            "_view_count": null,
            "_view_module": "@jupyter-widgets/controls",
            "_view_module_version": "1.5.0",
            "_view_name": "HTMLView",
            "description": "",
            "description_tooltip": null,
            "layout": "IPY_MODEL_dd38747eb90841ac9252e96c42cadd7d",
            "placeholder": "​",
            "style": "IPY_MODEL_06cf9db0412943a789a9f59eac83de37",
            "value": " 5/5 [03:54&lt;00:00, 48.24s/it]"
          }
        },
        "ed1ed608bd4d421aa43d7ef409b5af16": {
          "model_module": "@jupyter-widgets/base",
          "model_name": "LayoutModel",
          "model_module_version": "1.2.0",
          "state": {
            "_model_module": "@jupyter-widgets/base",
            "_model_module_version": "1.2.0",
            "_model_name": "LayoutModel",
            "_view_count": null,
            "_view_module": "@jupyter-widgets/base",
            "_view_module_version": "1.2.0",
            "_view_name": "LayoutView",
            "align_content": null,
            "align_items": null,
            "align_self": null,
            "border": null,
            "bottom": null,
            "display": null,
            "flex": null,
            "flex_flow": null,
            "grid_area": null,
            "grid_auto_columns": null,
            "grid_auto_flow": null,
            "grid_auto_rows": null,
            "grid_column": null,
            "grid_gap": null,
            "grid_row": null,
            "grid_template_areas": null,
            "grid_template_columns": null,
            "grid_template_rows": null,
            "height": null,
            "justify_content": null,
            "justify_items": null,
            "left": null,
            "margin": null,
            "max_height": null,
            "max_width": null,
            "min_height": null,
            "min_width": null,
            "object_fit": null,
            "object_position": null,
            "order": null,
            "overflow": null,
            "overflow_x": null,
            "overflow_y": null,
            "padding": null,
            "right": null,
            "top": null,
            "visibility": null,
            "width": null
          }
        },
        "1797199e1fee4c40b577898e4ed4c300": {
          "model_module": "@jupyter-widgets/base",
          "model_name": "LayoutModel",
          "model_module_version": "1.2.0",
          "state": {
            "_model_module": "@jupyter-widgets/base",
            "_model_module_version": "1.2.0",
            "_model_name": "LayoutModel",
            "_view_count": null,
            "_view_module": "@jupyter-widgets/base",
            "_view_module_version": "1.2.0",
            "_view_name": "LayoutView",
            "align_content": null,
            "align_items": null,
            "align_self": null,
            "border": null,
            "bottom": null,
            "display": null,
            "flex": null,
            "flex_flow": null,
            "grid_area": null,
            "grid_auto_columns": null,
            "grid_auto_flow": null,
            "grid_auto_rows": null,
            "grid_column": null,
            "grid_gap": null,
            "grid_row": null,
            "grid_template_areas": null,
            "grid_template_columns": null,
            "grid_template_rows": null,
            "height": null,
            "justify_content": null,
            "justify_items": null,
            "left": null,
            "margin": null,
            "max_height": null,
            "max_width": null,
            "min_height": null,
            "min_width": null,
            "object_fit": null,
            "object_position": null,
            "order": null,
            "overflow": null,
            "overflow_x": null,
            "overflow_y": null,
            "padding": null,
            "right": null,
            "top": null,
            "visibility": null,
            "width": null
          }
        },
        "288e0b54978d4ca589635a5ca314341c": {
          "model_module": "@jupyter-widgets/controls",
          "model_name": "DescriptionStyleModel",
          "model_module_version": "1.5.0",
          "state": {
            "_model_module": "@jupyter-widgets/controls",
            "_model_module_version": "1.5.0",
            "_model_name": "DescriptionStyleModel",
            "_view_count": null,
            "_view_module": "@jupyter-widgets/base",
            "_view_module_version": "1.2.0",
            "_view_name": "StyleView",
            "description_width": ""
          }
        },
        "541d6a812e844bc383c78c7caa0e8d1c": {
          "model_module": "@jupyter-widgets/base",
          "model_name": "LayoutModel",
          "model_module_version": "1.2.0",
          "state": {
            "_model_module": "@jupyter-widgets/base",
            "_model_module_version": "1.2.0",
            "_model_name": "LayoutModel",
            "_view_count": null,
            "_view_module": "@jupyter-widgets/base",
            "_view_module_version": "1.2.0",
            "_view_name": "LayoutView",
            "align_content": null,
            "align_items": null,
            "align_self": null,
            "border": null,
            "bottom": null,
            "display": null,
            "flex": null,
            "flex_flow": null,
            "grid_area": null,
            "grid_auto_columns": null,
            "grid_auto_flow": null,
            "grid_auto_rows": null,
            "grid_column": null,
            "grid_gap": null,
            "grid_row": null,
            "grid_template_areas": null,
            "grid_template_columns": null,
            "grid_template_rows": null,
            "height": null,
            "justify_content": null,
            "justify_items": null,
            "left": null,
            "margin": null,
            "max_height": null,
            "max_width": null,
            "min_height": null,
            "min_width": null,
            "object_fit": null,
            "object_position": null,
            "order": null,
            "overflow": null,
            "overflow_x": null,
            "overflow_y": null,
            "padding": null,
            "right": null,
            "top": null,
            "visibility": null,
            "width": null
          }
        },
        "aeea3092db0c4315b35501a83f80c559": {
          "model_module": "@jupyter-widgets/controls",
          "model_name": "ProgressStyleModel",
          "model_module_version": "1.5.0",
          "state": {
            "_model_module": "@jupyter-widgets/controls",
            "_model_module_version": "1.5.0",
            "_model_name": "ProgressStyleModel",
            "_view_count": null,
            "_view_module": "@jupyter-widgets/base",
            "_view_module_version": "1.2.0",
            "_view_name": "StyleView",
            "bar_color": null,
            "description_width": ""
          }
        },
        "dd38747eb90841ac9252e96c42cadd7d": {
          "model_module": "@jupyter-widgets/base",
          "model_name": "LayoutModel",
          "model_module_version": "1.2.0",
          "state": {
            "_model_module": "@jupyter-widgets/base",
            "_model_module_version": "1.2.0",
            "_model_name": "LayoutModel",
            "_view_count": null,
            "_view_module": "@jupyter-widgets/base",
            "_view_module_version": "1.2.0",
            "_view_name": "LayoutView",
            "align_content": null,
            "align_items": null,
            "align_self": null,
            "border": null,
            "bottom": null,
            "display": null,
            "flex": null,
            "flex_flow": null,
            "grid_area": null,
            "grid_auto_columns": null,
            "grid_auto_flow": null,
            "grid_auto_rows": null,
            "grid_column": null,
            "grid_gap": null,
            "grid_row": null,
            "grid_template_areas": null,
            "grid_template_columns": null,
            "grid_template_rows": null,
            "height": null,
            "justify_content": null,
            "justify_items": null,
            "left": null,
            "margin": null,
            "max_height": null,
            "max_width": null,
            "min_height": null,
            "min_width": null,
            "object_fit": null,
            "object_position": null,
            "order": null,
            "overflow": null,
            "overflow_x": null,
            "overflow_y": null,
            "padding": null,
            "right": null,
            "top": null,
            "visibility": null,
            "width": null
          }
        },
        "06cf9db0412943a789a9f59eac83de37": {
          "model_module": "@jupyter-widgets/controls",
          "model_name": "DescriptionStyleModel",
          "model_module_version": "1.5.0",
          "state": {
            "_model_module": "@jupyter-widgets/controls",
            "_model_module_version": "1.5.0",
            "_model_name": "DescriptionStyleModel",
            "_view_count": null,
            "_view_module": "@jupyter-widgets/base",
            "_view_module_version": "1.2.0",
            "_view_name": "StyleView",
            "description_width": ""
          }
        }
      }
    }
  },
  "cells": [
    {
      "cell_type": "markdown",
      "metadata": {
        "id": "view-in-github",
        "colab_type": "text"
      },
      "source": [
        "<a href=\"https://colab.research.google.com/github/bongkyunSON/Deep_Leaning/blob/main/LDA_tutorial.ipynb\" target=\"_parent\"><img src=\"https://colab.research.google.com/assets/colab-badge.svg\" alt=\"Open In Colab\"/></a>"
      ]
    },
    {
      "cell_type": "markdown",
      "metadata": {
        "id": "TuOCC1wcBFfY"
      },
      "source": [
        "# 토픽모델링을 통한 키워드 분석"
      ]
    },
    {
      "cell_type": "code",
      "metadata": {
        "id": "IlTxfBOABQfq",
        "colab": {
          "base_uri": "https://localhost:8080/"
        },
        "outputId": "311a994e-96b2-4d06-af00-0e0268da7fff"
      },
      "source": [
        "from google.colab import drive\n",
        "drive.mount('/content/drive')"
      ],
      "execution_count": null,
      "outputs": [
        {
          "output_type": "stream",
          "name": "stdout",
          "text": [
            "Drive already mounted at /content/drive; to attempt to forcibly remount, call drive.mount(\"/content/drive\", force_remount=True).\n"
          ]
        }
      ]
    },
    {
      "cell_type": "markdown",
      "metadata": {
        "id": "adQquisFBFfo"
      },
      "source": [
        "## 1. 사용할 라이브러리/데이터 불러오기 "
      ]
    },
    {
      "cell_type": "code",
      "source": [
        "!pip install konlpy pecab gensim\n",
        "!curl -s https://raw.githubusercontent.com/konlpy/konlpy/master/scripts/mecab.sh | bash -x"
      ],
      "metadata": {
        "id": "WqOyXPWztph2",
        "colab": {
          "base_uri": "https://localhost:8080/"
        },
        "outputId": "2210b28f-9bb4-44b7-ff05-be17becd43c2"
      },
      "execution_count": null,
      "outputs": [
        {
          "output_type": "stream",
          "name": "stdout",
          "text": [
            "Looking in indexes: https://pypi.org/simple, https://us-python.pkg.dev/colab-wheels/public/simple/\n",
            "Requirement already satisfied: konlpy in /usr/local/lib/python3.8/dist-packages (0.6.0)\n",
            "Requirement already satisfied: pecab in /usr/local/lib/python3.8/dist-packages (1.0.2)\n",
            "Requirement already satisfied: gensim in /usr/local/lib/python3.8/dist-packages (3.6.0)\n",
            "Requirement already satisfied: lxml>=4.1.0 in /usr/local/lib/python3.8/dist-packages (from konlpy) (4.9.1)\n",
            "Requirement already satisfied: numpy>=1.6 in /usr/local/lib/python3.8/dist-packages (from konlpy) (1.21.6)\n",
            "Requirement already satisfied: JPype1>=0.7.0 in /usr/local/lib/python3.8/dist-packages (from konlpy) (1.4.1)\n",
            "Requirement already satisfied: packaging in /usr/local/lib/python3.8/dist-packages (from JPype1>=0.7.0->konlpy) (21.3)\n",
            "Requirement already satisfied: regex in /usr/local/lib/python3.8/dist-packages (from pecab) (2022.6.2)\n",
            "Requirement already satisfied: pyarrow in /usr/local/lib/python3.8/dist-packages (from pecab) (9.0.0)\n",
            "Requirement already satisfied: emoji==1.2.0 in /usr/local/lib/python3.8/dist-packages (from pecab) (1.2.0)\n",
            "Requirement already satisfied: scipy>=0.18.1 in /usr/local/lib/python3.8/dist-packages (from gensim) (1.7.3)\n",
            "Requirement already satisfied: smart-open>=1.2.1 in /usr/local/lib/python3.8/dist-packages (from gensim) (5.2.1)\n",
            "Requirement already satisfied: six>=1.5.0 in /usr/local/lib/python3.8/dist-packages (from gensim) (1.15.0)\n",
            "Requirement already satisfied: pyparsing!=3.0.5,>=2.0.2 in /usr/local/lib/python3.8/dist-packages (from packaging->JPype1>=0.7.0->konlpy) (3.0.9)\n",
            "+ mecab_dicdir=/usr/local/lib/mecab/dic/mecab-ko-dic\n",
            "+ set -e\n",
            "++ uname\n",
            "+ os=Linux\n",
            "+ [[ ! Linux == \\L\\i\\n\\u\\x ]]\n",
            "+ hash sudo\n",
            "+ sudo=sudo\n",
            "+ python=python3\n",
            "+ hash pyenv\n",
            "+ at_user_site=\n",
            "++ check_python_site_location_is_writable\n",
            "++ python3 -\n",
            "+ [[ 1 == \\0 ]]\n",
            "+ hash automake\n",
            "+ hash mecab\n",
            "+ echo 'mecab-ko is already installed'\n",
            "mecab-ko is already installed\n",
            "+ [[ -d /usr/local/lib/mecab/dic/mecab-ko-dic ]]\n",
            "+ echo 'mecab-ko-dic is already installed'\n",
            "mecab-ko-dic is already installed\n",
            "++ python3 -c 'import pkgutil; print(1 if pkgutil.find_loader(\"MeCab\") else 0)'\n",
            "+ [[ 1 == \\1 ]]\n",
            "+ echo 'mecab-python is already installed'\n",
            "mecab-python is already installed\n",
            "+ echo Done.\n",
            "Done.\n"
          ]
        }
      ]
    },
    {
      "cell_type": "code",
      "metadata": {
        "id": "icuWN--BBFfv",
        "colab": {
          "base_uri": "https://localhost:8080/"
        },
        "outputId": "3daa0275-1e9b-46bf-bd79-aba5c5cda89e"
      },
      "source": [
        "import sys\n",
        "from sklearn.feature_extraction.text import CountVectorizer\n",
        "from tqdm.notebook import tqdm  # progress bar\n",
        "from konlpy.tag import Mecab; mecab = Mecab()\n",
        "from konlpy.tag import Komoran; komoran = Komoran()\n",
        "\n",
        "import numpy as np\n",
        "import pandas as pd\n",
        "import string\n",
        "import re\n",
        "import warnings\n",
        "from gensim import corpora\n",
        "from gensim import models\n",
        "import matplotlib.pyplot as plt\n",
        "import platform\n",
        "from matplotlib import font_manager, rc\n",
        "%matplotlib inline\n",
        "\n",
        "## 운영체제별 글꼴 세팅\n",
        "\n",
        "# 그래프를 이쁘게 그리기 위한 코드입니다. 한글 글꼴을 추가합니다.\n",
        "\n",
        "%matplotlib inline  \n",
        "\n",
        "import matplotlib as mpl  # 기본 설정 만지는 용도\n",
        "import matplotlib.pyplot as plt  # 그래프 그리는 용도\n",
        "import matplotlib.font_manager as fm  # 폰트 관련 용도\n",
        "import seaborn as sns\n",
        "mpl.rcParams['axes.unicode_minus'] = False\n",
        "\n",
        "sys_font=fm.findSystemFonts()\n",
        "print(f\"sys_font number: {len(sys_font)}\")\n",
        "print(sys_font)\n",
        "\n",
        "nanum_font = [f for f in sys_font if 'Nanum' in f]\n",
        "print(f\"nanum_font number: {len(nanum_font)}\")\n",
        "\n",
        "!apt-get update -qq\n",
        "!apt-get install fonts-nanum* -qq\n",
        "\n",
        "path = '/usr/share/fonts/truetype/nanum/NanumBarunGothicBold.ttf'  # 설치된 나눔글꼴중 원하는 녀석의 전체 경로를 가져옵니다.\n",
        "font_name = fm.FontProperties(fname=path, size=10).get_name()\n",
        "print(font_name)\n",
        "plt.rc('font', family=font_name)\n",
        "\n",
        "fm._rebuild()"
      ],
      "execution_count": null,
      "outputs": [
        {
          "output_type": "stream",
          "name": "stdout",
          "text": [
            "sys_font number: 48\n",
            "['/usr/share/fonts/truetype/liberation/LiberationSans-Regular.ttf', '/usr/share/fonts/truetype/liberation/LiberationSerif-Regular.ttf', '/usr/share/fonts/truetype/nanum/NanumGothic.ttf', '/usr/share/fonts/truetype/liberation/LiberationSerif-Bold.ttf', '/usr/share/fonts/truetype/nanum/NanumGothicBold.ttf', '/usr/share/fonts/truetype/humor-sans/Humor-Sans.ttf', '/usr/share/fonts/truetype/nanum/NanumGothicCoding.ttf', '/usr/share/fonts/truetype/nanum/NanumSquareRoundB.ttf', '/usr/share/fonts/truetype/nanum/NanumBarunGothic.ttf', '/usr/share/fonts/truetype/liberation/LiberationSansNarrow-BoldItalic.ttf', '/usr/share/fonts/truetype/nanum/NanumSquareL.ttf', '/usr/share/fonts/truetype/nanum/NanumSquareB.ttf', '/usr/share/fonts/truetype/liberation/LiberationSansNarrow-Regular.ttf', '/usr/share/fonts/truetype/nanum/NanumGothicEcoBold.ttf', '/usr/share/fonts/truetype/nanum/NanumMyeongjoBold.ttf', '/usr/share/fonts/truetype/nanum/NanumSquareR.ttf', '/usr/share/fonts/truetype/nanum/NanumBarunGothicUltraLight.ttf', '/usr/share/fonts/truetype/liberation/LiberationSerif-BoldItalic.ttf', '/usr/share/fonts/truetype/liberation/LiberationSerif-Italic.ttf', '/usr/share/fonts/truetype/nanum/NanumBrush.ttf', '/usr/share/fonts/truetype/nanum/NanumMyeongjoEcoExtraBold.ttf', '/usr/share/fonts/truetype/nanum/NanumGothicEco.ttf', '/usr/share/fonts/truetype/nanum/NanumGothicCoding-Bold.ttf', '/usr/share/fonts/truetype/nanum/NanumMyeongjoExtraBold.ttf', '/usr/share/fonts/truetype/nanum/NanumPen.ttf', '/usr/share/fonts/truetype/nanum/NanumSquareRoundR.ttf', '/usr/share/fonts/truetype/liberation/LiberationSans-Bold.ttf', '/usr/share/fonts/truetype/liberation/LiberationSansNarrow-Bold.ttf', '/usr/share/fonts/truetype/liberation/LiberationMono-Italic.ttf', '/usr/share/fonts/truetype/liberation/LiberationMono-Regular.ttf', '/usr/share/fonts/truetype/nanum/NanumSquareEB.ttf', '/usr/share/fonts/truetype/nanum/NanumSquareRoundL.ttf', '/usr/share/fonts/truetype/nanum/NanumBarunpenR.ttf', '/usr/share/fonts/truetype/nanum/NanumSquareRoundEB.ttf', '/usr/share/fonts/truetype/nanum/NanumMyeongjoEco.ttf', '/usr/share/fonts/truetype/liberation/LiberationSans-BoldItalic.ttf', '/usr/share/fonts/truetype/nanum/NanumMyeongjo.ttf', '/usr/share/fonts/truetype/liberation/LiberationSansNarrow-Italic.ttf', '/usr/share/fonts/truetype/nanum/NanumGothicExtraBold.ttf', '/usr/share/fonts/truetype/nanum/NanumGothicLight.ttf', '/usr/share/fonts/truetype/nanum/NanumBarunGothicLight.ttf', '/usr/share/fonts/truetype/liberation/LiberationMono-BoldItalic.ttf', '/usr/share/fonts/truetype/nanum/NanumGothicEcoExtraBold.ttf', '/usr/share/fonts/truetype/nanum/NanumMyeongjoEcoBold.ttf', '/usr/share/fonts/truetype/liberation/LiberationSans-Italic.ttf', '/usr/share/fonts/truetype/nanum/NanumBarunGothicBold.ttf', '/usr/share/fonts/truetype/nanum/NanumBarunpenB.ttf', '/usr/share/fonts/truetype/liberation/LiberationMono-Bold.ttf']\n",
            "nanum_font number: 31\n",
            "NanumBarunGothic\n"
          ]
        }
      ]
    },
    {
      "cell_type": "code",
      "metadata": {
        "id": "brEQeLSiBFfw"
      },
      "source": [
        "# Colab Notebooks\n",
        "\n",
        "## 크롤링한 파일이 바뀌면, 경로도 수정되어야 합니다.\n",
        "data_path = '/content/drive/MyDrive/Colab Notebooks/DeepLearning/data/애플_(2022.01.01_2022.12.06).xlsx'"
      ],
      "execution_count": null,
      "outputs": []
    },
    {
      "cell_type": "code",
      "metadata": {
        "id": "OwY3qvYXBFfx",
        "colab": {
          "base_uri": "https://localhost:8080/"
        },
        "outputId": "c0cd504d-68e6-462a-ed89-65c459a54a1d"
      },
      "source": [
        "import pandas as pd\n",
        "\n",
        "documents = pd.read_excel(data_path)['contents'].dropna() # 빈 문서 제거.\n",
        "documents"
      ],
      "execution_count": null,
      "outputs": [
        {
          "output_type": "execute_result",
          "data": {
            "text/plain": [
              "0       애플페이 도입에 ‘확인 불가’…소비자 ‘답답’MST 단말기 대부분인데…애플 NFC ...\n",
              "1       기사내용 요약NFC 단말기 보조금 지급, 정보 유출 방지 대책 등 검토 필요    ...\n",
              "2       [파이낸셜뉴스]       애플이 중국 이외 지역 생산 확대를 시도하는 가운데 지난...\n",
              "3       위니아·위니아에이드 등 급등금감원 애플페이 약관심사 완료이르면 올해 안에 공식 출시...\n",
              "4       애플페이, 비자에 이어 '세계 결제 규모 2위'    금융위, 애플페이 카드·전자금...\n",
              "                              ...                        \n",
              "4669    [편집자주] '오미주'는 '오늘 주목되는 미국 주식'의 줄인 말입니다. 주가에 영향...\n",
              "4670    애플, \"9월 8일 아이폰14 공개\" 발표크기 작은 '미니' 대신 화면 키운 '맥스...\n",
              "4671    ■ 경제와이드 모닝벨 '글로벌 비즈' - 고유미 외신캐스터글로벌 비즈입니다.◇ 애플...\n",
              "4672    올해 한국문학번역상 번역대상 수상자로 고은지와 마시 카라브레타 칸시오 벨로, 유신신...\n",
              "4673    [편집자주] '오미주'는 '오늘 주목되는 미국 주식'의 줄인 말입니다. 주가에 영향...\n",
              "Name: contents, Length: 4662, dtype: object"
            ]
          },
          "metadata": {},
          "execution_count": 5
        }
      ]
    },
    {
      "cell_type": "markdown",
      "metadata": {
        "id": "OTjrMnLeBFfy"
      },
      "source": [
        "## 2. 전처리 함수 정의하기 "
      ]
    },
    {
      "cell_type": "code",
      "metadata": {
        "id": "GLX7qkcaBFfy"
      },
      "source": [
        "def text_cleaning(doc):\n",
        "    # 한국어를 제외한 글자를 제거하는 패턴.\n",
        "    #doc = re.sub(\"[^ㄱ-ㅎㅏ-ㅣ가-힣 ]\", \"\", doc)\n",
        "    \n",
        "    # 특수문자를 제거하는 패턴.\n",
        "    doc = re.sub(\"[\\{\\}\\[\\]\\/?.,;:|\\)*~`!^\\-_+<>@\\#$%&\\\\\\=\\(\\'\\\"]\", \" \", doc)\n",
        "    \n",
        "    # 영문 빼고 모두 제거하는 패턴.\n",
        "    #doc = doc.replace(\"\\n\", \" \")\n",
        "    #doc = re.sub(\"[^A-Za-z ]\", \"\", doc)\n",
        "    \n",
        "    return doc\n",
        "\n",
        "def define_stopwords(path):\n",
        "    \n",
        "    SW = set()\n",
        "    # 불용어를 추가하는 방법 1.\n",
        "    # SW.add(\"있다\")\n",
        "    SW.add(\"있어요\")\n",
        "    \n",
        "    # 불용어를 추가하는 방법 2.\n",
        "    # stopwords-ko.txt에 직접 추가\n",
        "    \n",
        "    with open(path, encoding=\"utf-8\") as f:\n",
        "        for word in f:\n",
        "            SW.add(word.strip())\n",
        "            \n",
        "    return SW\n",
        "\n",
        "def text_tokenizing(doc, tokenizer):\n",
        "    \"\"\"\n",
        "    Input Parameter :\n",
        "    \n",
        "    doc - tokenizing 하는 실제 데이터.\n",
        "    tokenizer - token의 단위.\n",
        "    \"\"\"\n",
        "    # 불용어(SW)에 포함되어 있지 않고, 두 글자 이상인 token(형태소)만 사용하겠다.\n",
        "    \n",
        "    if tokenizer == \"words\":\n",
        "        return [token for token in doc.split() if (token not in SW) and (len(token) >= 2)]\n",
        "    \n",
        "    elif tokenizer == \"nouns\":\n",
        "        return [token for token in mecab.nouns(doc) if (token not in SW) and (len(token) >= 2)] # 주어진 텍스트에서 명사만 뽑아서 리스트로 반환.\n",
        "        \n",
        "    elif tokenizer == \"morphs\":\n",
        "        return [token for token in mecab.morphs(doc) if (token not in SW) and (len(token) >= 2)] # 주어진 텍스트에서 형태소 단위로 잘라서 리스트로 반환."
      ],
      "execution_count": null,
      "outputs": []
    },
    {
      "cell_type": "code",
      "metadata": {
        "id": "UbaN1xzxBFfz"
      },
      "source": [
        "tokenizer = 'nouns'\n",
        "SW = define_stopwords('/content/drive/MyDrive/Colab Notebooks/DeepLearning/data/stopwords-ko.txt')\n",
        "tokenized_documents = [text_tokenizing(text_cleaning(doc), tokenizer=tokenizer) for doc in documents]"
      ],
      "execution_count": null,
      "outputs": []
    },
    {
      "cell_type": "code",
      "metadata": {
        "id": "4mOJFy_oBFf1",
        "colab": {
          "base_uri": "https://localhost:8080/"
        },
        "outputId": "97c88ca9-dda0-40f6-a4a0-6bf998c6f42a"
      },
      "source": [
        "print(len(tokenized_documents))\n",
        "print(tokenized_documents[0])"
      ],
      "execution_count": null,
      "outputs": [
        {
          "output_type": "stream",
          "name": "stdout",
          "text": [
            "4662\n",
            "['애플', '페이', '도입', '확인', '불가', '소비자', '단말기', '대부분', '애플', '단말기', '도입', '고수', '부실', '결제', '시장', '논란', '애플', '페이', '이미지', '사진', '애플', '애플', '페이', '감자', '애플', '현대', '카드', '해당', '서비스', '도입', '추진', '소식', '소비자', '관심', '집중', '애플', '묵묵부답', '공식', '입장', '그간', '한국', '시장', '찬밥', '취급', '비판', '애플', '구설수', '이유', '애플', '애플', '페이', '한국', '시장', '도입', '확인', '불가', '입장', '고수', '도입', '시기', '예정', '소식', '서비스', '애플', '관련', '공식', '입장', '답변', '아이폰', '국내', '시장', '점유', '기준', '데이터', '아이폰', '이용', '아이폰', '유저', '입장', '애플', '페이', '도입', '단비', '소식', '애플', '페이', '해외', '대중', '한국', '이용', '대표', '서비스', '단말기', '비용', '애플', '현대', '카드', '가맹점', '줄다리기', '애플', '페이', '침묵', '애플', '고압', '태도', '근본', '문제', '지배', '모바일', '결제', '시스템', '근거리', '무선', '통신', '마그네', '보안', '전송', '국내', '시장', '마그네', '저장', '정보', '무선', '자리', '국내', '대부분', '신용', '카드', '가맹점', '해당', '방식', '사용', '삼성전자', '삼성', '페이', '시장', '상황', '반영', '개발', '반면', '애플', '방식', '고수', '단말기', '보급', '문제', '유다', '애플', '페이', '국내', '시장', '안착', '업계', '추산', '단말기', '보급', '투입', '애플', '방식', '도입', '입장', '유지', '분위기', '비용', '누가', '감당', '논의', '지속', '국내', '단말기', '보급', '수준', '일각', '소상', '공인', '해당', '비용', '부담', '애플', '페이', '도입', '진행', '전망', '지원', '단말기', '교체', '비용', '정도', '단말기', '교체', '비용', '애플', '현대', '카드', '부담', '상공', '입장', '부담', '작용', '구조', '서울', '영등포', '카페', '운영', '학생', '가게', '운영', '대부분', '아이폰', '단말기', '교체', '필요', '겨자', '심정', '비용', '부담', '지속', '애플', '고압', '태도', '시장', '지배력', '남용', '애플', '고압', '태도', '애플', '페이', '도입', '문제', '애플', '국내', '입지', '폐쇄', '시장', '운영', '정책', '지속', '때문', '애플', '시장', '지배력', '남용', '지적', '애플', '스토어', '입점', '발사', '결제', '수수료', '과다', '징수', '주장', '제기', '매출액', '부가가치세', '포함', '계산', '방식', '부당', '이익', '의혹', '당시', '국회', '정무', '위원회', '소속', '양정숙', '의원', '소속', '해당', '문제', '언급', '애플', '관련', '자료', '요청', '애플', '묵묵부답', '비판', '목소리', '공정거래위', '원회', '공정위', '이후', '해당', '사안', '조사', '진행', '조사', '결과', '애플', '스토어', '입점', '발사', '이익', '애플', '공정위', '조사', '문제', '수수료', '과다', '부과', '정책', '시정', '입장', '애플', '사후', '관리', '서비스', '문제', '지적', '한국', '소비', '자원', '최근', '애플', '제품', '관련', '접수', '소비자', '불만', '건수', '전체', '정보', '통신', '기기', '불만', '접수', '건수', '고려', '불만', '애플', '제품', '연관', '소비자', '애플', '합의', '애플', '이용자', '보호', '정책', '방송', '통신', '위원회', '전기', '통신', '사업자', '이용자', '보호', '업무', '평가', '마켓', '분야', '애플', '연속', '하위', '미흡', '등급', '결제', '논란', '이용자', '보호', '부족', '지적', '반영', '결과']\n"
          ]
        }
      ]
    },
    {
      "cell_type": "markdown",
      "metadata": {
        "id": "SEWywlm6BFf2"
      },
      "source": [
        "### gensim LDA model을 사용하기 위한 자료구조 생성. "
      ]
    },
    {
      "cell_type": "code",
      "metadata": {
        "id": "jhcOnwKEBFf2"
      },
      "source": [
        "# 문서-단어 행렬 만들기\n",
        "# 어휘(vocabulary) 학습\n",
        "dictionary = corpora.Dictionary(tokenized_documents)\n",
        "# 문서-단어 행렬 생성\n",
        "corpus = [dictionary.doc2bow(document) for document in tokenized_documents]"
      ],
      "execution_count": null,
      "outputs": []
    },
    {
      "cell_type": "code",
      "metadata": {
        "id": "Q6PVEzU0BFf3",
        "colab": {
          "base_uri": "https://localhost:8080/"
        },
        "outputId": "4b4c450b-ae9a-4774-8aa9-fa525eee1df7"
      },
      "source": [
        "NUM_TOTAL_WORDS = len(dictionary)\n",
        "print(dictionary)\n",
        "print(NUM_TOTAL_WORDS)"
      ],
      "execution_count": null,
      "outputs": [
        {
          "output_type": "stream",
          "name": "stdout",
          "text": [
            "Dictionary(11867 unique tokens: ['가게', '가맹점', '감당', '감자', '개발']...)\n",
            "11867\n"
          ]
        }
      ]
    },
    {
      "cell_type": "markdown",
      "metadata": {
        "id": "-vpK1EQjBFgB"
      },
      "source": [
        "## 3. 토픽 모델링(LDA Model)\n",
        "\n",
        "\n",
        "- LDA(Latent Dirichlet Allocation) : 단어들의 조합(토픽)이 하나의 토픽을 구성하고, 각 단어가 그 토픽에 할당될 확률을 계산합니다.\n",
        "\n",
        "- LDA는 사람이 글을 쓰는 과정을 다음과 같이 가정합니다.\n",
        "\n",
        "1) 여러 개의 토픽을 정한다.\n",
        "\n",
        "2) 토픽 하나를 고릅니다.\n",
        "\n",
        "3) 토픽 내에 속하는 단어 하나를 고릅니다.\n",
        "\n",
        "4) 해당 단어를 글에 적습니다.\n",
        "\n",
        "5) 2번 과정부터 반복하면서 글을 적습니다.\n",
        "\n",
        "\n",
        "-> LDA는 사람이 글을 쓰는 과정을 따라하면서 글을 생성하는 과정을 학습합니다. (Generative Model)\n",
        "\n",
        "-> LDA는 생성을 통해서, 저자가 생각한 토픽의 분포(단어들의 확률 분포)를 찾습니다."
      ]
    },
    {
      "cell_type": "code",
      "metadata": {
        "id": "oeuCGpTDBFgB"
      },
      "source": [
        "# ldamodel 선언\n",
        "from gensim.models.ldamodel import LdaModel\n",
        "\n",
        "# Coherence model 선언 (LDA의 정량 평가 지표.)\n",
        "from gensim.models.coherencemodel import CoherenceModel"
      ],
      "execution_count": null,
      "outputs": []
    },
    {
      "cell_type": "code",
      "metadata": {
        "scrolled": false,
        "id": "cqy2CfaTBFgG"
      },
      "source": [
        "# 토픽 개수와 토픽 별 상위 추출 단어 개수 지정.\n",
        "\n",
        "def build_doc_term_mat(documents):\n",
        "    \"\"\"주어진 문서 집합으로 문서-어휘 행렬을 만들어 돌려준다.\"\"\"\n",
        "    \n",
        "    print_log_msg(\"Building document-term matrix.\")\n",
        "    dictionary = corpora.Dictionary(documents)\n",
        "    corpus = [dictionary.doc2bow(document) for document in documents]\n",
        "\n",
        "    return corpus, dictionary\n",
        "\n",
        "\n",
        "def print_topic_words(model):\n",
        "    \"\"\"토픽별 토픽 단어들을 화면에 인쇄한다.\"\"\"\n",
        "    \n",
        "    print_log_msg(\"Printing topic words.\")\n",
        "    \n",
        "    for topic_id in range(model.num_topics):\n",
        "        topic_word_probs = model.show_topic(topic_id, 30)\n",
        "        print(\"Topic ID: {}\".format(topic_id))\n",
        "\n",
        "        for topic_word, prob in topic_word_probs:\n",
        "            print(\"\\t{}\\t{}\".format(topic_word, prob))\n",
        "\n",
        "        print(\"\\n\")\n",
        "\n",
        "\n",
        "def print_log_msg(msg):\n",
        "    \"\"\"로그 메시지를 출력한다.\"\"\"\n",
        "    \n",
        "    print(msg, flush=True)"
      ],
      "execution_count": null,
      "outputs": []
    },
    {
      "cell_type": "code",
      "metadata": {
        "id": "f62R2rVNBFgH"
      },
      "source": [
        "def compute_coherence(dictionary, corpus, texts, start, end, step):\n",
        "    '''\n",
        "    start, end+1, step에 해당하는 토픽 개수를 입력받아서 LdaModel을 수행하고, 그 때의 Coherence Score를 함께 돌려주는 함수.\n",
        "    '''\n",
        "    coherence_score_list = []\n",
        "    model_list = []\n",
        "    for num_topics in tqdm(range(start, end+1, step)):\n",
        "        model = LdaModel(corpus=corpus,\n",
        "                         id2word=dictionary,\n",
        "                         num_topics=num_topics,  # 몇 개의 토픽을 찾을건지!\n",
        "                         passes=10,        #학습 반복 횟수\n",
        "                         random_state=42)\n",
        "        \n",
        "        model_list.append(model)\n",
        "        coherence_model = CoherenceModel(model=model, texts=tokenized_documents, dictionary=dictionary, coherence='c_v')\n",
        "        coherence_score_list.append(coherence_model.get_coherence())\n",
        "        \n",
        "    return model_list, coherence_score_list"
      ],
      "execution_count": null,
      "outputs": []
    },
    {
      "cell_type": "code",
      "metadata": {
        "id": "tXqQnYyEBFgI",
        "colab": {
          "base_uri": "https://localhost:8080/"
        },
        "outputId": "2a88b5a9-e81d-41d2-f05e-8c86eb4829d3"
      },
      "source": [
        "# LDA에서 가장 중요한 파라미터 = K(토픽 개수)\n",
        "start, end, step = [int(x) for x in input(\"원하는 토픽 갯수들을 입력하세요(e.g. 2,5,1)\").split(\",\")]\n",
        "start, end, step"
      ],
      "execution_count": null,
      "outputs": [
        {
          "name": "stdout",
          "output_type": "stream",
          "text": [
            "원하는 토픽 갯수들을 입력하세요(e.g. 2,5,1)2,6,1\n"
          ]
        },
        {
          "output_type": "execute_result",
          "data": {
            "text/plain": [
              "(2, 6, 1)"
            ]
          },
          "metadata": {},
          "execution_count": 14
        }
      ]
    },
    {
      "cell_type": "code",
      "metadata": {
        "scrolled": false,
        "id": "3LVB_9ZJBFgJ",
        "colab": {
          "base_uri": "https://localhost:8080/",
          "height": 86,
          "referenced_widgets": [
            "66a8d9c39d1c4733aca0f6fb4af98cdf",
            "c7d11b897eaf4091b5c186852b460aa0",
            "da493c35634f41e7b11dad2ad450b7d4",
            "7a4aebcbc680470da890414ad874bcb6",
            "ed1ed608bd4d421aa43d7ef409b5af16",
            "1797199e1fee4c40b577898e4ed4c300",
            "288e0b54978d4ca589635a5ca314341c",
            "541d6a812e844bc383c78c7caa0e8d1c",
            "aeea3092db0c4315b35501a83f80c559",
            "dd38747eb90841ac9252e96c42cadd7d",
            "06cf9db0412943a789a9f59eac83de37"
          ]
        },
        "outputId": "f779faf7-1878-4a6b-fb68-bca36306aaf7"
      },
      "source": [
        "corpus, dictionary = build_doc_term_mat(tokenized_documents)\n",
        "print(len(corpus), len(dictionary))\n",
        "\n",
        "\n",
        "model_list, coherence_scores = compute_coherence(dictionary=dictionary, corpus=corpus, \n",
        "                                                texts=tokenized_documents, start=start, end=end, step=step)"
      ],
      "execution_count": null,
      "outputs": [
        {
          "output_type": "stream",
          "name": "stdout",
          "text": [
            "Building document-term matrix.\n",
            "4662 11867\n"
          ]
        },
        {
          "output_type": "display_data",
          "data": {
            "text/plain": [
              "  0%|          | 0/5 [00:00<?, ?it/s]"
            ],
            "application/vnd.jupyter.widget-view+json": {
              "version_major": 2,
              "version_minor": 0,
              "model_id": "66a8d9c39d1c4733aca0f6fb4af98cdf"
            }
          },
          "metadata": {}
        }
      ]
    },
    {
      "cell_type": "code",
      "metadata": {
        "id": "Tn-6rwwJBFgK",
        "colab": {
          "base_uri": "https://localhost:8080/",
          "height": 642
        },
        "outputId": "b49eb8ed-c692-4bbf-b3ab-ade3ec5335ad"
      },
      "source": [
        "coherence_list = coherence_scores\n",
        "label = \"Coherenece Score(C_V)\"\n",
        "\n",
        "x = range(start, end+1, step)\n",
        "plt.figure(figsize=(16, 12))\n",
        "plt.xticks(x)\n",
        "plt.plot(x, coherence_list, label=label)\n",
        "plt.scatter(x, coherence_list)\n",
        "plt.title(f\"Coherence Scores for LDA with\")\n",
        "plt.xlabel(\"Num Topics\")\n",
        "plt.ylabel(\"Coherence Score\")\n",
        "plt.legend(loc='best')\n",
        "plt.show()"
      ],
      "execution_count": null,
      "outputs": [
        {
          "output_type": "display_data",
          "data": {
            "text/plain": [
              "<Figure size 1152x864 with 1 Axes>"
            ],
            "image/png": "[encoded data removed]"
          },
          "metadata": {
            "needs_background": "light"
          }
        }
      ]
    },
    {
      "cell_type": "code",
      "metadata": {
        "id": "NY_UweJHBFgL",
        "colab": {
          "base_uri": "https://localhost:8080/"
        },
        "outputId": "13a4fe93-8f1e-4444-854c-a402f9bc647c"
      },
      "source": [
        "selected_model = model_list[np.argmax(coherence_list)] # coherence score가 가장 높은 LDA model을 selected_model로 할당.\n",
        "selected_model.num_topics"
      ],
      "execution_count": null,
      "outputs": [
        {
          "output_type": "execute_result",
          "data": {
            "text/plain": [
              "5"
            ]
          },
          "metadata": {},
          "execution_count": 17
        }
      ]
    },
    {
      "cell_type": "markdown",
      "metadata": {
        "id": "NQdp_zc9BFgO"
      },
      "source": [
        "### 4. pyLDAvis를 이용한 시각화 "
      ]
    },
    {
      "cell_type": "code",
      "source": [
        "!pip install pyldavis==3.2.1"
      ],
      "metadata": {
        "id": "5oVA5yjYod86",
        "colab": {
          "base_uri": "https://localhost:8080/"
        },
        "outputId": "81ed2df3-a06e-46be-ed98-13f2400a4bf4"
      },
      "execution_count": null,
      "outputs": [
        {
          "output_type": "stream",
          "name": "stdout",
          "text": [
            "Looking in indexes: https://pypi.org/simple, https://us-python.pkg.dev/colab-wheels/public/simple/\n",
            "Collecting pyldavis==3.2.1\n",
            "  Downloading pyLDAvis-3.2.1.tar.gz (1.7 MB)\n",
            "\u001b[K     |████████████████████████████████| 1.7 MB 5.1 MB/s \n",
            "\u001b[?25hRequirement already satisfied: wheel>=0.23.0 in /usr/local/lib/python3.8/dist-packages (from pyldavis==3.2.1) (0.38.4)\n",
            "Requirement already satisfied: numpy>=1.9.2 in /usr/local/lib/python3.8/dist-packages (from pyldavis==3.2.1) (1.21.6)\n",
            "Requirement already satisfied: scipy>=0.18.0 in /usr/local/lib/python3.8/dist-packages (from pyldavis==3.2.1) (1.7.3)\n",
            "Requirement already satisfied: joblib>=0.8.4 in /usr/local/lib/python3.8/dist-packages (from pyldavis==3.2.1) (1.2.0)\n",
            "Requirement already satisfied: jinja2>=2.7.2 in /usr/local/lib/python3.8/dist-packages (from pyldavis==3.2.1) (2.11.3)\n",
            "Requirement already satisfied: numexpr in /usr/local/lib/python3.8/dist-packages (from pyldavis==3.2.1) (2.8.4)\n",
            "Requirement already satisfied: future in /usr/local/lib/python3.8/dist-packages (from pyldavis==3.2.1) (0.16.0)\n",
            "Collecting funcy\n",
            "  Downloading funcy-1.17-py2.py3-none-any.whl (33 kB)\n",
            "Requirement already satisfied: pandas>=0.17.0 in /usr/local/lib/python3.8/dist-packages (from pyldavis==3.2.1) (1.3.5)\n",
            "Requirement already satisfied: MarkupSafe>=0.23 in /usr/local/lib/python3.8/dist-packages (from jinja2>=2.7.2->pyldavis==3.2.1) (2.0.1)\n",
            "Requirement already satisfied: pytz>=2017.3 in /usr/local/lib/python3.8/dist-packages (from pandas>=0.17.0->pyldavis==3.2.1) (2022.6)\n",
            "Requirement already satisfied: python-dateutil>=2.7.3 in /usr/local/lib/python3.8/dist-packages (from pandas>=0.17.0->pyldavis==3.2.1) (2.8.2)\n",
            "Requirement already satisfied: six>=1.5 in /usr/local/lib/python3.8/dist-packages (from python-dateutil>=2.7.3->pandas>=0.17.0->pyldavis==3.2.1) (1.15.0)\n",
            "Building wheels for collected packages: pyldavis\n",
            "  Building wheel for pyldavis (setup.py) ... \u001b[?25l\u001b[?25hdone\n",
            "  Created wheel for pyldavis: filename=pyLDAvis-3.2.1-py2.py3-none-any.whl size=136188 sha256=a610519e12be2091d26fcc3ffdcd9bfd4b19f49c4957065b7d9c20538e4bd745\n",
            "  Stored in directory: /root/.cache/pip/wheels/ae/5f/79/278ffb79ffde795f9686b558a8e313971ee0d3a914105d57dd\n",
            "Successfully built pyldavis\n",
            "Installing collected packages: funcy, pyldavis\n",
            "Successfully installed funcy-1.17 pyldavis-3.2.1\n"
          ]
        }
      ]
    },
    {
      "cell_type": "code",
      "metadata": {
        "scrolled": false,
        "id": "rC3B54nNBFgP",
        "colab": {
          "base_uri": "https://localhost:8080/",
          "height": 954
        },
        "outputId": "a3b47cf2-f49e-40e5-e1d1-fef58ed95949"
      },
      "source": [
        "# pyLDAvis 불러오기\n",
        "import pyLDAvis\n",
        "import pyLDAvis.gensim\n",
        "\n",
        "# pyLDAvis를 jupyter notebook에서 실행할 수 있게 활성화.\n",
        "pyLDAvis.enable_notebook()\n",
        "\n",
        "# pyLDAvis 실행.\n",
        "data = pyLDAvis.gensim.prepare(selected_model, corpus, dictionary)\n",
        "data"
      ],
      "execution_count": null,
      "outputs": [
        {
          "output_type": "stream",
          "name": "stderr",
          "text": [
            "/usr/local/lib/python3.8/dist-packages/past/types/oldstr.py:5: DeprecationWarning: Using or importing the ABCs from 'collections' instead of from 'collections.abc' is deprecated since Python 3.3, and in 3.10 it will stop working\n",
            "  from collections import Iterable\n",
            "/usr/local/lib/python3.8/dist-packages/pyLDAvis/_prepare.py:247: FutureWarning: In a future version of pandas all arguments of DataFrame.drop except for the argument 'labels' will be keyword-only\n",
            "  default_term_info = default_term_info.sort_values(\n"
          ]
        },
        {
          "output_type": "execute_result",
          "data": {
            "text/plain": [
              "PreparedData(topic_coordinates=              x         y  topics  cluster       Freq\n",
              "topic                                                \n",
              "2      0.098420  0.026917       1        1  34.604416\n",
              "0      0.116055 -0.059694       2        1  22.217602\n",
              "1      0.142082  0.289006       3        1  20.082728\n",
              "3      0.098571 -0.277048       4        1  11.802542\n",
              "4     -0.455127  0.020818       5        1  11.292712, topic_info=     Term          Freq         Total Category  logprob  loglift\n",
              "757    번역   9636.000000   9636.000000  Default  30.0000  30.0000\n",
              "8701   문학   7823.000000   7823.000000  Default  29.0000  29.0000\n",
              "102    애플  71440.000000  71440.000000  Default  28.0000  28.0000\n",
              "176    한국  11651.000000  11651.000000  Default  27.0000  27.0000\n",
              "429    주가   8784.000000   8784.000000  Default  26.0000  26.0000\n",
              "...   ...           ...           ...      ...      ...      ...\n",
              "712    대상   2413.250339   3361.595773   Topic5  -4.0580   1.8496\n",
              "1553   인상   2413.960348   5035.124380   Topic5  -4.0577   1.4458\n",
              "248    올해   1806.191544   5465.388367   Topic5  -4.3478   1.0738\n",
              "41     대표   1206.200204   2350.147598   Topic5  -4.7515   1.5140\n",
              "1242   일본   1205.834406   1561.044209   Topic5  -4.7518   1.9228\n",
              "\n",
              "[325 rows x 6 columns], token_table=       Topic      Freq Term\n",
              "term                       \n",
              "730        1  0.376791   가격\n",
              "730        2  0.623074   가격\n",
              "182        1  0.999245   가능\n",
              "1202       1  0.077058   가량\n",
              "1202       2  0.461620   가량\n",
              "...      ...       ...  ...\n",
              "1475       1  0.001822   화면\n",
              "1475       2  0.998049   화면\n",
              "2767       1  0.020269   확정\n",
              "2767       2  0.979680   확정\n",
              "11070      3  0.998308   흥분\n",
              "\n",
              "[434 rows x 3 columns], R=30, lambda_step=0.01, plot_opts={'xlab': 'PC1', 'ylab': 'PC2'}, topic_order=[3, 1, 2, 4, 5])"
            ],
            "text/html": [
              "\n",
              "<link rel=\"stylesheet\" type=\"text/css\" href=\"https://cdn.jsdelivr.net/gh/bmabey/pyLDAvis/pyLDAvis/js/ldavis.v1.0.0.css\">\n",
              "\n",
              "\n",
              "<div id=\"ldavis_el7652140685474385248140821566\"></div>\n",
              "<script type=\"text/javascript\">\n",
              "\n",
              "var ldavis_el7652140685474385248140821566_data = {\"mdsDat\": {\"x\": [0.09841986393572864, 0.11605462558816892, 0.1420815487709461, 0.09857097482390059, -0.4551270131187447], \"y\": [0.026917471689690418, -0.05969441384519046, 0.28900623690846716, -0.2770476536523605, 0.02081835889939325], \"topics\": [1, 2, 3, 4, 5], \"cluster\": [1, 1, 1, 1, 1], \"Freq\": [34.604415876250094, 22.217601620252307, 20.08272823705143, 11.802542184741563, 11.292712081704599]}, \"tinfo\": {\"Term\": [\"\\ubc88\\uc5ed\", \"\\ubb38\\ud559\", \"\\uc560\\ud50c\", \"\\ud55c\\uad6d\", \"\\uc8fc\\uac00\", \"\\uc0bc\\uc131\\uc804\\uc790\", \"\\ub2ec\\ub7ec\", \"\\uba54\\ud0c0\", \"\\ubaa8\\ub378\", \"\\uc778\\uc218\", \"\\uc544\\uc774\\ud3f0\", \"\\uc2a4\\ub9c8\\ud2b8\\ud3f0\", \"\\uc218\\uc0c1\\uc790\", \"\\uc870\\uc815\", \"\\ud3a0\\ub85c\", \"\\uc790\\ub3d9\\ucc28\", \"\\uacf5\\uac1c\", \"\\ud310\\ub9e4\", \"\\ud3c9\\uade0\", \"\\uc2dc\\ub9ac\\uc988\", \"\\ub9e5\\uc2a4\", \"\\uc9c0\\uc218\", \"\\uc544\\ub9c8\\uc874\", \"\\ud558\\ub77d\", \"\\ud504\\ub85c\", \"\\uc774\\ub3d9\", \"\\ubd80\\ubb38\", \"\\uae00\\ub85c\\ubc8c\", \"\\uc2dc\\uc7a5\", \"\\ud654\\uba74\", \"\\ud398\\uc774\", \"\\uacb0\\uc81c\", \"\\uacf5\\uc7a5\", \"\\uc0ac\\uc6a9\", \"\\uce74\\ub4dc\", \"\\uc2a4\\ud1a0\\uc5b4\", \"\\uacf5\\uae09\", \"\\ud3ed\\uc2a4\\ucf58\", \"\\uad00\\ub828\", \"\\uac00\\ub2a5\", \"\\ud2b8\\uc704\\ud130\", \"\\uc0bc\\uc131\", \"\\uc218\\uc218\\ub8cc\", \"\\uad6c\\uae00\", \"\\uc2e4\\uc801\", \"\\uae30\\uc790\", \"\\uacc4\\ud68d\", \"\\uac1c\\ubc1c\", \"\\uad11\\uace0\", \"\\uc815\\uc800\\uc6b0\", \"\\uc815\\ucc45\", \"\\uae30\\ub2a5\", \"\\uae30\\ub85d\", \"\\uba38\\uc2a4\\ud06c\", \"\\uc0c1\\ud669\", \"\\ucd5c\\uace0\", \"\\ub2e8\\ub9d0\\uae30\", \"\\ud604\\ub300\", \"\\uae30\\uae30\", \"\\ub3c4\\uc785\", \"\\ud1b5\\uc2e0\", \"\\uc2dc\\uc791\", \"\\uaddc\\ubaa8\", \"\\uc778\\ub3c4\", \"\\uc11c\\ube44\\uc2a4\", \"\\uc0dd\\uc0b0\", \"\\uad6d\\ub0b4\", \"\\ubd84\\uae30\", \"\\uc911\\uad6d\", \"\\uc560\\ud50c\", \"\\ucd9c\\uc2dc\", \"\\uc5c5\\uacc4\", \"\\uc544\\uc774\\ud3f0\", \"\\ud604\\uc9c0\", \"\\uac00\\uaca9\", \"\\uc5c5\\uccb4\", \"\\ubbf8\\uad6d\", \"\\uc2dc\\uc7a5\", \"\\uae30\\uc5c5\", \"\\uc81c\\ud488\", \"\\ub9e4\\ucd9c\", \"\\ub2ec\\ub7ec\", \"\\uc804\\ub9dd\", \"\\uc778\\uc0c1\", \"\\uc778\\uce58\", \"\\ubbf8\\ub2c8\", \"\\ub178\\uce58\", \"\\uc0c1\\uc9d5\", \"\\ud06c\\uae30\", \"\\ub354\\ube14\", \"\\ud50c\\ub9bd\", \"\\uc0c9\\uc0c1\", \"\\ub108\\uba38\", \"\\uc2a4\\ud398\\uc15c\", \"\\ud0c8\\ubaa8\", \"\\uc2b9\\ubd80\", \"\\uc120\\ud638\\ub3c4\", \"\\ucd9c\\uace0\\uac00\", \"\\ud3f4\\ub4dc\", \"\\ub450\\ub1cc\", \"\\uae30\\uac00\\ubc14\\uc774\\ud2b8\", \"\\ud37c\\ud50c\", \"\\ucd9c\\uace0\", \"\\uc655\\uc88c\", \"\\uc5f4\\uae30\", \"\\uaca9\\ub3cc\", \"\\ud50c\\ub77c\\uc790\", \"\\uc717\\ubd80\\ubd84\", \"\\ucd1d\\ub825\\uc804\", \"\\ud3ec\\ud06c\", \"\\uc811\\uc804\", \"\\ube44\\uc2a4\", \"\\uacf5\\ucd5c\", \"\\ubc24\\ud558\\ub298\", \"\\ud654\\uba74\", \"\\uace0\\uae09\", \"\\ub9e5\\uc2a4\", \"\\uce58\\uc5f4\", \"\\ud504\\ub9ac\\ubbf8\\uc5c4\", \"\\ud50c\\ub798\\uadf8\", \"\\uae30\\ubcf8\", \"\\uc5f0\\uc0b0\", \"\\ucd08\\uc77d\\uae30\", \"\\uad11\\ud654\\ubb38\", \"\\ub514\\uc790\\uc778\", \"\\uc804\\uc791\", \"\\uc810\\uc720\\uc728\", \"\\ud655\\uc815\", \"\\uc0bc\\uc131\\uc804\\uc790\", \"\\ub80c\\ub354\\ub9c1\", \"\\ub300\\uc911\", \"\\uc608\\uce21\", \"\\uc2dc\\ub9ac\\uc988\", \"\\ubc14\\uc774\\uc624\", \"\\ubaa8\\ub378\", \"\\uc2a4\\ub9c8\\ud2b8\\ud3f0\", \"\\ud504\\ub85c\", \"\\uacf5\\uac1c\", \"\\uc544\\uc774\\ud3f0\", \"\\uc804\\ub9dd\", \"\\uac00\\uaca9\", \"\\uc560\\ud50c\", \"\\uae00\\ub85c\\ubc8c\", \"\\uc2dc\\uc7a5\", \"\\ucd08\\ub300\\uc7a5\", \"\\uc18c\\ube44\\uc790\", \"\\ud55c\\uad6d\", \"\\ub300\\ube44\", \"\\ucd9c\\uc2dc\", \"\\ucd94\\uac00\", \"\\uac00\\ub7c9\", \"\\uace0\\uc810\", \"\\ud06c\\ub9b0\\uc2a4\\ud0a4\", \"\\ub7a0\\ub9ac\", \"\\ub808\\ub4e4\\ub7ec\", \"\\uba3c\\uc2a4\\ud130\", \"\\uc2a4\\ud1a1\", \"\\uc2a4\\ud130\", \"\\ubc29\\uc5b4\\uc8fc\", \"\\ud5e4\\uc9c0\", \"\\uc2a4\\ucf67\", \"\\ubcfc\\ubcf4\", \"\\ud3ec\\ub974\\uc250\", \"\\uc624\\ubbf8\", \"\\ud558\\uc21c\", \"\\ud765\\ubd84\", \"\\ub85c\\ubc84\", \"\\ubd80\\uadfc\", \"\\uc120\\uc778\", \"\\uc870\\ub098\\ub2e8\", \"\\ud398\\uc5b4\", \"\\uc7a3\\ub300\", \"\\ucf00\\uc774\\ud2f0\", \"\\ub9ac\\ub4dc\", \"\\uc9c4\\uc2e4\", \"\\uba54\\ub974\\uc138\\ub370\\uc2a4\", \"\\uc885\\uac00\", \"\\ubcc0\\ub3d9\\uc131\", \"\\ud63c\\ub2e4\", \"\\ubc38\\ub958\", \"\\ubca4\\uce20\", \"\\uc9c0\\uc218\", \"\\uc790\\ub3d9\\ucc28\", \"\\uc8fc\\uac00\", \"\\ucde8\\uc57d\", \"\\ub2e8\\uae30\", \"\\uc624\\ub7ab\\ub3d9\\uc548\", \"\\uc774\\ub3d9\", \"\\uc99d\\uc2dc\", \"\\ud3c9\\uade0\", \"\\ud558\\ub77d\", \"\\uc0dd\\uac01\", \"\\uc9c0\\uc9c0\", \"\\uc870\\uc815\", \"\\ub9e4\\uc218\", \"\\uc0c1\\ud0dc\", \"\\uc9c0\\uc801\", \"\\uc804\\ub0a0\", \"\\uc9c4\\ucd9c\", \"\\ub9c8\\uac10\", \"\\uc8fc\\ubaa9\", \"\\ud22c\\uc790\\uc790\", \"\\ub2ec\\ub7ec\", \"\\ub9ac\\uc2a4\\ud06c\", \"\\uc124\\uba85\", \"\\uc774\\ub0a0\", \"\\uc560\\ud50c\", \"\\uc2dc\\uc7a5\", \"\\ub300\\ube44\", \"\\ub54c\\ubb38\", \"\\uc911\\uad6d\", \"\\ubbf8\\uad6d\", \"\\uac00\\ub7c9\", \"\\uae30\\uc220\", \"\\ucd94\\uac00\", \"\\ud3a0\\ub85c\", \"\\ud3ec\\uae30\", \"\\ube44\\uc988\", \"\\ud53c\\ud2b8\", \"\\ub2c8\\uc2a4\", \"\\uac74\\ub370\\uc694\", \"\\uce90\\uc2a4\\ud130\", \"\\uc288\\ud37c\", \"\\uace0\\uc720\\ubbf8\", \"\\uc81c\\uc18c\", \"\\uc2e0\\uc81c\\ud488\", \"\\uc5d4\\ub370\", \"\\ud53c\\uc18c\", \"\\uac00\\uc815\\uc6a9\", \"\\ub0b4\\ucd94\\ub7f4\", \"\\ub85c\\ud1a4\", \"\\ud2b8\\ub808\\ub4dc\\ubc00\", \"\\ud2b8\\ub808\\uc774\\ub2dd\", \"\\ubc14\\uc774\\ud06c\", \"\\ud310\\ub9e4\\ub9dd\", \"\\ud30c\\ud06c\", \"\\uc0c1\\uac70\\ub798\", \"\\uba85\\ud488\", \"\\ub9ac\\uc140\", \"\\uc6b0\\uc601\", \"\\uac80\\uc218\", \"\\uc81c\\ud398\\ud1a0\", \"\\ubaa8\\ud68c\\uc0ac\", \"\\uac00\\uc815\", \"\\uc6d4\\ud3c9\\uade0\", \"\\uba54\\ud0c0\", \"\\uc778\\uc218\", \"\\uc544\\ub9c8\\uc874\", \"\\uace0\\uc9d1\", \"\\uc81c\\uc791\", \"\\uc0ac\\uc774\\ud2b8\", \"\\uc5f0\\ubc29\", \"\\ud310\\ub9e4\", \"\\uc624\\ud504\\ub77c\\uc778\", \"\\uac00\\uc0c1\\ud604\\uc2e4\", \"\\uc8fc\\uc7a5\", \"\\uc790\\uccb4\", \"\\ub3c5\\uc810\", \"\\uacb0\\uc815\", \"\\ub85c\\uc774\\ud130\", \"\\uc720\\uce58\", \"\\uc694\\uae08\\uc81c\", \"\\ubcf4\\ub3c4\", \"\\uc2a4\\ud0c0\\ud2b8\\uc5c5\", \"\\ucf54\\ub85c\\ub098\", \"\\uc774\\ubca4\\ud2b8\", \"\\ubbf8\\uad6d\", \"\\uc81c\\ud488\", \"\\ud589\\uc0ac\", \"\\uc628\\ub77c\\uc778\", \"\\uae00\\ub85c\\ubc8c\", \"\\uc608\\uc815\", \"\\uc560\\ud50c\", \"\\uae30\\uc5c5\", \"\\uc544\\uc774\\ud3f0\", \"\\uc62c\\ud574\", \"\\uacf5\\uac1c\", \"\\uc5c5\\uccb4\", \"\\ubaa8\\ub378\", \"\\ubc88\\uc5ed\", \"\\ubb38\\ud559\", \"\\uc218\\uc0c1\\uc790\", \"\\ucd9c\\ud310\\uc0ac\", \"\\ucd9c\\uac04\", \"\\uc2dc\\uc624\", \"\\ub9c8\\uc2dc\", \"\\ube0c\\ub808\", \"\\uc911\\uad6d\\uc5b4\", \"\\uce74\\ub77c\", \"\\uc77c\\ubcf8\\uc5b4\", \"\\uc740\\uc9c0\", \"\\uc791\\uac00\", \"\\uc720\\uc2e0\", \"\\ubc88\\uc5ed\\uac00\", \"\\uc5ed\\uc6d0\", \"\\ub9ac\\uc544\\ub098\", \"\\ud504\\ub791\\uc2a4\\uc5b4\", \"\\ubca0\\ud2b8\\ub0a8\\uc5b4\", \"\\uc2a4\\ud398\\uc778\\uc5b4\", \"\\ub2e8\\ud3b8\", \"\\uacf5\\ub85c\\uc0c1\", \"\\ud30c\\uce5c\\ucf54\", \"\\uc2b9\\ubcf5\", \"\\ucfe0\\uc628\", \"\\uc624\\ud1a0\\ubc14\\uc774\", \"\\ud559\\uc704\", \"\\uc218\\uc5ec\", \"\\uc778\\ub3c4\\ub124\\uc2dc\\uc544\\uc5b4\", \"\\uc791\\ud488\", \"\\uc120\\uc815\", \"\\uc5ec\\uc790\", \"\\ucc3d\\uc791\", \"\\uaca9\\ub824\", \"\\uc18c\\uc124\", \"\\uac10\\ub3c5\", \"\\uc601\\uc5b4\", \"\\uc601\\ud654\", \"\\ubd80\\ubb38\", \"\\uc6f9\\ud230\", \"\\ud55c\\uad6d\", \"\\ub300\\uc0c1\", \"\\uc778\\uc0c1\", \"\\uc62c\\ud574\", \"\\ub300\\ud45c\", \"\\uc77c\\ubcf8\"], \"Freq\": [9636.0, 7823.0, 71440.0, 11651.0, 8784.0, 9659.0, 12257.0, 5250.0, 10030.0, 4903.0, 20731.0, 11109.0, 4211.0, 6077.0, 3922.0, 5205.0, 8193.0, 4474.0, 5286.0, 6686.0, 5265.0, 4765.0, 3609.0, 5027.0, 6466.0, 4550.0, 3572.0, 6503.0, 15995.0, 3842.0, 3229.8280342818002, 2507.9371238852173, 2437.649531579742, 1933.1187864795215, 1887.6290982534053, 1732.2454627719274, 1564.5912848920218, 1575.940146917398, 1467.5084158872469, 1424.4866035670545, 1291.93687210498, 1170.015952329283, 1164.089085295701, 1130.8108650558615, 1113.164053053797, 1072.5796330474236, 1259.1542592857993, 1049.9497499320419, 1034.3293994678736, 996.5040434057323, 994.0786054417584, 949.989070441241, 983.0505184705571, 916.6219895342203, 915.3224520864838, 889.4758526669696, 837.0565266944375, 797.157090934184, 792.167644167616, 785.2499109612542, 1979.3733538565552, 994.6495252664405, 937.6587562935881, 991.5340224576624, 2430.7887309645166, 3278.187961905707, 2596.7380193173576, 1953.871737049652, 3565.958650071785, 17845.43432169616, 2684.0715183060206, 1599.5297650861712, 5314.39867057877, 1540.9569375309115, 2326.9223661401816, 1854.5051887461489, 2287.9139279217106, 2864.646953694252, 1694.3575456122637, 1917.391046105912, 1319.206836112709, 1689.747151355365, 1514.0130284152058, 1347.9892246149977, 2551.1952688731776, 2544.1888037750323, 2525.457139836311, 1884.8686949318303, 1899.2583511873127, 2015.837477429623, 1312.7813279624543, 1262.1942457248642, 1258.3408945937856, 1254.2781375004333, 1251.9501111672494, 1254.114910861544, 1266.7056202340348, 654.1732249750963, 665.8954816427139, 632.243866752966, 629.5731412304531, 628.1139513638325, 628.0204414319924, 626.0823809363112, 625.6957410334567, 626.8585389546964, 627.0181838178105, 625.3073102427147, 626.4702360845179, 625.6945257881044, 625.3069264810246, 626.0822530157478, 624.9181758888741, 624.9181758888741, 3835.3941540717287, 2572.2177342611353, 5214.414668567378, 1886.8857463754064, 3228.5891461975716, 653.2334565561317, 2562.1849244742452, 632.6669640163874, 630.2060282178385, 629.7206976003266, 3201.1737227335, 3819.752539262322, 1289.7382293551454, 1885.0751587211462, 9105.26596864562, 632.7325872654079, 1259.6632094575762, 1283.575400372575, 5847.392223711683, 1296.355432178887, 8507.766925917156, 9093.600636628713, 5432.224500173888, 6413.77945037628, 12499.878608930307, 3869.7525940345026, 3848.463542192435, 19995.8957031796, 3830.1031037286793, 5852.428200451327, 1878.6829681684126, 2543.849046758661, 3848.321294525942, 2587.600693691362, 1976.6748527880723, 1910.004318115117, 1905.4078764312903, 1878.6542469924411, 1876.173316139201, 1267.7953266732156, 1251.9926897921678, 1255.7960668687722, 1250.8317769581572, 1260.042649014377, 636.8799605293169, 631.7048215596562, 628.1980900881966, 626.969418795946, 626.9697078678669, 625.8758019051022, 627.9696654563652, 626.262406692006, 625.4890814894301, 625.4890814894301, 625.4890814894301, 625.4890814894301, 625.4890814894301, 626.0357164916995, 625.8763222345597, 632.8394866632565, 626.6485489638366, 635.089506866146, 636.2427303870628, 643.9652867517519, 636.1114917350108, 636.7384887312679, 638.7955823342027, 4734.255263813382, 5144.622225123619, 8632.34062694961, 1887.4539431484875, 1903.167545877923, 1256.8110561971532, 4431.849958460613, 3368.6790473476512, 5089.332710744951, 4763.53986819514, 2524.1734687617495, 1258.3478781569972, 5674.596046907148, 1324.9384858369451, 3155.5079313764522, 3788.0005317347254, 1331.1615105195758, 1891.257320225092, 1404.1137817753795, 1917.1561986414451, 1308.4226507128517, 9267.907565000181, 1278.6411895135896, 2538.6050953367353, 3301.7568163601395, 27497.00582413437, 6471.911443820667, 3255.7647799851693, 2558.794109544296, 2567.5969276770875, 2607.6856529138527, 1900.9884061100183, 1934.9891610655598, 1909.9250067277646, 3921.8853897908853, 2630.729020211019, 1989.9190725769452, 1974.3592399676968, 1974.7620747336862, 716.1938689035292, 664.8575794354817, 665.975704138516, 655.764984457677, 656.3381813623868, 664.5415226715452, 655.2638194105834, 655.0246192796316, 653.6402485217482, 653.6402485217482, 653.6402485217482, 653.6402485217482, 653.6402485217482, 654.0445103339732, 654.855276459651, 672.6943737257897, 682.8444779188989, 491.66710303023393, 327.60146605226146, 272.35197796463336, 217.9118289564472, 273.87570658290014, 676.4150909899951, 659.9490160664362, 55.40344344179843, 5126.224615478462, 4721.335990182985, 3438.646489783821, 660.6044380161607, 1320.2611814225902, 1392.361537258071, 1330.9206731672944, 3466.831604304868, 1316.7157190270564, 1986.6871526257898, 1335.4525642846736, 1484.009708340595, 1337.39307534702, 1326.3113138256865, 1324.8593962126422, 716.1781034403529, 714.1912473526345, 1341.399949358793, 675.3118483405626, 1322.4765008172003, 1979.0466111701946, 2689.560292418611, 2040.8551095531443, 1347.841771976323, 1380.9612046532427, 2003.5749536893165, 1380.3212083937815, 5501.247473514623, 1393.517172890732, 1616.9056315499438, 1375.6498744727905, 1343.4358686551893, 1333.727876976845, 1331.279065636226, 9635.776995151191, 7822.471313037984, 4210.587571811082, 2408.5507527505324, 1806.566314754544, 1805.8925860800325, 1805.8925860800325, 1805.148766736623, 1804.0352483734032, 1808.7924412125565, 1804.0344681433226, 1802.5508606452524, 1208.4280209403792, 1205.8327156159435, 1203.602557969182, 1203.229217875663, 1202.8597789325463, 1202.1158295507898, 1201.7447001091655, 1204.716986600829, 1204.2799277174024, 603.5428175434397, 603.1701926608276, 602.4296242760868, 602.4293641993933, 602.4296242760868, 603.1696725074407, 602.4285839693127, 602.0583647961156, 606.8803817511239, 1811.8430107889635, 605.7674485604645, 603.9120614290362, 603.1691523540537, 1217.3441001852893, 1205.9259531105633, 2412.555413677044, 1219.8723057228017, 3010.108144815794, 1208.4891389633515, 6643.465118241515, 2413.2503386020753, 2413.96034797533, 1806.1915442392108, 1206.200203983859, 1205.8344061144514], \"Total\": [9636.0, 7823.0, 71440.0, 11651.0, 8784.0, 9659.0, 12257.0, 5250.0, 10030.0, 4903.0, 20731.0, 11109.0, 4211.0, 6077.0, 3922.0, 5205.0, 8193.0, 4474.0, 5286.0, 6686.0, 5265.0, 4765.0, 3609.0, 5027.0, 6466.0, 4550.0, 3572.0, 6503.0, 15995.0, 3842.0, 3230.417200529985, 2508.52576290992, 2438.253303460972, 1933.7134544815394, 1888.2175263287807, 1732.8342207364644, 1565.1851563710902, 1576.5709723557, 1468.103167824272, 1425.075219425168, 1292.5253382609496, 1170.6047863568767, 1164.6771579861822, 1131.3995622008713, 1113.7535298513974, 1073.1748792381102, 1259.8591044604116, 1050.5379979913262, 1034.9187673444844, 997.0926485995584, 994.6767436054455, 950.5786071984585, 983.6617895648911, 917.210055393545, 915.9210352835523, 890.0890381985707, 837.6441242040439, 797.7446263343189, 792.7561271343736, 785.8376612013261, 1981.2186911618617, 995.8431518284563, 939.373666849297, 997.3541245542094, 3064.0491926584864, 4552.371946434654, 3876.583665244652, 2617.110019322872, 6134.024828588469, 71440.05717006572, 5341.96561890554, 2242.0865543170544, 20731.277837662677, 2195.260955868326, 6175.831833034111, 4478.856140470095, 8227.774557520726, 15995.189395041354, 3738.2339182783207, 5932.913206051839, 1996.8298711104069, 12257.372688677882, 6049.430994139918, 5035.124380076251, 2551.9972492794864, 2544.9917192376697, 2526.2570903207447, 1885.6741402490773, 1900.0801268926568, 2016.7192060315974, 1313.5888886467415, 1262.9952005786151, 1259.1407521267386, 1255.076885440341, 1252.7485621421497, 1254.917753617971, 1267.5197340179814, 654.9730507099558, 666.713042029019, 633.0427251987637, 630.3714546939229, 628.9119630867077, 628.8187907427223, 626.8799892356558, 626.4929242280756, 627.6573676060094, 627.8172497264547, 626.104812465568, 627.2693764587473, 626.493020305071, 626.1049759229277, 626.8813572450107, 625.7158260245612, 625.7158260245612, 3842.4952815629813, 2577.370698417065, 5265.793360357815, 1898.982297122907, 3268.095674472885, 654.0947014693402, 2601.554288613344, 633.4855442779505, 631.0216619884038, 630.5341162632874, 3267.8322621129437, 3929.7166663294524, 1305.0142986655205, 1924.0984144686392, 9659.341388605792, 633.6185057509183, 1301.2351044038273, 1331.1388506621988, 6686.146209013289, 1349.8437386233247, 10030.735824998936, 11109.743710364692, 6466.7611495523, 8193.222762585676, 20731.277837662677, 6049.430994139918, 6175.831833034111, 71440.05717006572, 6503.0717347305645, 15995.189395041354, 2533.1370539211507, 4384.100904145614, 11651.057913400586, 6665.138030842881, 5341.96561890554, 4399.928552335324, 4126.775154863014, 1879.4542309342116, 1876.972290551416, 1268.5961780667426, 1252.7905558872615, 1256.5967617847807, 1251.630177288061, 1260.866533143566, 637.6793482759322, 632.5087691808842, 628.9975789221071, 627.7677454717626, 627.7680679693973, 626.6732947202837, 628.7703591819626, 627.061019778292, 626.2869077372809, 626.2869077372809, 626.2869077372809, 626.2869077372809, 626.2869077372809, 626.834472402904, 626.6752742374423, 633.6476663512967, 627.4520646678359, 635.9125026415901, 637.0829635972672, 644.8582616125772, 637.0019146314374, 637.7034283729773, 640.1864547334178, 4765.824731675996, 5205.87562449425, 8784.895617352498, 1897.941363229866, 1916.9844346019142, 1267.0687822178347, 4550.545550938044, 3462.462129032166, 5286.659517617122, 5027.220480049606, 2620.9018579141784, 1286.3224691734408, 6077.458487566711, 1362.9452753996459, 3374.047591355023, 4177.662707940993, 1387.4058146321768, 2047.5322112868018, 1487.9417454365616, 2124.069665502158, 1400.8158157571365, 12257.372688677882, 1388.2153490031883, 3150.2392179916333, 4507.679700525393, 71440.05717006572, 15995.189395041354, 6665.138030842881, 4434.214233037394, 6134.024828588469, 8227.774557520726, 4126.775154863014, 4426.922822674313, 4399.928552335324, 3922.6783746002925, 2631.542511674556, 1990.7145351241468, 1975.153158449502, 1975.5610724306855, 716.9891324954059, 665.6499996446227, 666.7724149793376, 656.5554102856914, 657.129306493313, 665.3430451071976, 656.0554446381, 655.8161000011042, 654.4310475170548, 654.4310475170548, 654.4310475170548, 654.4310475170548, 654.4310475170548, 654.8359800285688, 655.6481704516355, 673.5754056947138, 684.0999961760139, 492.61782924941093, 328.4039605921207, 273.1485710098761, 218.70785212637023, 274.8996335280428, 685.3969651172515, 669.0976007422361, 56.19807105359648, 5250.096059128708, 4903.79074489181, 3609.6334924746816, 672.556367587477, 1364.9149027118283, 1458.4838213264936, 1464.1802247217433, 4474.368069718963, 1513.0519987167966, 2618.011592401226, 1620.9407167122376, 1876.527835883933, 1654.2559933227014, 1667.7278210105778, 1735.143660757145, 741.4172888165865, 753.7292787774277, 2087.870494302905, 689.3021909315281, 2210.857862117235, 4506.969555723708, 8227.774557520726, 5932.913206051839, 2783.0145839693705, 2967.54777465632, 6503.0717347305645, 3182.871330840532, 71440.05717006572, 3738.2339182783207, 20731.277837662677, 5465.388366639115, 8193.222762585676, 4478.856140470095, 10030.735824998936, 9636.58198833939, 7823.274688468108, 4211.391098164534, 2409.354343410158, 1807.369811494836, 1806.69586591166, 1806.695866505456, 1805.9520460183612, 1804.838686241377, 1809.598207477664, 1804.838248071664, 1803.354129345925, 1209.2320211896574, 1206.6360001005721, 1204.4058307543603, 1204.0324896183008, 1203.6630494579456, 1202.9191907451102, 1202.5479668712483, 1205.5227086958737, 1205.0865337716507, 604.3460924558107, 603.9739008952307, 603.2328947192806, 603.2326346788121, 603.2328966706257, 603.97437649268, 603.2324887296827, 602.8621012686567, 607.6905723481575, 1828.092451601006, 606.576781606283, 604.718501435361, 603.9763790226491, 1228.5042667462665, 1230.8406730857594, 2576.3613731384557, 1261.6174958687586, 3572.260367615636, 1313.256105189284, 11651.057913400586, 3361.595772813351, 5035.124380076251, 5465.388366639115, 2350.1475984379977, 1561.044208520628], \"Category\": [\"Default\", \"Default\", \"Default\", \"Default\", \"Default\", \"Default\", \"Default\", \"Default\", \"Default\", \"Default\", \"Default\", \"Default\", \"Default\", \"Default\", \"Default\", \"Default\", \"Default\", \"Default\", \"Default\", \"Default\", \"Default\", \"Default\", \"Default\", \"Default\", \"Default\", \"Default\", \"Default\", \"Default\", \"Default\", \"Default\", \"Topic1\", \"Topic1\", \"Topic1\", \"Topic1\", \"Topic1\", \"Topic1\", \"Topic1\", \"Topic1\", \"Topic1\", \"Topic1\", \"Topic1\", \"Topic1\", \"Topic1\", \"Topic1\", \"Topic1\", \"Topic1\", \"Topic1\", \"Topic1\", \"Topic1\", \"Topic1\", \"Topic1\", \"Topic1\", \"Topic1\", \"Topic1\", \"Topic1\", \"Topic1\", \"Topic1\", \"Topic1\", \"Topic1\", \"Topic1\", \"Topic1\", \"Topic1\", \"Topic1\", \"Topic1\", \"Topic1\", \"Topic1\", \"Topic1\", \"Topic1\", \"Topic1\", \"Topic1\", \"Topic1\", \"Topic1\", \"Topic1\", \"Topic1\", \"Topic1\", \"Topic1\", \"Topic1\", \"Topic1\", \"Topic1\", \"Topic1\", \"Topic1\", \"Topic1\", \"Topic1\", \"Topic1\", \"Topic2\", \"Topic2\", \"Topic2\", \"Topic2\", \"Topic2\", \"Topic2\", \"Topic2\", \"Topic2\", \"Topic2\", \"Topic2\", \"Topic2\", \"Topic2\", \"Topic2\", \"Topic2\", \"Topic2\", \"Topic2\", \"Topic2\", \"Topic2\", \"Topic2\", \"Topic2\", \"Topic2\", \"Topic2\", \"Topic2\", \"Topic2\", \"Topic2\", \"Topic2\", \"Topic2\", \"Topic2\", \"Topic2\", \"Topic2\", \"Topic2\", \"Topic2\", \"Topic2\", \"Topic2\", \"Topic2\", \"Topic2\", \"Topic2\", \"Topic2\", \"Topic2\", \"Topic2\", \"Topic2\", \"Topic2\", \"Topic2\", \"Topic2\", \"Topic2\", \"Topic2\", \"Topic2\", \"Topic2\", \"Topic2\", \"Topic2\", \"Topic2\", \"Topic2\", \"Topic2\", \"Topic2\", \"Topic2\", \"Topic2\", \"Topic2\", \"Topic2\", \"Topic2\", \"Topic2\", \"Topic2\", \"Topic2\", \"Topic2\", \"Topic2\", \"Topic2\", \"Topic2\", \"Topic2\", \"Topic3\", \"Topic3\", \"Topic3\", \"Topic3\", \"Topic3\", \"Topic3\", \"Topic3\", \"Topic3\", \"Topic3\", \"Topic3\", \"Topic3\", \"Topic3\", \"Topic3\", \"Topic3\", \"Topic3\", \"Topic3\", \"Topic3\", \"Topic3\", \"Topic3\", \"Topic3\", \"Topic3\", \"Topic3\", \"Topic3\", \"Topic3\", \"Topic3\", \"Topic3\", \"Topic3\", \"Topic3\", \"Topic3\", \"Topic3\", \"Topic3\", \"Topic3\", \"Topic3\", \"Topic3\", \"Topic3\", \"Topic3\", \"Topic3\", \"Topic3\", \"Topic3\", \"Topic3\", \"Topic3\", \"Topic3\", \"Topic3\", \"Topic3\", \"Topic3\", \"Topic3\", \"Topic3\", \"Topic3\", \"Topic3\", \"Topic3\", \"Topic3\", \"Topic3\", \"Topic3\", \"Topic3\", \"Topic3\", \"Topic3\", \"Topic3\", \"Topic3\", \"Topic3\", \"Topic3\", \"Topic3\", \"Topic3\", \"Topic3\", \"Topic3\", \"Topic4\", \"Topic4\", \"Topic4\", \"Topic4\", \"Topic4\", \"Topic4\", \"Topic4\", \"Topic4\", \"Topic4\", \"Topic4\", \"Topic4\", \"Topic4\", \"Topic4\", \"Topic4\", \"Topic4\", \"Topic4\", \"Topic4\", \"Topic4\", \"Topic4\", \"Topic4\", \"Topic4\", \"Topic4\", \"Topic4\", \"Topic4\", \"Topic4\", \"Topic4\", \"Topic4\", \"Topic4\", \"Topic4\", \"Topic4\", \"Topic4\", \"Topic4\", \"Topic4\", \"Topic4\", \"Topic4\", \"Topic4\", \"Topic4\", \"Topic4\", \"Topic4\", \"Topic4\", \"Topic4\", \"Topic4\", \"Topic4\", \"Topic4\", \"Topic4\", \"Topic4\", \"Topic4\", \"Topic4\", \"Topic4\", \"Topic4\", \"Topic4\", \"Topic4\", \"Topic4\", \"Topic4\", \"Topic4\", \"Topic4\", \"Topic4\", \"Topic4\", \"Topic4\", \"Topic4\", \"Topic4\", \"Topic4\", \"Topic4\", \"Topic4\", \"Topic5\", \"Topic5\", \"Topic5\", \"Topic5\", \"Topic5\", \"Topic5\", \"Topic5\", \"Topic5\", \"Topic5\", \"Topic5\", \"Topic5\", \"Topic5\", \"Topic5\", \"Topic5\", \"Topic5\", \"Topic5\", \"Topic5\", \"Topic5\", \"Topic5\", \"Topic5\", \"Topic5\", \"Topic5\", \"Topic5\", \"Topic5\", \"Topic5\", \"Topic5\", \"Topic5\", \"Topic5\", \"Topic5\", \"Topic5\", \"Topic5\", \"Topic5\", \"Topic5\", \"Topic5\", \"Topic5\", \"Topic5\", \"Topic5\", \"Topic5\", \"Topic5\", \"Topic5\", \"Topic5\", \"Topic5\", \"Topic5\", \"Topic5\", \"Topic5\", \"Topic5\"], \"logprob\": [30.0, 29.0, 28.0, 27.0, 26.0, 25.0, 24.0, 23.0, 22.0, 21.0, 20.0, 19.0, 18.0, 17.0, 16.0, 15.0, 14.0, 13.0, 12.0, 11.0, 10.0, 9.0, 8.0, 7.0, 6.0, 5.0, 4.0, 3.0, 2.0, 1.0, -4.8864, -5.1393, -5.1678, -5.3997, -5.4235, -5.5094, -5.6112, -5.604, -5.6752, -5.705, -5.8027, -5.9018, -5.9069, -5.9359, -5.9516, -5.9887, -5.8284, -6.0101, -6.025, -6.0623, -6.0647, -6.1101, -6.0759, -6.1459, -6.1473, -6.1759, -6.2367, -6.2855, -6.2918, -6.3006, -5.376, -6.0642, -6.1232, -6.0673, -5.1706, -4.8715, -5.1045, -5.389, -4.7874, -3.1771, -5.0715, -5.5891, -4.3884, -5.6264, -5.2143, -5.4412, -5.2312, -5.0064, -5.5315, -5.4078, -5.7818, -5.5342, -5.644, -5.7602, -4.6791, -4.6819, -4.6893, -4.9818, -4.9742, -4.9147, -5.3436, -5.3829, -5.3859, -5.3891, -5.391, -5.3893, -5.3793, -6.0401, -6.0223, -6.0742, -6.0784, -6.0807, -6.0809, -6.084, -6.0846, -6.0827, -6.0825, -6.0852, -6.0834, -6.0846, -6.0852, -6.084, -6.0858, -6.0858, -4.2714, -4.6709, -3.9643, -4.9808, -4.4437, -6.0415, -4.6748, -6.0735, -6.0774, -6.0782, -4.4522, -4.2755, -5.3613, -4.9817, -3.4069, -6.0734, -5.3849, -5.3661, -3.8497, -5.3561, -3.4747, -3.4081, -3.9234, -3.7573, -3.09, -4.2625, -4.268, -2.6202, -4.2728, -3.8488, -4.9851, -4.682, -4.2681, -4.665, -4.9343, -4.9686, -4.971, -4.8841, -4.8854, -5.2774, -5.2899, -5.2869, -5.2909, -5.2835, -5.9659, -5.974, -5.9796, -5.9815, -5.9815, -5.9833, -5.9799, -5.9827, -5.9839, -5.9839, -5.9839, -5.9839, -5.9839, -5.983, -5.9833, -5.9722, -5.9821, -5.9687, -5.9669, -5.9548, -5.9671, -5.9661, -5.9629, -3.9599, -3.8767, -3.3592, -4.8795, -4.8712, -5.2861, -4.0259, -4.3002, -3.8875, -3.9537, -4.5888, -5.2849, -3.7787, -5.2333, -4.3655, -4.1828, -5.2286, -4.8774, -5.1753, -4.8638, -5.2459, -3.2881, -5.2689, -4.5831, -4.3202, -2.2006, -3.6472, -4.3343, -4.5751, -4.5717, -4.5562, -4.8723, -4.8546, -4.8676, -3.6166, -4.0159, -4.295, -4.3029, -4.3027, -5.3169, -5.3913, -5.3896, -5.4051, -5.4042, -5.3918, -5.4059, -5.4062, -5.4083, -5.4083, -5.4083, -5.4083, -5.4083, -5.4077, -5.4065, -5.3796, -5.3646, -5.6931, -6.0991, -6.2838, -6.5068, -6.2782, -5.3741, -5.3987, -7.8762, -3.3488, -3.431, -3.7481, -5.3977, -4.7053, -4.6521, -4.6973, -3.7399, -4.708, -4.2967, -4.6939, -4.5884, -4.6924, -4.7007, -4.7018, -5.317, -5.3197, -4.6894, -5.3757, -4.7036, -4.3005, -3.9938, -4.2698, -4.6846, -4.6604, -4.2882, -4.6608, -3.2782, -4.6513, -4.5026, -4.6642, -4.6879, -4.6952, -4.697, -2.6735, -2.882, -3.5014, -4.06, -4.3476, -4.3479, -4.3479, -4.3483, -4.349, -4.3463, -4.349, -4.3498, -4.7497, -4.7518, -4.7537, -4.754, -4.7543, -4.7549, -4.7552, -4.7527, -4.7531, -5.4439, -5.4445, -5.4458, -5.4458, -5.4458, -5.4445, -5.4458, -5.4464, -5.4384, -4.3446, -5.4402, -5.4433, -5.4445, -4.7423, -4.7517, -4.0583, -4.7402, -3.837, -4.7496, -3.0453, -4.058, -4.0577, -4.3478, -4.7515, -4.7518], \"loglift\": [30.0, 29.0, 28.0, 27.0, 26.0, 25.0, 24.0, 23.0, 22.0, 21.0, 20.0, 19.0, 18.0, 17.0, 16.0, 15.0, 14.0, 13.0, 12.0, 11.0, 10.0, 9.0, 8.0, 7.0, 6.0, 5.0, 4.0, 3.0, 2.0, 1.0, 1.061, 1.061, 1.0609, 1.0609, 1.0609, 1.0608, 1.0608, 1.0608, 1.0608, 1.0608, 1.0607, 1.0607, 1.0607, 1.0607, 1.0607, 1.0606, 1.0606, 1.0606, 1.0606, 1.0606, 1.0606, 1.0606, 1.0606, 1.0605, 1.0605, 1.0605, 1.0605, 1.0605, 1.0604, 1.0604, 1.0603, 1.06, 1.0594, 1.0553, 0.8297, 0.7328, 0.6605, 0.7689, 0.5188, -0.3259, 0.3729, 0.7235, -0.3, 0.7073, 0.0851, 0.1794, -0.2187, -0.6587, 0.2699, -0.0684, 0.6467, -0.9204, -0.324, -0.2566, 1.504, 1.504, 1.504, 1.5039, 1.5039, 1.5038, 1.5037, 1.5037, 1.5036, 1.5036, 1.5036, 1.5036, 1.5036, 1.5031, 1.5031, 1.503, 1.503, 1.503, 1.503, 1.503, 1.503, 1.503, 1.503, 1.503, 1.503, 1.503, 1.503, 1.503, 1.503, 1.503, 1.5024, 1.5023, 1.4945, 1.4979, 1.4921, 1.503, 1.489, 1.503, 1.503, 1.503, 1.4837, 1.4759, 1.4925, 1.4838, 1.4452, 1.5029, 1.4718, 1.4679, 1.3702, 1.4639, 1.3396, 1.304, 1.33, 1.2594, 0.9984, 1.0575, 1.0313, 0.231, 0.9749, 0.4989, 1.2054, 0.96, 0.3965, 0.5581, 0.5101, 0.6698, 0.7315, 1.6049, 1.6049, 1.6047, 1.6047, 1.6047, 1.6047, 1.6047, 1.6041, 1.604, 1.604, 1.604, 1.604, 1.604, 1.604, 1.604, 1.604, 1.604, 1.604, 1.604, 1.604, 1.604, 1.604, 1.604, 1.604, 1.604, 1.604, 1.6039, 1.6039, 1.6038, 1.6031, 1.5987, 1.5935, 1.5878, 1.5998, 1.5981, 1.5972, 1.5789, 1.5779, 1.5673, 1.5514, 1.5677, 1.5833, 1.5367, 1.577, 1.5383, 1.5074, 1.5639, 1.5259, 1.5473, 1.5028, 1.5371, 1.3257, 1.5231, 1.3894, 1.294, 0.6505, 0.7005, 0.8888, 1.0555, 0.7344, 0.4563, 0.8302, 0.7777, 0.7708, 2.1367, 2.1365, 2.1365, 2.1365, 2.1365, 2.1357, 2.1357, 2.1357, 2.1357, 2.1357, 2.1356, 2.1356, 2.1356, 2.1356, 2.1356, 2.1356, 2.1356, 2.1356, 2.1356, 2.1356, 2.1355, 2.135, 2.1349, 2.1344, 2.1339, 2.1332, 2.1331, 2.1237, 2.1231, 2.1226, 2.113, 2.0989, 2.0883, 2.1189, 2.1036, 2.0905, 2.0414, 1.8817, 1.9979, 1.8609, 1.9431, 1.9022, 1.9242, 1.9078, 1.8671, 2.1022, 2.083, 1.6944, 2.1164, 1.623, 1.3138, 1.0187, 1.0697, 1.4118, 1.3719, 0.9595, 1.3014, -0.427, 1.1501, -0.4143, 0.7573, 0.3288, 0.9255, 0.1173, 2.1809, 2.1809, 2.1808, 2.1807, 2.1806, 2.1806, 2.1806, 2.1806, 2.1806, 2.1806, 2.1806, 2.1806, 2.1803, 2.1803, 2.1803, 2.1803, 2.1803, 2.1803, 2.1803, 2.1803, 2.1803, 2.1797, 2.1797, 2.1797, 2.1797, 2.1797, 2.1797, 2.1797, 2.1797, 2.1797, 2.1721, 2.1797, 2.1797, 2.1797, 2.1719, 2.1606, 2.1153, 2.1474, 2.0098, 2.0979, 1.6192, 1.8496, 1.4458, 1.0738, 1.514, 1.9228]}, \"token.table\": {\"Topic\": [1, 2, 1, 1, 2, 3, 4, 3, 4, 1, 4, 4, 1, 5, 1, 4, 4, 2, 5, 1, 4, 1, 1, 1, 2, 4, 3, 1, 4, 1, 2, 4, 1, 5, 1, 2, 1, 1, 2, 1, 1, 2, 1, 4, 1, 2, 4, 2, 1, 1, 1, 1, 2, 1, 2, 3, 1, 3, 4, 1, 4, 2, 2, 4, 1, 3, 1, 5, 1, 2, 3, 1, 2, 3, 1, 2, 5, 1, 2, 1, 4, 5, 2, 1, 1, 4, 2, 1, 2, 1, 3, 4, 3, 3, 2, 3, 1, 4, 4, 3, 4, 1, 3, 5, 1, 3, 5, 1, 3, 1, 4, 1, 2, 1, 3, 3, 1, 4, 1, 4, 1, 2, 4, 1, 4, 5, 1, 2, 3, 4, 2, 1, 2, 4, 2, 3, 1, 3, 5, 5, 5, 1, 3, 3, 1, 4, 3, 3, 1, 4, 5, 1, 2, 5, 2, 4, 1, 1, 4, 1, 1, 2, 1, 4, 2, 1, 3, 1, 2, 1, 3, 1, 3, 4, 1, 2, 3, 1, 5, 2, 1, 3, 1, 2, 4, 1, 5, 5, 1, 5, 4, 1, 2, 3, 4, 3, 1, 4, 3, 1, 3, 2, 5, 5, 2, 1, 2, 4, 5, 1, 4, 1, 2, 3, 4, 4, 1, 1, 4, 1, 2, 3, 4, 1, 2, 3, 4, 5, 1, 2, 1, 2, 3, 4, 4, 5, 5, 1, 4, 2, 2, 1, 4, 5, 1, 5, 1, 2, 4, 1, 2, 1, 3, 3, 5, 1, 4, 1, 2, 4, 1, 2, 3, 4, 5, 2, 1, 4, 4, 4, 1, 5, 2, 5, 1, 4, 5, 1, 2, 3, 1, 3, 2, 3, 4, 1, 4, 5, 1, 2, 5, 1, 4, 2, 1, 5, 5, 1, 3, 1, 4, 5, 5, 3, 1, 3, 1, 2, 3, 2, 4, 1, 2, 2, 1, 1, 4, 1, 4, 1, 4, 1, 2, 3, 4, 3, 1, 3, 3, 1, 3, 1, 3, 1, 4, 1, 3, 5, 1, 3, 1, 3, 1, 3, 1, 3, 3, 1, 3, 5, 2, 4, 2, 2, 1, 1, 2, 3, 5, 2, 2, 1, 2, 3, 4, 5, 1, 3, 1, 2, 1, 5, 4, 3, 1, 4, 5, 2, 3, 2, 1, 4, 1, 3, 4, 4, 1, 5, 4, 1, 4, 4, 2, 3, 1, 4, 1, 3, 4, 4, 3, 2, 1, 2, 5, 1, 2, 1, 2, 2, 2, 2, 4, 4, 1, 3, 3, 5, 1, 2, 5, 1, 2, 4, 3, 1, 1, 3, 3, 1, 2, 1, 2, 3], \"Freq\": [0.3767913477748913, 0.6230739605663007, 0.9992454998792263, 0.07705774801548543, 0.4616195282059741, 0.46065024835672264, 0.0007269598869385418, 0.24102261496147548, 0.7589729570973879, 0.013450952432076006, 0.9864031783522403, 0.9993413400560834, 0.019498868151497775, 0.9798181246127633, 0.9994878833584746, 0.9986204358607733, 0.9967634809656435, 0.9989526648774686, 0.9983834152186066, 0.20446981558019903, 0.7950937696754953, 0.9997904096032443, 0.999318094811261, 0.0019399615286504316, 0.9979162103377821, 0.9991540542093016, 0.9997583176399109, 0.01784237065964468, 0.9828172505020943, 0.053214713261671896, 0.7828421350008338, 0.16391596309730586, 0.9998817032155355, 0.9994273273871859, 0.9998961127375026, 0.9988559886216892, 0.9999297271291738, 0.9991122324056004, 0.9991529145695515, 0.9996468425353692, 0.669919760350665, 0.3299296778931462, 0.9985376779254369, 0.0010645391022659242, 0.10287446106846891, 0.5889524452798743, 0.3081620627521849, 0.999410736810563, 0.9990462046164098, 0.9993913105196384, 0.9993272183875478, 0.014991038307637015, 0.9847959011324623, 0.2758123529387376, 0.2871068800861061, 0.4370982006031591, 0.45315516284764434, 0.17387889955783284, 0.3729033630517215, 0.9998370449760859, 0.9993413400560834, 0.9990940233450376, 0.999502390186034, 0.9997159933760007, 0.006781484380022946, 0.9927049827064358, 0.9992310288039614, 0.9990983769702827, 0.1378762025863055, 0.10597703382225494, 0.7561163583253725, 0.12317824420151963, 0.38828903287884625, 0.48851201354463814, 0.09192062963043145, 0.190385770108337, 0.7178138488615893, 0.03150852590837881, 0.9683107962087146, 0.20339148073835786, 0.28338645642624755, 0.5131592589340159, 0.9996433782008688, 0.9989340531223134, 0.19102243018947115, 0.8082183201370979, 0.9983528359820637, 0.020196875086031844, 0.9795484416725445, 0.25618969682072645, 0.5771033751445767, 0.16665861439306062, 0.9995300489808734, 0.9993689640430745, 0.9990238515048021, 0.9979451786052332, 0.2362916738669886, 0.7636255313994144, 0.9993413400560834, 0.9989778762146697, 0.9987699277700781, 0.07851807724087458, 0.9213267962484274, 0.999449140306962, 0.05578175372426817, 0.9435853280587049, 0.999614840262627, 0.027880796599744295, 0.9721593551226629, 0.6605470095790004, 0.3390373961220495, 0.00968515027269025, 0.9901641867020974, 0.9997709844192072, 0.9995250968306387, 0.9985650500064088, 0.023428142764384537, 0.9763630878880906, 0.0020299711878550442, 0.9987458244246817, 0.019041474457335762, 0.8481930088115847, 0.13269215970007278, 0.013131076526521184, 0.9862897479920356, 0.9998370645901022, 0.27808248561071935, 0.07802838975615464, 0.31697514094088985, 0.3269413838692461, 0.9996103251613067, 0.03926380401190253, 0.9601111320646353, 0.998723374930418, 0.9988559886216892, 0.9989346553596743, 0.0015681270564145754, 0.9988969349360846, 0.9999396063521179, 0.99966304484419, 0.999544328470594, 0.001562044920829219, 0.998146704409871, 0.9986690693697078, 0.3573018547058271, 0.6422812160328607, 0.9987770230673676, 0.9979451786052332, 0.14360655361255492, 0.013716805315819086, 0.8426037551146011, 0.7466250885797918, 0.25333287294186385, 0.9994728287384705, 0.9985940605270445, 0.9996410660034176, 0.99963104436188, 0.0452524731744867, 0.9544157978619012, 0.9994833556432321, 0.05735380681891016, 0.9426108503360596, 0.0014617746025285862, 0.9983920535270244, 0.9996424937720214, 0.06461082545443612, 0.9353750694229376, 0.9989944162781814, 0.9992120313852664, 0.03662861305169235, 0.9630272848174113, 0.7200641860046778, 0.27963444441243285, 0.00021966570652979798, 0.7933945727192361, 0.20658937249332637, 0.9979451786052332, 0.008752292580163289, 0.9911971347034925, 0.999589959821506, 0.19395352470709504, 0.8059705388401216, 0.23037790919568987, 0.5802786148453812, 0.18932046003210157, 0.008953977855635665, 0.9906355500280549, 0.9999071332594343, 0.9994185873900429, 0.9979568594982705, 0.9988415612854028, 0.06471796458537728, 0.8185607370506549, 0.057067023014087885, 0.0596773442560572, 0.9984140178666242, 0.020310395330501264, 0.9792512034348824, 0.9993127479231244, 0.9995185801812536, 0.9994965147856801, 0.9991419765172689, 0.99956640493613, 0.9979561878503752, 0.9992686742893508, 0.12249208653199109, 0.8744947862668522, 0.0028416967571524183, 0.9996148405911646, 0.9991533286874462, 0.0010041741996858757, 0.17911635362618306, 0.3658600004957847, 0.4046216546836498, 0.05039015044422462, 0.9994844086674983, 0.999323432131795, 0.04737323064973179, 0.9527283052890505, 0.2563276630418803, 0.6029536672983635, 0.06270718139902981, 0.07799808640171631, 0.24978983369959115, 0.2798989921354455, 0.38489610855912904, 0.07700161811047637, 0.008398649493962157, 0.7136209781550402, 0.2863404174847099, 0.4141682478342119, 0.1449030689188159, 0.14311689857775192, 0.29784390437241975, 0.9983912264630588, 0.999049120204114, 0.999142473623259, 0.09083581225478965, 0.9090410985798875, 0.9992335353468818, 0.9992132006459882, 0.00038814430709377786, 0.06326752205628579, 0.936592213017286, 0.03249796402971339, 0.9670125882012277, 0.16368867787766161, 0.40246678764162097, 0.4335707782556104, 0.035308112280412376, 0.9645875780436062, 0.00789223137712882, 0.9920534841050928, 0.9989256048949968, 0.9979561846221744, 0.12953950040462953, 0.8704261328209035, 0.10715918466951335, 0.4272888244054809, 0.4653674026056539, 0.1787613129130284, 0.12075994526366299, 0.11819837066716105, 0.25176618891333374, 0.33044312294875056, 0.998596239709727, 0.05174271598319653, 0.9472897233846749, 0.9957950685752094, 0.9786812780023381, 0.07919247402623736, 0.9198510444586031, 0.9982354193042898, 0.9994729146979544, 0.03371920290650864, 0.9657179712424074, 0.9998036273962156, 0.12622902198079428, 0.14109254477993877, 0.732527646011569, 0.02593095677850662, 0.9739491562910283, 0.4206817855230773, 0.14022726184102577, 0.43909770756865507, 0.9946316715172732, 0.005013264473373353, 0.9985699859605662, 0.26771930507495945, 0.25282394314571466, 0.47943204929595856, 0.037114144845920696, 0.9627246033933605, 0.9996092279175584, 0.22741188113847638, 0.7725597990225423, 0.9995355550157696, 0.011717529268849204, 0.9883063621021173, 0.20889644827216194, 0.7908222684588988, 0.9989811540150538, 0.9988636118781815, 0.9986687515769432, 0.04036310026194209, 0.9593444008686595, 0.2502714720552415, 0.6397295884106898, 0.10992769413258624, 0.9720802603227033, 0.027737368684600697, 0.011494126934347522, 0.9884949163538869, 0.9982351586947559, 0.9999070812529923, 0.9993196346352761, 0.9982814546815155, 0.03223644192951539, 0.9670932578854616, 0.003637691280872475, 0.9967274109590583, 0.32311276659914284, 0.22501593292115582, 0.1078728067936627, 0.34401312291541497, 0.9979451786052332, 0.06614607089828968, 0.9337784884273481, 0.9983001215553587, 0.017302425278652108, 0.982595625035033, 0.09698363634005333, 0.9025127711838943, 0.17582382690593829, 0.8235958207699214, 0.581347500156857, 0.4186484521600698, 0.9995353123535248, 0.02685949955097286, 0.9730070321207265, 0.006504645417184329, 0.9933223033855035, 0.09311426680296145, 0.9067271019270384, 0.021767481071828056, 0.9779818281557033, 0.9992795231806669, 0.07618927758013609, 0.9235507942566497, 0.9988118414871456, 0.7417679975473163, 0.25817789802870933, 0.9983809399107085, 0.9979763455599993, 0.9987764839787547, 0.13182032233049715, 0.4340979580193957, 0.4340979580193957, 0.9997953869249757, 0.9986978907838374, 0.9985143652721267, 0.502436779170042, 0.3700884919594535, 0.11887010237443245, 0.008798259545824133, 0.9998529301382642, 0.005268866675091725, 0.9942351415898085, 0.00631917423252489, 0.993690148064539, 0.9998847980565017, 0.9996694252485485, 0.9990235113874113, 0.9989224495281643, 0.4016540435347589, 0.5979579341812514, 0.9979566180475822, 0.9994315361350454, 0.9994819899279758, 0.9994024641777519, 0.9988801381837557, 0.0005047398373844142, 0.06567601462314608, 0.9337415992073377, 0.9993413400560834, 0.9993413400560834, 0.999593556702218, 0.9983875116229572, 0.9991457442034714, 0.2250597144242651, 0.7748580237427279, 0.9990114050784448, 0.9985499352210891, 0.9979451786052332, 0.9998708524304797, 0.9998270634154752, 0.03442627606213491, 0.962611642198926, 0.0028373304446814482, 0.9997938427093048, 0.9987765099746444, 0.9992130474098004, 0.9996378391041624, 0.9989305113533568, 0.9992358665883941, 0.15989457103601, 0.8399877271446871, 0.011933555160159244, 0.9880371695424153, 0.9986982681237082, 0.9983263868872794, 0.9995516948629581, 0.9987555962698951, 0.999416167579426, 0.052315191076999445, 0.947640951676142, 0.9987748163209144, 0.9983867254463041, 0.09947594532741649, 0.3302704379809307, 0.5701628169197824, 0.04778990407240488, 0.46783800828775307, 0.484366847290239, 0.9991956330004039, 0.9990665855842358, 0.7019666595356833, 0.29791446809626015, 0.9984271403139862, 0.0018217328811273557, 0.9980493713033441, 0.020269233479291795, 0.97967961816577, 0.9983079481185625], \"Term\": [\"\\uac00\\uaca9\", \"\\uac00\\uaca9\", \"\\uac00\\ub2a5\", \"\\uac00\\ub7c9\", \"\\uac00\\ub7c9\", \"\\uac00\\ub7c9\", \"\\uac00\\ub7c9\", \"\\uac00\\uc0c1\\ud604\\uc2e4\", \"\\uac00\\uc0c1\\ud604\\uc2e4\", \"\\uac00\\uc815\", \"\\uac00\\uc815\", \"\\uac00\\uc815\\uc6a9\", \"\\uac10\\ub3c5\", \"\\uac10\\ub3c5\", \"\\uac1c\\ubc1c\", \"\\uac74\\ub370\\uc694\", \"\\uac80\\uc218\", \"\\uaca9\\ub3cc\", \"\\uaca9\\ub824\", \"\\uacb0\\uc815\", \"\\uacb0\\uc815\", \"\\uacb0\\uc81c\", \"\\uacc4\\ud68d\", \"\\uace0\\uae09\", \"\\uace0\\uae09\", \"\\uace0\\uc720\\ubbf8\", \"\\uace0\\uc810\", \"\\uace0\\uc9d1\", \"\\uace0\\uc9d1\", \"\\uacf5\\uac1c\", \"\\uacf5\\uac1c\", \"\\uacf5\\uac1c\", \"\\uacf5\\uae09\", \"\\uacf5\\ub85c\\uc0c1\", \"\\uacf5\\uc7a5\", \"\\uacf5\\ucd5c\", \"\\uad00\\ub828\", \"\\uad11\\uace0\", \"\\uad11\\ud654\\ubb38\", \"\\uad6c\\uae00\", \"\\uad6d\\ub0b4\", \"\\uad6d\\ub0b4\", \"\\uaddc\\ubaa8\", \"\\uaddc\\ubaa8\", \"\\uae00\\ub85c\\ubc8c\", \"\\uae00\\ub85c\\ubc8c\", \"\\uae00\\ub85c\\ubc8c\", \"\\uae30\\uac00\\ubc14\\uc774\\ud2b8\", \"\\uae30\\uae30\", \"\\uae30\\ub2a5\", \"\\uae30\\ub85d\", \"\\uae30\\ubcf8\", \"\\uae30\\ubcf8\", \"\\uae30\\uc220\", \"\\uae30\\uc220\", \"\\uae30\\uc220\", \"\\uae30\\uc5c5\", \"\\uae30\\uc5c5\", \"\\uae30\\uc5c5\", \"\\uae30\\uc790\", \"\\ub0b4\\ucd94\\ub7f4\", \"\\ub108\\uba38\", \"\\ub178\\uce58\", \"\\ub2c8\\uc2a4\", \"\\ub2e8\\uae30\", \"\\ub2e8\\uae30\", \"\\ub2e8\\ub9d0\\uae30\", \"\\ub2e8\\ud3b8\", \"\\ub2ec\\ub7ec\", \"\\ub2ec\\ub7ec\", \"\\ub2ec\\ub7ec\", \"\\ub300\\ube44\", \"\\ub300\\ube44\", \"\\ub300\\ube44\", \"\\ub300\\uc0c1\", \"\\ub300\\uc0c1\", \"\\ub300\\uc0c1\", \"\\ub300\\uc911\", \"\\ub300\\uc911\", \"\\ub300\\ud45c\", \"\\ub300\\ud45c\", \"\\ub300\\ud45c\", \"\\ub354\\ube14\", \"\\ub3c4\\uc785\", \"\\ub3c5\\uc810\", \"\\ub3c5\\uc810\", \"\\ub450\\ub1cc\", \"\\ub514\\uc790\\uc778\", \"\\ub514\\uc790\\uc778\", \"\\ub54c\\ubb38\", \"\\ub54c\\ubb38\", \"\\ub54c\\ubb38\", \"\\ub7a0\\ub9ac\", \"\\ub808\\ub4e4\\ub7ec\", \"\\ub80c\\ub354\\ub9c1\", \"\\ub85c\\ubc84\", \"\\ub85c\\uc774\\ud130\", \"\\ub85c\\uc774\\ud130\", \"\\ub85c\\ud1a4\", \"\\ub9ac\\ub4dc\", \"\\ub9ac\\uc140\", \"\\ub9ac\\uc2a4\\ud06c\", \"\\ub9ac\\uc2a4\\ud06c\", \"\\ub9ac\\uc544\\ub098\", \"\\ub9c8\\uac10\", \"\\ub9c8\\uac10\", \"\\ub9c8\\uc2dc\", \"\\ub9e4\\uc218\", \"\\ub9e4\\uc218\", \"\\ub9e4\\ucd9c\", \"\\ub9e4\\ucd9c\", \"\\ub9e5\\uc2a4\", \"\\ub9e5\\uc2a4\", \"\\uba38\\uc2a4\\ud06c\", \"\\uba3c\\uc2a4\\ud130\", \"\\uba54\\ub974\\uc138\\ub370\\uc2a4\", \"\\uba54\\ud0c0\", \"\\uba54\\ud0c0\", \"\\uba85\\ud488\", \"\\uba85\\ud488\", \"\\ubaa8\\ub378\", \"\\ubaa8\\ub378\", \"\\ubaa8\\ub378\", \"\\ubaa8\\ud68c\\uc0ac\", \"\\ubaa8\\ud68c\\uc0ac\", \"\\ubb38\\ud559\", \"\\ubbf8\\uad6d\", \"\\ubbf8\\uad6d\", \"\\ubbf8\\uad6d\", \"\\ubbf8\\uad6d\", \"\\ubbf8\\ub2c8\", \"\\ubc14\\uc774\\uc624\", \"\\ubc14\\uc774\\uc624\", \"\\ubc14\\uc774\\ud06c\", \"\\ubc24\\ud558\\ub298\", \"\\ubc29\\uc5b4\\uc8fc\", \"\\ubc38\\ub958\", \"\\ubc38\\ub958\", \"\\ubc88\\uc5ed\", \"\\ubc88\\uc5ed\\uac00\", \"\\ubca0\\ud2b8\\ub0a8\\uc5b4\", \"\\ubca4\\uce20\", \"\\ubca4\\uce20\", \"\\ubcc0\\ub3d9\\uc131\", \"\\ubcf4\\ub3c4\", \"\\ubcf4\\ub3c4\", \"\\ubcfc\\ubcf4\", \"\\ubd80\\uadfc\", \"\\ubd80\\ubb38\", \"\\ubd80\\ubb38\", \"\\ubd80\\ubb38\", \"\\ubd84\\uae30\", \"\\ubd84\\uae30\", \"\\ube0c\\ub808\", \"\\ube44\\uc2a4\", \"\\ube44\\uc988\", \"\\uc0ac\\uc6a9\", \"\\uc0ac\\uc774\\ud2b8\", \"\\uc0ac\\uc774\\ud2b8\", \"\\uc0bc\\uc131\", \"\\uc0bc\\uc131\\uc804\\uc790\", \"\\uc0bc\\uc131\\uc804\\uc790\", \"\\uc0c1\\uac70\\ub798\", \"\\uc0c1\\uac70\\ub798\", \"\\uc0c1\\uc9d5\", \"\\uc0c1\\ud0dc\", \"\\uc0c1\\ud0dc\", \"\\uc0c1\\ud669\", \"\\uc0c9\\uc0c1\", \"\\uc0dd\\uac01\", \"\\uc0dd\\uac01\", \"\\uc0dd\\uc0b0\", \"\\uc0dd\\uc0b0\", \"\\uc0dd\\uc0b0\", \"\\uc11c\\ube44\\uc2a4\", \"\\uc11c\\ube44\\uc2a4\", \"\\uc120\\uc778\", \"\\uc120\\uc815\", \"\\uc120\\uc815\", \"\\uc120\\ud638\\ub3c4\", \"\\uc124\\uba85\", \"\\uc124\\uba85\", \"\\uc18c\\ube44\\uc790\", \"\\uc18c\\ube44\\uc790\", \"\\uc18c\\ube44\\uc790\", \"\\uc18c\\uc124\", \"\\uc18c\\uc124\", \"\\uc218\\uc0c1\\uc790\", \"\\uc218\\uc218\\ub8cc\", \"\\uc218\\uc5ec\", \"\\uc288\\ud37c\", \"\\uc2a4\\ub9c8\\ud2b8\\ud3f0\", \"\\uc2a4\\ub9c8\\ud2b8\\ud3f0\", \"\\uc2a4\\ub9c8\\ud2b8\\ud3f0\", \"\\uc2a4\\ub9c8\\ud2b8\\ud3f0\", \"\\uc2a4\\ucf67\", \"\\uc2a4\\ud0c0\\ud2b8\\uc5c5\", \"\\uc2a4\\ud0c0\\ud2b8\\uc5c5\", \"\\uc2a4\\ud130\", \"\\uc2a4\\ud1a0\\uc5b4\", \"\\uc2a4\\ud1a1\", \"\\uc2a4\\ud398\\uc15c\", \"\\uc2a4\\ud398\\uc778\\uc5b4\", \"\\uc2b9\\ubcf5\", \"\\uc2b9\\ubd80\", \"\\uc2dc\\ub9ac\\uc988\", \"\\uc2dc\\ub9ac\\uc988\", \"\\uc2dc\\ub9ac\\uc988\", \"\\uc2dc\\uc624\", \"\\uc2dc\\uc791\", \"\\uc2dc\\uc791\", \"\\uc2dc\\uc7a5\", \"\\uc2dc\\uc7a5\", \"\\uc2dc\\uc7a5\", \"\\uc2dc\\uc7a5\", \"\\uc2e0\\uc81c\\ud488\", \"\\uc2e4\\uc801\", \"\\uc544\\ub9c8\\uc874\", \"\\uc544\\ub9c8\\uc874\", \"\\uc544\\uc774\\ud3f0\", \"\\uc544\\uc774\\ud3f0\", \"\\uc544\\uc774\\ud3f0\", \"\\uc544\\uc774\\ud3f0\", \"\\uc560\\ud50c\", \"\\uc560\\ud50c\", \"\\uc560\\ud50c\", \"\\uc560\\ud50c\", \"\\uc560\\ud50c\", \"\\uc5c5\\uacc4\", \"\\uc5c5\\uacc4\", \"\\uc5c5\\uccb4\", \"\\uc5c5\\uccb4\", \"\\uc5c5\\uccb4\", \"\\uc5c5\\uccb4\", \"\\uc5d4\\ub370\", \"\\uc5ec\\uc790\", \"\\uc5ed\\uc6d0\", \"\\uc5f0\\ubc29\", \"\\uc5f0\\ubc29\", \"\\uc5f0\\uc0b0\", \"\\uc5f4\\uae30\", \"\\uc601\\uc5b4\", \"\\uc601\\uc5b4\", \"\\uc601\\uc5b4\", \"\\uc601\\ud654\", \"\\uc601\\ud654\", \"\\uc608\\uc815\", \"\\uc608\\uc815\", \"\\uc608\\uc815\", \"\\uc608\\uce21\", \"\\uc608\\uce21\", \"\\uc624\\ub7ab\\ub3d9\\uc548\", \"\\uc624\\ub7ab\\ub3d9\\uc548\", \"\\uc624\\ubbf8\", \"\\uc624\\ud1a0\\ubc14\\uc774\", \"\\uc624\\ud504\\ub77c\\uc778\", \"\\uc624\\ud504\\ub77c\\uc778\", \"\\uc628\\ub77c\\uc778\", \"\\uc628\\ub77c\\uc778\", \"\\uc628\\ub77c\\uc778\", \"\\uc62c\\ud574\", \"\\uc62c\\ud574\", \"\\uc62c\\ud574\", \"\\uc62c\\ud574\", \"\\uc62c\\ud574\", \"\\uc655\\uc88c\", \"\\uc694\\uae08\\uc81c\", \"\\uc694\\uae08\\uc81c\", \"\\uc6b0\\uc601\", \"\\uc6d4\\ud3c9\\uade0\", \"\\uc6f9\\ud230\", \"\\uc6f9\\ud230\", \"\\uc717\\ubd80\\ubd84\", \"\\uc720\\uc2e0\", \"\\uc720\\uce58\", \"\\uc720\\uce58\", \"\\uc740\\uc9c0\", \"\\uc774\\ub0a0\", \"\\uc774\\ub0a0\", \"\\uc774\\ub0a0\", \"\\uc774\\ub3d9\", \"\\uc774\\ub3d9\", \"\\uc774\\ubca4\\ud2b8\", \"\\uc774\\ubca4\\ud2b8\", \"\\uc774\\ubca4\\ud2b8\", \"\\uc778\\ub3c4\", \"\\uc778\\ub3c4\", \"\\uc778\\ub3c4\\ub124\\uc2dc\\uc544\\uc5b4\", \"\\uc778\\uc0c1\", \"\\uc778\\uc0c1\", \"\\uc778\\uc0c1\", \"\\uc778\\uc218\", \"\\uc778\\uc218\", \"\\uc778\\uce58\", \"\\uc77c\\ubcf8\", \"\\uc77c\\ubcf8\", \"\\uc77c\\ubcf8\\uc5b4\", \"\\uc790\\ub3d9\\ucc28\", \"\\uc790\\ub3d9\\ucc28\", \"\\uc790\\uccb4\", \"\\uc790\\uccb4\", \"\\uc791\\uac00\", \"\\uc791\\ud488\", \"\\uc7a3\\ub300\", \"\\uc804\\ub0a0\", \"\\uc804\\ub0a0\", \"\\uc804\\ub9dd\", \"\\uc804\\ub9dd\", \"\\uc804\\ub9dd\", \"\\uc804\\uc791\", \"\\uc804\\uc791\", \"\\uc810\\uc720\\uc728\", \"\\uc810\\uc720\\uc728\", \"\\uc811\\uc804\", \"\\uc815\\uc800\\uc6b0\", \"\\uc815\\ucc45\", \"\\uc81c\\uc18c\", \"\\uc81c\\uc791\", \"\\uc81c\\uc791\", \"\\uc81c\\ud398\\ud1a0\", \"\\uc81c\\ud398\\ud1a0\", \"\\uc81c\\ud488\", \"\\uc81c\\ud488\", \"\\uc81c\\ud488\", \"\\uc81c\\ud488\", \"\\uc870\\ub098\\ub2e8\", \"\\uc870\\uc815\", \"\\uc870\\uc815\", \"\\uc885\\uac00\", \"\\uc8fc\\uac00\", \"\\uc8fc\\uac00\", \"\\uc8fc\\ubaa9\", \"\\uc8fc\\ubaa9\", \"\\uc8fc\\uc7a5\", \"\\uc8fc\\uc7a5\", \"\\uc911\\uad6d\", \"\\uc911\\uad6d\", \"\\uc911\\uad6d\\uc5b4\", \"\\uc99d\\uc2dc\", \"\\uc99d\\uc2dc\", \"\\uc9c0\\uc218\", \"\\uc9c0\\uc218\", \"\\uc9c0\\uc801\", \"\\uc9c0\\uc801\", \"\\uc9c0\\uc9c0\", \"\\uc9c0\\uc9c0\", \"\\uc9c4\\uc2e4\", \"\\uc9c4\\ucd9c\", \"\\uc9c4\\ucd9c\", \"\\ucc3d\\uc791\", \"\\ucd08\\ub300\\uc7a5\", \"\\ucd08\\ub300\\uc7a5\", \"\\ucd08\\uc77d\\uae30\", \"\\ucd1d\\ub825\\uc804\", \"\\ucd5c\\uace0\", \"\\ucd94\\uac00\", \"\\ucd94\\uac00\", \"\\ucd94\\uac00\", \"\\ucd9c\\uac04\", \"\\ucd9c\\uace0\", \"\\ucd9c\\uace0\\uac00\", \"\\ucd9c\\uc2dc\", \"\\ucd9c\\uc2dc\", \"\\ucd9c\\uc2dc\", \"\\ucd9c\\uc2dc\", \"\\ucd9c\\ud310\\uc0ac\", \"\\ucde8\\uc57d\", \"\\ucde8\\uc57d\", \"\\uce58\\uc5f4\", \"\\uce58\\uc5f4\", \"\\uce74\\ub4dc\", \"\\uce74\\ub77c\", \"\\uce90\\uc2a4\\ud130\", \"\\ucf00\\uc774\\ud2f0\", \"\\ucf54\\ub85c\\ub098\", \"\\ucf54\\ub85c\\ub098\", \"\\ucfe0\\uc628\", \"\\ud06c\\uae30\", \"\\ud06c\\ub9b0\\uc2a4\\ud0a4\", \"\\ud0c8\\ubaa8\", \"\\ud1b5\\uc2e0\", \"\\ud1b5\\uc2e0\", \"\\ud22c\\uc790\\uc790\", \"\\ud22c\\uc790\\uc790\", \"\\ud2b8\\ub808\\ub4dc\\ubc00\", \"\\ud2b8\\ub808\\uc774\\ub2dd\", \"\\ud2b8\\uc704\\ud130\", \"\\ud30c\\uce5c\\ucf54\", \"\\ud30c\\ud06c\", \"\\ud310\\ub9e4\", \"\\ud310\\ub9e4\", \"\\ud310\\ub9e4\\ub9dd\", \"\\ud37c\\ud50c\", \"\\ud398\\uc5b4\", \"\\ud398\\uc774\", \"\\ud3a0\\ub85c\", \"\\ud3c9\\uade0\", \"\\ud3c9\\uade0\", \"\\ud3c9\\uade0\", \"\\ud3ec\\uae30\", \"\\ud3ec\\ub974\\uc250\", \"\\ud3ec\\ud06c\", \"\\ud3ed\\uc2a4\\ucf58\", \"\\ud3f4\\ub4dc\", \"\\ud504\\ub791\\uc2a4\\uc5b4\", \"\\ud504\\ub85c\", \"\\ud504\\ub85c\", \"\\ud504\\ub9ac\\ubbf8\\uc5c4\", \"\\ud504\\ub9ac\\ubbf8\\uc5c4\", \"\\ud50c\\ub77c\\uc790\", \"\\ud50c\\ub798\\uadf8\", \"\\ud50c\\ub9bd\", \"\\ud53c\\uc18c\", \"\\ud53c\\ud2b8\", \"\\ud558\\ub77d\", \"\\ud558\\ub77d\", \"\\ud558\\uc21c\", \"\\ud559\\uc704\", \"\\ud55c\\uad6d\", \"\\ud55c\\uad6d\", \"\\ud55c\\uad6d\", \"\\ud589\\uc0ac\", \"\\ud589\\uc0ac\", \"\\ud589\\uc0ac\", \"\\ud5e4\\uc9c0\", \"\\ud604\\ub300\", \"\\ud604\\uc9c0\", \"\\ud604\\uc9c0\", \"\\ud63c\\ub2e4\", \"\\ud654\\uba74\", \"\\ud654\\uba74\", \"\\ud655\\uc815\", \"\\ud655\\uc815\", \"\\ud765\\ubd84\"]}, \"R\": 30, \"lambda.step\": 0.01, \"plot.opts\": {\"xlab\": \"PC1\", \"ylab\": \"PC2\"}, \"topic.order\": [3, 1, 2, 4, 5]};\n",
              "\n",
              "function LDAvis_load_lib(url, callback){\n",
              "  var s = document.createElement('script');\n",
              "  s.src = url;\n",
              "  s.async = true;\n",
              "  s.onreadystatechange = s.onload = callback;\n",
              "  s.onerror = function(){console.warn(\"failed to load library \" + url);};\n",
              "  document.getElementsByTagName(\"head\")[0].appendChild(s);\n",
              "}\n",
              "\n",
              "if(typeof(LDAvis) !== \"undefined\"){\n",
              "   // already loaded: just create the visualization\n",
              "   !function(LDAvis){\n",
              "       new LDAvis(\"#\" + \"ldavis_el7652140685474385248140821566\", ldavis_el7652140685474385248140821566_data);\n",
              "   }(LDAvis);\n",
              "}else if(typeof define === \"function\" && define.amd){\n",
              "   // require.js is available: use it to load d3/LDAvis\n",
              "   require.config({paths: {d3: \"https://d3js.org/d3.v5\"}});\n",
              "   require([\"d3\"], function(d3){\n",
              "      window.d3 = d3;\n",
              "      LDAvis_load_lib(\"https://cdn.jsdelivr.net/gh/bmabey/pyLDAvis/pyLDAvis/js/ldavis.v3.0.0.js\", function(){\n",
              "        new LDAvis(\"#\" + \"ldavis_el7652140685474385248140821566\", ldavis_el7652140685474385248140821566_data);\n",
              "      });\n",
              "    });\n",
              "}else{\n",
              "    // require.js not available: dynamically load d3 & LDAvis\n",
              "    LDAvis_load_lib(\"https://d3js.org/d3.v5.js\", function(){\n",
              "         LDAvis_load_lib(\"https://cdn.jsdelivr.net/gh/bmabey/pyLDAvis/pyLDAvis/js/ldavis.v3.0.0.js\", function(){\n",
              "                 new LDAvis(\"#\" + \"ldavis_el7652140685474385248140821566\", ldavis_el7652140685474385248140821566_data);\n",
              "            })\n",
              "         });\n",
              "}\n",
              "</script>"
            ]
          },
          "metadata": {},
          "execution_count": 19
        }
      ]
    },
    {
      "cell_type": "code",
      "metadata": {
        "id": "NQQy6TBsBFgQ"
      },
      "source": [],
      "execution_count": null,
      "outputs": []
    }
  ]
}