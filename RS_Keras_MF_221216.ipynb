{
  "cells": [
    {
      "cell_type": "markdown",
      "metadata": {
        "id": "view-in-github",
        "colab_type": "text"
      },
      "source": [
        "<a href=\"https://colab.research.google.com/github/bongkyunSON/Deep_Leaning/blob/main/RS_Keras_MF_221216.ipynb\" target=\"_parent\"><img src=\"https://colab.research.google.com/assets/colab-badge.svg\" alt=\"Open In Colab\"/></a>"
      ]
    },
    {
      "cell_type": "code",
      "source": [
        "from google.colab import drive\n",
        "drive.mount('/content/drive')"
      ],
      "metadata": {
        "colab": {
          "base_uri": "https://localhost:8080/"
        },
        "id": "kx29zQ7sBUvR",
        "outputId": "df0f7731-7140-4a5b-e85a-abc2d8f73b74"
      },
      "id": "kx29zQ7sBUvR",
      "execution_count": 1,
      "outputs": [
        {
          "output_type": "stream",
          "name": "stdout",
          "text": [
            "Mounted at /content/drive\n"
          ]
        }
      ]
    },
    {
      "cell_type": "code",
      "execution_count": 2,
      "id": "38519d5e",
      "metadata": {
        "id": "38519d5e"
      },
      "outputs": [],
      "source": [
        "import pandas as pd\n",
        "import numpy as np\n",
        "import matplotlib.pyplot as plt\n",
        "\n",
        "from sklearn.model_selection import train_test_split\n",
        "\n",
        "import tensorflow as tf\n",
        "from tensorflow.keras import layers\n",
        "from tensorflow.keras.models import Model\n",
        "from tensorflow.keras.layers import Input, Embedding, Dot, Add, Flatten\n",
        "from tensorflow.keras.regularizers import l2\n",
        "from tensorflow.keras.optimizers import SGD, Adamax\n"
      ]
    },
    {
      "cell_type": "code",
      "execution_count": 3,
      "id": "da319540",
      "metadata": {
        "colab": {
          "base_uri": "https://localhost:8080/",
          "height": 225
        },
        "id": "da319540",
        "outputId": "bd229a57-9c72-46c0-ec07-253e4993773a"
      },
      "outputs": [
        {
          "output_type": "stream",
          "name": "stdout",
          "text": [
            "(100000, 4)\n"
          ]
        },
        {
          "output_type": "execute_result",
          "data": {
            "text/plain": [
              "   user_id  movie_id  rating  timestamp\n",
              "0      196       242       3  881250949\n",
              "1      186       302       3  891717742\n",
              "2       22       377       1  878887116\n",
              "3      244        51       2  880606923\n",
              "4      166       346       1  886397596"
            ],
            "text/html": [
              "\n",
              "  <div id=\"df-680961e4-df10-446a-83fe-b05617c6874c\">\n",
              "    <div class=\"colab-df-container\">\n",
              "      <div>\n",
              "<style scoped>\n",
              "    .dataframe tbody tr th:only-of-type {\n",
              "        vertical-align: middle;\n",
              "    }\n",
              "\n",
              "    .dataframe tbody tr th {\n",
              "        vertical-align: top;\n",
              "    }\n",
              "\n",
              "    .dataframe thead th {\n",
              "        text-align: right;\n",
              "    }\n",
              "</style>\n",
              "<table border=\"1\" class=\"dataframe\">\n",
              "  <thead>\n",
              "    <tr style=\"text-align: right;\">\n",
              "      <th></th>\n",
              "      <th>user_id</th>\n",
              "      <th>movie_id</th>\n",
              "      <th>rating</th>\n",
              "      <th>timestamp</th>\n",
              "    </tr>\n",
              "  </thead>\n",
              "  <tbody>\n",
              "    <tr>\n",
              "      <th>0</th>\n",
              "      <td>196</td>\n",
              "      <td>242</td>\n",
              "      <td>3</td>\n",
              "      <td>881250949</td>\n",
              "    </tr>\n",
              "    <tr>\n",
              "      <th>1</th>\n",
              "      <td>186</td>\n",
              "      <td>302</td>\n",
              "      <td>3</td>\n",
              "      <td>891717742</td>\n",
              "    </tr>\n",
              "    <tr>\n",
              "      <th>2</th>\n",
              "      <td>22</td>\n",
              "      <td>377</td>\n",
              "      <td>1</td>\n",
              "      <td>878887116</td>\n",
              "    </tr>\n",
              "    <tr>\n",
              "      <th>3</th>\n",
              "      <td>244</td>\n",
              "      <td>51</td>\n",
              "      <td>2</td>\n",
              "      <td>880606923</td>\n",
              "    </tr>\n",
              "    <tr>\n",
              "      <th>4</th>\n",
              "      <td>166</td>\n",
              "      <td>346</td>\n",
              "      <td>1</td>\n",
              "      <td>886397596</td>\n",
              "    </tr>\n",
              "  </tbody>\n",
              "</table>\n",
              "</div>\n",
              "      <button class=\"colab-df-convert\" onclick=\"convertToInteractive('df-680961e4-df10-446a-83fe-b05617c6874c')\"\n",
              "              title=\"Convert this dataframe to an interactive table.\"\n",
              "              style=\"display:none;\">\n",
              "        \n",
              "  <svg xmlns=\"http://www.w3.org/2000/svg\" height=\"24px\"viewBox=\"0 0 24 24\"\n",
              "       width=\"24px\">\n",
              "    <path d=\"M0 0h24v24H0V0z\" fill=\"none\"/>\n",
              "    <path d=\"M18.56 5.44l.94 2.06.94-2.06 2.06-.94-2.06-.94-.94-2.06-.94 2.06-2.06.94zm-11 1L8.5 8.5l.94-2.06 2.06-.94-2.06-.94L8.5 2.5l-.94 2.06-2.06.94zm10 10l.94 2.06.94-2.06 2.06-.94-2.06-.94-.94-2.06-.94 2.06-2.06.94z\"/><path d=\"M17.41 7.96l-1.37-1.37c-.4-.4-.92-.59-1.43-.59-.52 0-1.04.2-1.43.59L10.3 9.45l-7.72 7.72c-.78.78-.78 2.05 0 2.83L4 21.41c.39.39.9.59 1.41.59.51 0 1.02-.2 1.41-.59l7.78-7.78 2.81-2.81c.8-.78.8-2.07 0-2.86zM5.41 20L4 18.59l7.72-7.72 1.47 1.35L5.41 20z\"/>\n",
              "  </svg>\n",
              "      </button>\n",
              "      \n",
              "  <style>\n",
              "    .colab-df-container {\n",
              "      display:flex;\n",
              "      flex-wrap:wrap;\n",
              "      gap: 12px;\n",
              "    }\n",
              "\n",
              "    .colab-df-convert {\n",
              "      background-color: #E8F0FE;\n",
              "      border: none;\n",
              "      border-radius: 50%;\n",
              "      cursor: pointer;\n",
              "      display: none;\n",
              "      fill: #1967D2;\n",
              "      height: 32px;\n",
              "      padding: 0 0 0 0;\n",
              "      width: 32px;\n",
              "    }\n",
              "\n",
              "    .colab-df-convert:hover {\n",
              "      background-color: #E2EBFA;\n",
              "      box-shadow: 0px 1px 2px rgba(60, 64, 67, 0.3), 0px 1px 3px 1px rgba(60, 64, 67, 0.15);\n",
              "      fill: #174EA6;\n",
              "    }\n",
              "\n",
              "    [theme=dark] .colab-df-convert {\n",
              "      background-color: #3B4455;\n",
              "      fill: #D2E3FC;\n",
              "    }\n",
              "\n",
              "    [theme=dark] .colab-df-convert:hover {\n",
              "      background-color: #434B5C;\n",
              "      box-shadow: 0px 1px 3px 1px rgba(0, 0, 0, 0.15);\n",
              "      filter: drop-shadow(0px 1px 2px rgba(0, 0, 0, 0.3));\n",
              "      fill: #FFFFFF;\n",
              "    }\n",
              "  </style>\n",
              "\n",
              "      <script>\n",
              "        const buttonEl =\n",
              "          document.querySelector('#df-680961e4-df10-446a-83fe-b05617c6874c button.colab-df-convert');\n",
              "        buttonEl.style.display =\n",
              "          google.colab.kernel.accessAllowed ? 'block' : 'none';\n",
              "\n",
              "        async function convertToInteractive(key) {\n",
              "          const element = document.querySelector('#df-680961e4-df10-446a-83fe-b05617c6874c');\n",
              "          const dataTable =\n",
              "            await google.colab.kernel.invokeFunction('convertToInteractive',\n",
              "                                                     [key], {});\n",
              "          if (!dataTable) return;\n",
              "\n",
              "          const docLinkHtml = 'Like what you see? Visit the ' +\n",
              "            '<a target=\"_blank\" href=https://colab.research.google.com/notebooks/data_table.ipynb>data table notebook</a>'\n",
              "            + ' to learn more about interactive tables.';\n",
              "          element.innerHTML = '';\n",
              "          dataTable['output_type'] = 'display_data';\n",
              "          await google.colab.output.renderOutput(dataTable, element);\n",
              "          const docLink = document.createElement('div');\n",
              "          docLink.innerHTML = docLinkHtml;\n",
              "          element.appendChild(docLink);\n",
              "        }\n",
              "      </script>\n",
              "    </div>\n",
              "  </div>\n",
              "  "
            ]
          },
          "metadata": {},
          "execution_count": 3
        }
      ],
      "source": [
        "# DataFrame 형태로 데이터를 읽어온다.\n",
        "r_cols = ['user_id', 'movie_id', 'rating', 'timestamp']\n",
        "\n",
        "# 유저-영화 평점 데이터 \"u.data\" 로드\n",
        "ratings = pd.read_csv('/content/drive/MyDrive/Colab Notebooks/DeepLearning/RS/data/u.data', \n",
        "                     names=r_cols,\n",
        "                      sep='\\t',\n",
        "                      encoding='latin-1'\n",
        "                     )\n",
        "print(ratings.shape)\n",
        "ratings.head()"
      ]
    },
    {
      "cell_type": "code",
      "execution_count": 4,
      "id": "cfdc0831",
      "metadata": {
        "id": "cfdc0831"
      },
      "outputs": [],
      "source": [
        "# 학습, 테스트 구분하기\n",
        "ratings_train, ratings_test = train_test_split(ratings,\n",
        "                                              test_size=0.2,\n",
        "                                              shuffle=True,\n",
        "                                              random_state=2022)"
      ]
    },
    {
      "cell_type": "code",
      "execution_count": 5,
      "id": "a4e81832",
      "metadata": {
        "id": "a4e81832"
      },
      "outputs": [],
      "source": [
        "# 추천 시스템 metric : RMSE (keras에는 RMSE 메소드가 없어서 만들어줘야 함)\n",
        "def RMSE(y_true, y_pred):\n",
        "    return tf.sqrt(tf.reduce_mean(tf.square(y_true - y_pred)))"
      ]
    },
    {
      "cell_type": "code",
      "execution_count": 6,
      "id": "4c1f0fdc",
      "metadata": {
        "id": "4c1f0fdc"
      },
      "outputs": [],
      "source": [
        "# 잠재 요인 수\n",
        "K = 200\n",
        "\n",
        "# 전체 평점 평균\n",
        "mu = ratings_train.rating.mean()  # b\n",
        "\n",
        "# 사용자id, 영화id의 최대값을 구한다.(bias term을 고려하여 +1을 해준다)\n",
        "M = ratings.user_id.max() + 1\n",
        "N = ratings.movie_id.max() + 1"
      ]
    },
    {
      "cell_type": "code",
      "execution_count": 7,
      "id": "585a871e",
      "metadata": {
        "colab": {
          "base_uri": "https://localhost:8080/"
        },
        "id": "585a871e",
        "outputId": "4735e8ab-5ea0-48e2-cc66-929c87adf4c9"
      },
      "outputs": [
        {
          "output_type": "stream",
          "name": "stdout",
          "text": [
            "사용자 개수 max값: 944\n",
            "아이템 개수 max값: 1683\n"
          ]
        }
      ],
      "source": [
        "print('사용자 개수 max값:', M)\n",
        "print('아이템 개수 max값:', N)"
      ]
    },
    {
      "cell_type": "markdown",
      "id": "1c9ca2d9",
      "metadata": {
        "id": "1c9ca2d9"
      },
      "source": [
        "# 케라스 모델 생성"
      ]
    },
    {
      "cell_type": "code",
      "execution_count": 8,
      "id": "74dfc1b0",
      "metadata": {
        "id": "74dfc1b0"
      },
      "outputs": [],
      "source": [
        "user = Input(shape=(1, ))\n",
        "item = Input(shape=(1, ))\n",
        "\n",
        "# P,Q 임베딩 \n",
        "P_embedding = Embedding(M, K, embeddings_regularizer=l2())(user)\n",
        "Q_embedding = Embedding(N, K, embeddings_regularizer=l2())(item)\n",
        "\n",
        "# 사용자, 아이템 평가 경향(bias)\n",
        "user_bias = Embedding(M, 1, embeddings_regularizer=l2())(user)\n",
        "item_bias = Embedding(N, 1, embeddings_regularizer=l2())(item)"
      ]
    },
    {
      "cell_type": "code",
      "execution_count": 9,
      "id": "df6005ef",
      "metadata": {
        "colab": {
          "base_uri": "https://localhost:8080/"
        },
        "id": "df6005ef",
        "outputId": "5cbdf443-b9ac-468b-fd6d-1eb9b077823c"
      },
      "outputs": [
        {
          "output_type": "stream",
          "name": "stdout",
          "text": [
            "Model: \"model\"\n",
            "__________________________________________________________________________________________________\n",
            " Layer (type)                   Output Shape         Param #     Connected to                     \n",
            "==================================================================================================\n",
            " input_1 (InputLayer)           [(None, 1)]          0           []                               \n",
            "                                                                                                  \n",
            " input_2 (InputLayer)           [(None, 1)]          0           []                               \n",
            "                                                                                                  \n",
            " embedding (Embedding)          (None, 1, 200)       188800      ['input_1[0][0]']                \n",
            "                                                                                                  \n",
            " embedding_1 (Embedding)        (None, 1, 200)       336600      ['input_2[0][0]']                \n",
            "                                                                                                  \n",
            " dot (Dot)                      (None, 1, 1)         0           ['embedding[0][0]',              \n",
            "                                                                  'embedding_1[0][0]']            \n",
            "                                                                                                  \n",
            " embedding_2 (Embedding)        (None, 1, 1)         944         ['input_1[0][0]']                \n",
            "                                                                                                  \n",
            " embedding_3 (Embedding)        (None, 1, 1)         1683        ['input_2[0][0]']                \n",
            "                                                                                                  \n",
            " add (Add)                      (None, 1, 1)         0           ['dot[0][0]',                    \n",
            "                                                                  'embedding_2[0][0]',            \n",
            "                                                                  'embedding_3[0][0]']            \n",
            "                                                                                                  \n",
            " flatten (Flatten)              (None, 1)            0           ['add[0][0]']                    \n",
            "                                                                                                  \n",
            "==================================================================================================\n",
            "Total params: 528,027\n",
            "Trainable params: 528,027\n",
            "Non-trainable params: 0\n",
            "__________________________________________________________________________________________________\n"
          ]
        }
      ],
      "source": [
        "# 사용자 임베딩과 아이템 임베딩 간 dot product\n",
        "R = layers.dot([P_embedding, Q_embedding], axes=(2, 2))  # 2번째 축(K)끼리 연산을 하겠다.\n",
        "R = layers.add([R, user_bias, item_bias])\n",
        "R = Flatten()(R)\n",
        "\n",
        "model = Model(inputs=[user, item], outputs=R)\n",
        "\n",
        "# 컴파일(환경구성)\n",
        "model.compile(\n",
        "    loss = RMSE, \n",
        "    optimizer = SGD(),\n",
        "    metrics = [RMSE]\n",
        ")\n",
        "\n",
        "model.summary()\n",
        "# 사용자 수가 944, 잠재요인 수가 200 -> 944x200 = 188800"
      ]
    },
    {
      "cell_type": "code",
      "execution_count": 10,
      "id": "3308bf90",
      "metadata": {
        "scrolled": true,
        "colab": {
          "base_uri": "https://localhost:8080/"
        },
        "id": "3308bf90",
        "outputId": "e9f51e54-f963-4840-cede-83e1afeb0092"
      },
      "outputs": [
        {
          "output_type": "stream",
          "name": "stdout",
          "text": [
            "Epoch 1/100\n",
            "313/313 [==============================] - 3s 8ms/step - loss: 5.2603 - RMSE: 1.1258 - val_loss: 5.0027 - val_RMSE: 1.1216\n",
            "Epoch 2/100\n",
            "313/313 [==============================] - 3s 9ms/step - loss: 4.7715 - RMSE: 1.1236 - val_loss: 4.5441 - val_RMSE: 1.1195\n",
            "Epoch 3/100\n",
            "313/313 [==============================] - 3s 8ms/step - loss: 4.3403 - RMSE: 1.1217 - val_loss: 4.1394 - val_RMSE: 1.1176\n",
            "Epoch 4/100\n",
            "313/313 [==============================] - 5s 15ms/step - loss: 3.9598 - RMSE: 1.1198 - val_loss: 3.7825 - val_RMSE: 1.1158\n",
            "Epoch 5/100\n",
            "313/313 [==============================] - 2s 7ms/step - loss: 3.6243 - RMSE: 1.1182 - val_loss: 3.4675 - val_RMSE: 1.1142\n",
            "Epoch 6/100\n",
            "313/313 [==============================] - 3s 8ms/step - loss: 3.3281 - RMSE: 1.1165 - val_loss: 3.1897 - val_RMSE: 1.1127\n",
            "Epoch 7/100\n",
            "313/313 [==============================] - 2s 8ms/step - loss: 3.0668 - RMSE: 1.1150 - val_loss: 2.9446 - val_RMSE: 1.1113\n",
            "Epoch 8/100\n",
            "313/313 [==============================] - 3s 9ms/step - loss: 2.8364 - RMSE: 1.1138 - val_loss: 2.7283 - val_RMSE: 1.1100\n",
            "Epoch 9/100\n",
            "313/313 [==============================] - 2s 7ms/step - loss: 2.6331 - RMSE: 1.1125 - val_loss: 2.5375 - val_RMSE: 1.1088\n",
            "Epoch 10/100\n",
            "313/313 [==============================] - 3s 9ms/step - loss: 2.4537 - RMSE: 1.1112 - val_loss: 2.3692 - val_RMSE: 1.1077\n",
            "Epoch 11/100\n",
            "313/313 [==============================] - 3s 8ms/step - loss: 2.2956 - RMSE: 1.1101 - val_loss: 2.2207 - val_RMSE: 1.1067\n",
            "Epoch 12/100\n",
            "313/313 [==============================] - 3s 9ms/step - loss: 2.1559 - RMSE: 1.1092 - val_loss: 2.0897 - val_RMSE: 1.1057\n",
            "Epoch 13/100\n",
            "313/313 [==============================] - 2s 7ms/step - loss: 2.0327 - RMSE: 1.1081 - val_loss: 1.9742 - val_RMSE: 1.1049\n",
            "Epoch 14/100\n",
            "313/313 [==============================] - 3s 9ms/step - loss: 1.9241 - RMSE: 1.1076 - val_loss: 1.8722 - val_RMSE: 1.1040\n",
            "Epoch 15/100\n",
            "313/313 [==============================] - 2s 7ms/step - loss: 1.8282 - RMSE: 1.1066 - val_loss: 1.7822 - val_RMSE: 1.1033\n",
            "Epoch 16/100\n",
            "313/313 [==============================] - 2s 8ms/step - loss: 1.7437 - RMSE: 1.1060 - val_loss: 1.7029 - val_RMSE: 1.1026\n",
            "Epoch 17/100\n",
            "313/313 [==============================] - 2s 8ms/step - loss: 1.6690 - RMSE: 1.1053 - val_loss: 1.6329 - val_RMSE: 1.1019\n",
            "Epoch 18/100\n",
            "313/313 [==============================] - 2s 7ms/step - loss: 1.6031 - RMSE: 1.1045 - val_loss: 1.5711 - val_RMSE: 1.1013\n",
            "Epoch 19/100\n",
            "313/313 [==============================] - 3s 8ms/step - loss: 1.5450 - RMSE: 1.1038 - val_loss: 1.5166 - val_RMSE: 1.1008\n",
            "Epoch 20/100\n",
            "313/313 [==============================] - 3s 8ms/step - loss: 1.4938 - RMSE: 1.1033 - val_loss: 1.4685 - val_RMSE: 1.1003\n",
            "Epoch 21/100\n",
            "313/313 [==============================] - 2s 6ms/step - loss: 1.4486 - RMSE: 1.1030 - val_loss: 1.4261 - val_RMSE: 1.0998\n",
            "Epoch 22/100\n",
            "313/313 [==============================] - 4s 12ms/step - loss: 1.4087 - RMSE: 1.1024 - val_loss: 1.3887 - val_RMSE: 1.0993\n",
            "Epoch 23/100\n",
            "313/313 [==============================] - 2s 7ms/step - loss: 1.3735 - RMSE: 1.1020 - val_loss: 1.3556 - val_RMSE: 1.0989\n",
            "Epoch 24/100\n",
            "313/313 [==============================] - 2s 7ms/step - loss: 1.3424 - RMSE: 1.1014 - val_loss: 1.3265 - val_RMSE: 1.0985\n",
            "Epoch 25/100\n",
            "313/313 [==============================] - 3s 9ms/step - loss: 1.3152 - RMSE: 1.1014 - val_loss: 1.3008 - val_RMSE: 1.0982\n",
            "Epoch 26/100\n",
            "313/313 [==============================] - 3s 11ms/step - loss: 1.2909 - RMSE: 1.1008 - val_loss: 1.2781 - val_RMSE: 1.0979\n",
            "Epoch 27/100\n",
            "313/313 [==============================] - 3s 8ms/step - loss: 1.2696 - RMSE: 1.1004 - val_loss: 1.2581 - val_RMSE: 1.0975\n",
            "Epoch 28/100\n",
            "313/313 [==============================] - 2s 8ms/step - loss: 1.2508 - RMSE: 1.1002 - val_loss: 1.2405 - val_RMSE: 1.0973\n",
            "Epoch 29/100\n",
            "313/313 [==============================] - 2s 7ms/step - loss: 1.2343 - RMSE: 1.1000 - val_loss: 1.2249 - val_RMSE: 1.0970\n",
            "Epoch 30/100\n",
            "313/313 [==============================] - 3s 8ms/step - loss: 1.2195 - RMSE: 1.0997 - val_loss: 1.2112 - val_RMSE: 1.0967\n",
            "Epoch 31/100\n",
            "313/313 [==============================] - 3s 8ms/step - loss: 1.2067 - RMSE: 1.0995 - val_loss: 1.1991 - val_RMSE: 1.0965\n",
            "Epoch 32/100\n",
            "313/313 [==============================] - 2s 7ms/step - loss: 1.1953 - RMSE: 1.0990 - val_loss: 1.1884 - val_RMSE: 1.0963\n",
            "Epoch 33/100\n",
            "313/313 [==============================] - 2s 7ms/step - loss: 1.1853 - RMSE: 1.0990 - val_loss: 1.1789 - val_RMSE: 1.0961\n",
            "Epoch 34/100\n",
            "313/313 [==============================] - 2s 7ms/step - loss: 1.1764 - RMSE: 1.0987 - val_loss: 1.1706 - val_RMSE: 1.0959\n",
            "Epoch 35/100\n",
            "313/313 [==============================] - 3s 9ms/step - loss: 1.1684 - RMSE: 1.0985 - val_loss: 1.1633 - val_RMSE: 1.0957\n",
            "Epoch 36/100\n",
            "313/313 [==============================] - 3s 8ms/step - loss: 1.1616 - RMSE: 1.0983 - val_loss: 1.1568 - val_RMSE: 1.0956\n",
            "Epoch 37/100\n",
            "313/313 [==============================] - 2s 7ms/step - loss: 1.1554 - RMSE: 1.0981 - val_loss: 1.1511 - val_RMSE: 1.0954\n",
            "Epoch 38/100\n",
            "313/313 [==============================] - 2s 7ms/step - loss: 1.1502 - RMSE: 1.0981 - val_loss: 1.1460 - val_RMSE: 1.0953\n",
            "Epoch 39/100\n",
            "313/313 [==============================] - 2s 7ms/step - loss: 1.1454 - RMSE: 1.0979 - val_loss: 1.1416 - val_RMSE: 1.0951\n",
            "Epoch 40/100\n",
            "313/313 [==============================] - 2s 7ms/step - loss: 1.1412 - RMSE: 1.0978 - val_loss: 1.1377 - val_RMSE: 1.0950\n",
            "Epoch 41/100\n",
            "313/313 [==============================] - 3s 9ms/step - loss: 1.1376 - RMSE: 1.0978 - val_loss: 1.1342 - val_RMSE: 1.0949\n",
            "Epoch 42/100\n",
            "313/313 [==============================] - 2s 8ms/step - loss: 1.1343 - RMSE: 1.0976 - val_loss: 1.1311 - val_RMSE: 1.0948\n",
            "Epoch 43/100\n",
            "313/313 [==============================] - 3s 8ms/step - loss: 1.1313 - RMSE: 1.0972 - val_loss: 1.1284 - val_RMSE: 1.0947\n",
            "Epoch 44/100\n",
            "313/313 [==============================] - 3s 9ms/step - loss: 1.1289 - RMSE: 1.0975 - val_loss: 1.1261 - val_RMSE: 1.0946\n",
            "Epoch 45/100\n",
            "313/313 [==============================] - 2s 7ms/step - loss: 1.1265 - RMSE: 1.0972 - val_loss: 1.1240 - val_RMSE: 1.0945\n",
            "Epoch 46/100\n",
            "313/313 [==============================] - 3s 9ms/step - loss: 1.1246 - RMSE: 1.0970 - val_loss: 1.1221 - val_RMSE: 1.0944\n",
            "Epoch 47/100\n",
            "313/313 [==============================] - 3s 9ms/step - loss: 1.1228 - RMSE: 1.0971 - val_loss: 1.1205 - val_RMSE: 1.0944\n",
            "Epoch 48/100\n",
            "313/313 [==============================] - 2s 7ms/step - loss: 1.1213 - RMSE: 1.0970 - val_loss: 1.1190 - val_RMSE: 1.0943\n",
            "Epoch 49/100\n",
            "313/313 [==============================] - 2s 8ms/step - loss: 1.1200 - RMSE: 1.0970 - val_loss: 1.1178 - val_RMSE: 1.0942\n",
            "Epoch 50/100\n",
            "313/313 [==============================] - 2s 7ms/step - loss: 1.1189 - RMSE: 1.0970 - val_loss: 1.1166 - val_RMSE: 1.0942\n",
            "Epoch 51/100\n",
            "313/313 [==============================] - 2s 8ms/step - loss: 1.1177 - RMSE: 1.0966 - val_loss: 1.1157 - val_RMSE: 1.0941\n",
            "Epoch 52/100\n",
            "313/313 [==============================] - 2s 7ms/step - loss: 1.1169 - RMSE: 1.0968 - val_loss: 1.1148 - val_RMSE: 1.0941\n",
            "Epoch 53/100\n",
            "313/313 [==============================] - 3s 9ms/step - loss: 1.1160 - RMSE: 1.0968 - val_loss: 1.1140 - val_RMSE: 1.0940\n",
            "Epoch 54/100\n",
            "313/313 [==============================] - 2s 8ms/step - loss: 1.1153 - RMSE: 1.0968 - val_loss: 1.1133 - val_RMSE: 1.0940\n",
            "Epoch 55/100\n",
            "313/313 [==============================] - 2s 7ms/step - loss: 1.1145 - RMSE: 1.0966 - val_loss: 1.1127 - val_RMSE: 1.0939\n",
            "Epoch 56/100\n",
            "313/313 [==============================] - 3s 8ms/step - loss: 1.1141 - RMSE: 1.0968 - val_loss: 1.1122 - val_RMSE: 1.0939\n",
            "Epoch 57/100\n",
            "313/313 [==============================] - 2s 7ms/step - loss: 1.1136 - RMSE: 1.0966 - val_loss: 1.1117 - val_RMSE: 1.0938\n",
            "Epoch 58/100\n",
            "313/313 [==============================] - 2s 7ms/step - loss: 1.1131 - RMSE: 1.0966 - val_loss: 1.1113 - val_RMSE: 1.0938\n",
            "Epoch 59/100\n",
            "313/313 [==============================] - 3s 9ms/step - loss: 1.1128 - RMSE: 1.0966 - val_loss: 1.1110 - val_RMSE: 1.0938\n",
            "Epoch 60/100\n",
            "313/313 [==============================] - 3s 9ms/step - loss: 1.1125 - RMSE: 1.0967 - val_loss: 1.1106 - val_RMSE: 1.0937\n",
            "Epoch 61/100\n",
            "313/313 [==============================] - 3s 9ms/step - loss: 1.1121 - RMSE: 1.0964 - val_loss: 1.1104 - val_RMSE: 1.0937\n",
            "Epoch 62/100\n",
            "313/313 [==============================] - 4s 13ms/step - loss: 1.1119 - RMSE: 1.0964 - val_loss: 1.1101 - val_RMSE: 1.0937\n",
            "Epoch 63/100\n",
            "313/313 [==============================] - 3s 8ms/step - loss: 1.1115 - RMSE: 1.0963 - val_loss: 1.1099 - val_RMSE: 1.0937\n",
            "Epoch 64/100\n",
            "313/313 [==============================] - 2s 7ms/step - loss: 1.1114 - RMSE: 1.0964 - val_loss: 1.1097 - val_RMSE: 1.0936\n",
            "Epoch 65/100\n",
            "313/313 [==============================] - 3s 9ms/step - loss: 1.1111 - RMSE: 1.0963 - val_loss: 1.1095 - val_RMSE: 1.0936\n",
            "Epoch 66/100\n",
            "313/313 [==============================] - 2s 8ms/step - loss: 1.1110 - RMSE: 1.0964 - val_loss: 1.1094 - val_RMSE: 1.0936\n",
            "Epoch 67/100\n",
            "313/313 [==============================] - 2s 8ms/step - loss: 1.1108 - RMSE: 1.0962 - val_loss: 1.1092 - val_RMSE: 1.0936\n",
            "Epoch 68/100\n",
            "313/313 [==============================] - 2s 8ms/step - loss: 1.1108 - RMSE: 1.0964 - val_loss: 1.1091 - val_RMSE: 1.0936\n",
            "Epoch 69/100\n",
            "313/313 [==============================] - 3s 9ms/step - loss: 1.1107 - RMSE: 1.0963 - val_loss: 1.1090 - val_RMSE: 1.0935\n",
            "Epoch 70/100\n",
            "313/313 [==============================] - 2s 7ms/step - loss: 1.1106 - RMSE: 1.0964 - val_loss: 1.1089 - val_RMSE: 1.0935\n",
            "Epoch 71/100\n",
            "313/313 [==============================] - 2s 7ms/step - loss: 1.1104 - RMSE: 1.0961 - val_loss: 1.1088 - val_RMSE: 1.0935\n",
            "Epoch 72/100\n",
            "313/313 [==============================] - 3s 9ms/step - loss: 1.1104 - RMSE: 1.0964 - val_loss: 1.1088 - val_RMSE: 1.0935\n",
            "Epoch 73/100\n",
            "313/313 [==============================] - 2s 8ms/step - loss: 1.1104 - RMSE: 1.0962 - val_loss: 1.1087 - val_RMSE: 1.0935\n",
            "Epoch 74/100\n",
            "313/313 [==============================] - 3s 9ms/step - loss: 1.1103 - RMSE: 1.0961 - val_loss: 1.1087 - val_RMSE: 1.0935\n",
            "Epoch 75/100\n",
            "313/313 [==============================] - 3s 9ms/step - loss: 1.1102 - RMSE: 1.0962 - val_loss: 1.1086 - val_RMSE: 1.0935\n",
            "Epoch 76/100\n",
            "313/313 [==============================] - 3s 9ms/step - loss: 1.1103 - RMSE: 1.0964 - val_loss: 1.1086 - val_RMSE: 1.0935\n",
            "Epoch 77/100\n",
            "313/313 [==============================] - 3s 8ms/step - loss: 1.1101 - RMSE: 1.0961 - val_loss: 1.1085 - val_RMSE: 1.0935\n",
            "Epoch 78/100\n",
            "313/313 [==============================] - 3s 9ms/step - loss: 1.1102 - RMSE: 1.0962 - val_loss: 1.1085 - val_RMSE: 1.0934\n",
            "Epoch 79/100\n",
            "313/313 [==============================] - 3s 9ms/step - loss: 1.1101 - RMSE: 1.0962 - val_loss: 1.1085 - val_RMSE: 1.0934\n",
            "Epoch 80/100\n",
            "313/313 [==============================] - 2s 7ms/step - loss: 1.1100 - RMSE: 1.0961 - val_loss: 1.1084 - val_RMSE: 1.0934\n",
            "Epoch 81/100\n",
            "313/313 [==============================] - 3s 9ms/step - loss: 1.1099 - RMSE: 1.0960 - val_loss: 1.1084 - val_RMSE: 1.0934\n",
            "Epoch 82/100\n",
            "313/313 [==============================] - 2s 7ms/step - loss: 1.1101 - RMSE: 1.0962 - val_loss: 1.1084 - val_RMSE: 1.0934\n",
            "Epoch 83/100\n",
            "313/313 [==============================] - 2s 8ms/step - loss: 1.1100 - RMSE: 1.0962 - val_loss: 1.1084 - val_RMSE: 1.0934\n",
            "Epoch 84/100\n",
            "313/313 [==============================] - 2s 6ms/step - loss: 1.1099 - RMSE: 1.0960 - val_loss: 1.1084 - val_RMSE: 1.0934\n",
            "Epoch 85/100\n",
            "313/313 [==============================] - 2s 8ms/step - loss: 1.1101 - RMSE: 1.0964 - val_loss: 1.1083 - val_RMSE: 1.0934\n",
            "Epoch 86/100\n",
            "313/313 [==============================] - 2s 8ms/step - loss: 1.1100 - RMSE: 1.0962 - val_loss: 1.1083 - val_RMSE: 1.0934\n",
            "Epoch 87/100\n",
            "313/313 [==============================] - 3s 8ms/step - loss: 1.1101 - RMSE: 1.0964 - val_loss: 1.1083 - val_RMSE: 1.0934\n",
            "Epoch 88/100\n",
            "313/313 [==============================] - 2s 8ms/step - loss: 1.1100 - RMSE: 1.0962 - val_loss: 1.1083 - val_RMSE: 1.0934\n",
            "Epoch 89/100\n",
            "313/313 [==============================] - 3s 9ms/step - loss: 1.1100 - RMSE: 1.0964 - val_loss: 1.1083 - val_RMSE: 1.0934\n",
            "Epoch 90/100\n",
            "313/313 [==============================] - 4s 13ms/step - loss: 1.1099 - RMSE: 1.0960 - val_loss: 1.1083 - val_RMSE: 1.0934\n",
            "Epoch 91/100\n",
            "313/313 [==============================] - 4s 14ms/step - loss: 1.1098 - RMSE: 1.0961 - val_loss: 1.1083 - val_RMSE: 1.0934\n",
            "Epoch 92/100\n",
            "313/313 [==============================] - 5s 16ms/step - loss: 1.1099 - RMSE: 1.0960 - val_loss: 1.1083 - val_RMSE: 1.0934\n",
            "Epoch 93/100\n",
            "313/313 [==============================] - 3s 9ms/step - loss: 1.1099 - RMSE: 1.0964 - val_loss: 1.1083 - val_RMSE: 1.0934\n",
            "Epoch 94/100\n",
            "313/313 [==============================] - 2s 7ms/step - loss: 1.1098 - RMSE: 1.0961 - val_loss: 1.1083 - val_RMSE: 1.0934\n",
            "Epoch 95/100\n",
            "313/313 [==============================] - 3s 8ms/step - loss: 1.1099 - RMSE: 1.0961 - val_loss: 1.1083 - val_RMSE: 1.0934\n",
            "Epoch 96/100\n",
            "313/313 [==============================] - 3s 10ms/step - loss: 1.1099 - RMSE: 1.0960 - val_loss: 1.1083 - val_RMSE: 1.0934\n",
            "Epoch 97/100\n",
            "313/313 [==============================] - 2s 8ms/step - loss: 1.1099 - RMSE: 1.0961 - val_loss: 1.1083 - val_RMSE: 1.0934\n",
            "Epoch 98/100\n",
            "313/313 [==============================] - 2s 7ms/step - loss: 1.1097 - RMSE: 1.0958 - val_loss: 1.1083 - val_RMSE: 1.0934\n",
            "Epoch 99/100\n",
            "313/313 [==============================] - 3s 10ms/step - loss: 1.1099 - RMSE: 1.0960 - val_loss: 1.1083 - val_RMSE: 1.0934\n",
            "Epoch 100/100\n",
            "313/313 [==============================] - 3s 9ms/step - loss: 1.1099 - RMSE: 1.0960 - val_loss: 1.1083 - val_RMSE: 1.0934\n",
            "CPU times: user 5min 23s, sys: 29.4 s, total: 5min 52s\n",
            "Wall time: 5min 23s\n"
          ]
        }
      ],
      "source": [
        "%%time\n",
        "result = model.fit(\n",
        "    # x데이터, y데이터 지정\n",
        "    x = [ratings_train.user_id.values, \n",
        "        ratings_train.movie_id.values, \n",
        "        ], \n",
        "\n",
        "    y = ratings_train.rating.values - mu,\n",
        "    \n",
        "    epochs = 100,  # 전체 데이터를 학습하는 횟수\n",
        "    batch_size = 256,  # 한 번에 몇 개씩 데이터를 학습할지\n",
        "    \n",
        "    # 검증 데이터 지정\n",
        "    validation_data = (\n",
        "        [ratings_test.user_id.values, \n",
        "         ratings_test.movie_id.values], \n",
        "         ratings_test.rating.values - mu\n",
        "    )\n",
        ")\n"
      ]
    },
    {
      "cell_type": "code",
      "execution_count": 11,
      "id": "99a3f1a5",
      "metadata": {
        "colab": {
          "base_uri": "https://localhost:8080/",
          "height": 265
        },
        "id": "99a3f1a5",
        "outputId": "919343a3-4ab5-41aa-8834-2d1b09f913db"
      },
      "outputs": [
        {
          "output_type": "display_data",
          "data": {
            "text/plain": [
              "<Figure size 432x288 with 1 Axes>"
            ],
            "image/png": "[encoded data removed]"
          },
          "metadata": {
            "needs_background": "light"
          }
        }
      ],
      "source": [
        "# 학습 과정 시각화\n",
        "plt.plot(result.history['RMSE'], label=\"Train RMSE\")\n",
        "plt.plot(result.history['val_RMSE'], label=\"Test RMSE\")\n",
        "plt.legend()\n",
        "plt.show()"
      ]
    },
    {
      "cell_type": "code",
      "execution_count": 12,
      "id": "1f9e02cf",
      "metadata": {
        "colab": {
          "base_uri": "https://localhost:8080/"
        },
        "id": "1f9e02cf",
        "outputId": "f580880d-8e29-420b-d823-48fd0e3c5e2e"
      },
      "outputs": [
        {
          "output_type": "stream",
          "name": "stdout",
          "text": [
            "625/625 [==============================] - 1s 2ms/step\n",
            "[[3.5680318]\n",
            " [3.4998996]\n",
            " [3.5280447]\n",
            " [3.5736787]\n",
            " [3.5784693]\n",
            " [3.4880881]\n",
            " [3.529723 ]\n",
            " [3.6062715]\n",
            " [3.5720837]\n",
            " [3.5582204]\n",
            " [3.4901814]\n",
            " [3.5287516]\n",
            " [3.492248 ]\n",
            " [3.5116227]\n",
            " [3.527283 ]]\n"
          ]
        }
      ],
      "source": [
        "# 모델로 test 데이터 예측\n",
        "user_ids = ratings_test.user_id.values\n",
        "movie_ids = ratings_test.movie_id.values\n",
        "\n",
        "predictions = model.predict([user_ids, movie_ids]) + mu\n",
        "\n",
        "# 예측값들 확인\n",
        "print(predictions[:15])"
      ]
    },
    {
      "cell_type": "code",
      "execution_count": 13,
      "id": "ed3c93e7",
      "metadata": {
        "colab": {
          "base_uri": "https://localhost:8080/"
        },
        "id": "ed3c93e7",
        "outputId": "edb3b0b1-5359-42c5-afb8-b2659e1deafb"
      },
      "outputs": [
        {
          "output_type": "stream",
          "name": "stdout",
          "text": [
            "       user_id  movie_id  rating  timestamp\n",
            "59286      643       268       4  891450748\n",
            "71695      470       319       3  879178216\n",
            "70788      897       679       5  879991630\n",
            "48299      545       199       4  880347770\n",
            "16144      194       127       5  879520813\n",
            "67827      814       665       4  885411204\n",
            "59373      870       517       2  875680597\n",
            "32506      326       181       4  879875592\n",
            "48843      624       124       4  879792358\n",
            "3767       106       213       4  881453065\n",
            "10090      201       527       3  884111360\n",
            "24858      390       277       2  879694123\n",
            "43351      463       224       3  877385181\n",
            "49282      627        76       3  879530173\n",
            "11074      381       771       2  892696557\n"
          ]
        }
      ],
      "source": [
        "# 실제값\n",
        "print(ratings_test[:15])"
      ]
    },
    {
      "cell_type": "code",
      "execution_count": 14,
      "id": "648d7ccb",
      "metadata": {
        "id": "648d7ccb"
      },
      "outputs": [],
      "source": [
        "import numpy as np\n",
        "\n",
        "# 넘파이를 활용한 RMSE 함수\n",
        "def RMSE2(y_true, y_pred):\n",
        "    return np.sqrt(np.mean((np.array(y_true) - np.array(y_pred))**2))"
      ]
    },
    {
      "cell_type": "code",
      "execution_count": 15,
      "id": "0b4f523b",
      "metadata": {
        "colab": {
          "base_uri": "https://localhost:8080/"
        },
        "id": "0b4f523b",
        "outputId": "a47160d9-780d-496d-ebf8-0daf9e847071"
      },
      "outputs": [
        {
          "output_type": "execute_result",
          "data": {
            "text/plain": [
              "1.0954049892269277"
            ]
          },
          "metadata": {},
          "execution_count": 15
        }
      ],
      "source": [
        "# ravel : 1차원으로 변환\n",
        "y_pred = np.ravel(predictions, order='C')\n",
        "y_true = np.array(ratings_test.rating)\n",
        "\n",
        "RMSE2(y_true, y_pred)"
      ]
    },
    {
      "cell_type": "code",
      "execution_count": null,
      "id": "37ebe19d",
      "metadata": {
        "id": "37ebe19d"
      },
      "outputs": [],
      "source": []
    },
    {
      "cell_type": "code",
      "execution_count": null,
      "id": "86e8fb63",
      "metadata": {
        "id": "86e8fb63"
      },
      "outputs": [],
      "source": []
    },
    {
      "cell_type": "code",
      "execution_count": null,
      "id": "be6389f4",
      "metadata": {
        "id": "be6389f4"
      },
      "outputs": [],
      "source": []
    }
  ],
  "metadata": {
    "kernelspec": {
      "display_name": "Python 3",
      "language": "python",
      "name": "python3"
    },
    "language_info": {
      "codemirror_mode": {
        "name": "ipython",
        "version": 3
      },
      "file_extension": ".py",
      "mimetype": "text/x-python",
      "name": "python",
      "nbconvert_exporter": "python",
      "pygments_lexer": "ipython3",
      "version": "3.8.8"
    },
    "varInspector": {
      "cols": {
        "lenName": 16,
        "lenType": 16,
        "lenVar": 40
      },
      "kernels_config": {
        "python": {
          "delete_cmd_postfix": "",
          "delete_cmd_prefix": "del ",
          "library": "var_list.py",
          "varRefreshCmd": "print(var_dic_list())"
        },
        "r": {
          "delete_cmd_postfix": ") ",
          "delete_cmd_prefix": "rm(",
          "library": "var_list.r",
          "varRefreshCmd": "cat(var_dic_list()) "
        }
      },
      "types_to_exclude": [
        "module",
        "function",
        "builtin_function_or_method",
        "instance",
        "_Feature"
      ],
      "window_display": false
    },
    "colab": {
      "provenance": [],
      "include_colab_link": true
    }
  },
  "nbformat": 4,
  "nbformat_minor": 5
}