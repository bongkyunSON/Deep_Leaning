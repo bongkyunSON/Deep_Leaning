{
  "cells": [
    {
      "cell_type": "markdown",
      "metadata": {
        "id": "view-in-github",
        "colab_type": "text"
      },
      "source": [
        "<a href=\"https://colab.research.google.com/github/bongkyunSON/Deep_Leaning/blob/main/RS_Keras_%EC%83%81%ED%92%88%EC%B6%94%EC%B2%9C_221216.ipynb\" target=\"_parent\"><img src=\"https://colab.research.google.com/assets/colab-badge.svg\" alt=\"Open In Colab\"/></a>"
      ]
    },
    {
      "cell_type": "markdown",
      "id": "1959e3e1",
      "metadata": {
        "id": "1959e3e1"
      },
      "source": [
        "# 1. 사용자의 아이템 평점 데이터만을 활용해서 딥러닝 모델링\n"
      ]
    },
    {
      "cell_type": "code",
      "source": [
        "from google.colab import drive\n",
        "drive.mount('/content/drive')"
      ],
      "metadata": {
        "colab": {
          "base_uri": "https://localhost:8080/"
        },
        "id": "Zc0kBSBhGTWH",
        "outputId": "8cfee349-6041-449b-82a4-f317558b6f86"
      },
      "id": "Zc0kBSBhGTWH",
      "execution_count": 2,
      "outputs": [
        {
          "output_type": "stream",
          "name": "stdout",
          "text": [
            "Mounted at /content/drive\n"
          ]
        }
      ]
    },
    {
      "cell_type": "code",
      "execution_count": 1,
      "id": "6d72a64c",
      "metadata": {
        "id": "6d72a64c"
      },
      "outputs": [],
      "source": [
        "import pandas as pd\n",
        "import numpy as np\n",
        "import matplotlib.pyplot as plt\n",
        "\n",
        "from sklearn.model_selection import train_test_split\n",
        "\n",
        "import tensorflow as tf\n",
        "from tensorflow.keras import layers\n",
        "from tensorflow.keras.models import Model\n",
        "from tensorflow.keras.layers import Input, Embedding, Dot, Add, Flatten\n",
        "\n",
        "# 딥러닝 layer 관련\n",
        "from tensorflow.keras.layers import Dense, Concatenate, Activation\n",
        "from tensorflow.keras.regularizers import l2\n",
        "from tensorflow.keras.optimizers import SGD, Adamax"
      ]
    },
    {
      "cell_type": "code",
      "execution_count": 3,
      "id": "a7191957",
      "metadata": {
        "colab": {
          "base_uri": "https://localhost:8080/",
          "height": 225
        },
        "id": "a7191957",
        "outputId": "383ed4e5-92d8-4dac-888d-2ec9ce22da0e"
      },
      "outputs": [
        {
          "output_type": "stream",
          "name": "stdout",
          "text": [
            "(100000, 4)\n"
          ]
        },
        {
          "output_type": "execute_result",
          "data": {
            "text/plain": [
              "   user_id  movie_id  rating  timestamp\n",
              "0      196       242       3  881250949\n",
              "1      186       302       3  891717742\n",
              "2       22       377       1  878887116\n",
              "3      244        51       2  880606923\n",
              "4      166       346       1  886397596"
            ],
            "text/html": [
              "\n",
              "  <div id=\"df-498e5942-8376-46d9-8ae9-509386c93db5\">\n",
              "    <div class=\"colab-df-container\">\n",
              "      <div>\n",
              "<style scoped>\n",
              "    .dataframe tbody tr th:only-of-type {\n",
              "        vertical-align: middle;\n",
              "    }\n",
              "\n",
              "    .dataframe tbody tr th {\n",
              "        vertical-align: top;\n",
              "    }\n",
              "\n",
              "    .dataframe thead th {\n",
              "        text-align: right;\n",
              "    }\n",
              "</style>\n",
              "<table border=\"1\" class=\"dataframe\">\n",
              "  <thead>\n",
              "    <tr style=\"text-align: right;\">\n",
              "      <th></th>\n",
              "      <th>user_id</th>\n",
              "      <th>movie_id</th>\n",
              "      <th>rating</th>\n",
              "      <th>timestamp</th>\n",
              "    </tr>\n",
              "  </thead>\n",
              "  <tbody>\n",
              "    <tr>\n",
              "      <th>0</th>\n",
              "      <td>196</td>\n",
              "      <td>242</td>\n",
              "      <td>3</td>\n",
              "      <td>881250949</td>\n",
              "    </tr>\n",
              "    <tr>\n",
              "      <th>1</th>\n",
              "      <td>186</td>\n",
              "      <td>302</td>\n",
              "      <td>3</td>\n",
              "      <td>891717742</td>\n",
              "    </tr>\n",
              "    <tr>\n",
              "      <th>2</th>\n",
              "      <td>22</td>\n",
              "      <td>377</td>\n",
              "      <td>1</td>\n",
              "      <td>878887116</td>\n",
              "    </tr>\n",
              "    <tr>\n",
              "      <th>3</th>\n",
              "      <td>244</td>\n",
              "      <td>51</td>\n",
              "      <td>2</td>\n",
              "      <td>880606923</td>\n",
              "    </tr>\n",
              "    <tr>\n",
              "      <th>4</th>\n",
              "      <td>166</td>\n",
              "      <td>346</td>\n",
              "      <td>1</td>\n",
              "      <td>886397596</td>\n",
              "    </tr>\n",
              "  </tbody>\n",
              "</table>\n",
              "</div>\n",
              "      <button class=\"colab-df-convert\" onclick=\"convertToInteractive('df-498e5942-8376-46d9-8ae9-509386c93db5')\"\n",
              "              title=\"Convert this dataframe to an interactive table.\"\n",
              "              style=\"display:none;\">\n",
              "        \n",
              "  <svg xmlns=\"http://www.w3.org/2000/svg\" height=\"24px\"viewBox=\"0 0 24 24\"\n",
              "       width=\"24px\">\n",
              "    <path d=\"M0 0h24v24H0V0z\" fill=\"none\"/>\n",
              "    <path d=\"M18.56 5.44l.94 2.06.94-2.06 2.06-.94-2.06-.94-.94-2.06-.94 2.06-2.06.94zm-11 1L8.5 8.5l.94-2.06 2.06-.94-2.06-.94L8.5 2.5l-.94 2.06-2.06.94zm10 10l.94 2.06.94-2.06 2.06-.94-2.06-.94-.94-2.06-.94 2.06-2.06.94z\"/><path d=\"M17.41 7.96l-1.37-1.37c-.4-.4-.92-.59-1.43-.59-.52 0-1.04.2-1.43.59L10.3 9.45l-7.72 7.72c-.78.78-.78 2.05 0 2.83L4 21.41c.39.39.9.59 1.41.59.51 0 1.02-.2 1.41-.59l7.78-7.78 2.81-2.81c.8-.78.8-2.07 0-2.86zM5.41 20L4 18.59l7.72-7.72 1.47 1.35L5.41 20z\"/>\n",
              "  </svg>\n",
              "      </button>\n",
              "      \n",
              "  <style>\n",
              "    .colab-df-container {\n",
              "      display:flex;\n",
              "      flex-wrap:wrap;\n",
              "      gap: 12px;\n",
              "    }\n",
              "\n",
              "    .colab-df-convert {\n",
              "      background-color: #E8F0FE;\n",
              "      border: none;\n",
              "      border-radius: 50%;\n",
              "      cursor: pointer;\n",
              "      display: none;\n",
              "      fill: #1967D2;\n",
              "      height: 32px;\n",
              "      padding: 0 0 0 0;\n",
              "      width: 32px;\n",
              "    }\n",
              "\n",
              "    .colab-df-convert:hover {\n",
              "      background-color: #E2EBFA;\n",
              "      box-shadow: 0px 1px 2px rgba(60, 64, 67, 0.3), 0px 1px 3px 1px rgba(60, 64, 67, 0.15);\n",
              "      fill: #174EA6;\n",
              "    }\n",
              "\n",
              "    [theme=dark] .colab-df-convert {\n",
              "      background-color: #3B4455;\n",
              "      fill: #D2E3FC;\n",
              "    }\n",
              "\n",
              "    [theme=dark] .colab-df-convert:hover {\n",
              "      background-color: #434B5C;\n",
              "      box-shadow: 0px 1px 3px 1px rgba(0, 0, 0, 0.15);\n",
              "      filter: drop-shadow(0px 1px 2px rgba(0, 0, 0, 0.3));\n",
              "      fill: #FFFFFF;\n",
              "    }\n",
              "  </style>\n",
              "\n",
              "      <script>\n",
              "        const buttonEl =\n",
              "          document.querySelector('#df-498e5942-8376-46d9-8ae9-509386c93db5 button.colab-df-convert');\n",
              "        buttonEl.style.display =\n",
              "          google.colab.kernel.accessAllowed ? 'block' : 'none';\n",
              "\n",
              "        async function convertToInteractive(key) {\n",
              "          const element = document.querySelector('#df-498e5942-8376-46d9-8ae9-509386c93db5');\n",
              "          const dataTable =\n",
              "            await google.colab.kernel.invokeFunction('convertToInteractive',\n",
              "                                                     [key], {});\n",
              "          if (!dataTable) return;\n",
              "\n",
              "          const docLinkHtml = 'Like what you see? Visit the ' +\n",
              "            '<a target=\"_blank\" href=https://colab.research.google.com/notebooks/data_table.ipynb>data table notebook</a>'\n",
              "            + ' to learn more about interactive tables.';\n",
              "          element.innerHTML = '';\n",
              "          dataTable['output_type'] = 'display_data';\n",
              "          await google.colab.output.renderOutput(dataTable, element);\n",
              "          const docLink = document.createElement('div');\n",
              "          docLink.innerHTML = docLinkHtml;\n",
              "          element.appendChild(docLink);\n",
              "        }\n",
              "      </script>\n",
              "    </div>\n",
              "  </div>\n",
              "  "
            ]
          },
          "metadata": {},
          "execution_count": 3
        }
      ],
      "source": [
        "# DataFrame 형태로 데이터를 읽어온다.\n",
        "r_cols = ['user_id', 'movie_id', 'rating', 'timestamp']\n",
        "\n",
        "# 평점 데이터 \"u.data\" 가져오기\n",
        "ratings = pd.read_csv('/content/drive/MyDrive/Colab Notebooks/DeepLearning/RS/data/u.data', \n",
        "                     names=r_cols,\n",
        "                      sep='\\t',\n",
        "                      encoding='latin-1'\n",
        "                     )\n",
        "print(ratings.shape)\n",
        "ratings.head()"
      ]
    },
    {
      "cell_type": "code",
      "execution_count": 4,
      "id": "f3c65680",
      "metadata": {
        "id": "f3c65680"
      },
      "outputs": [],
      "source": [
        "# 학습,테스트 구분하기\n",
        "ratings_train, ratings_test = train_test_split(ratings,\n",
        "                                              test_size=0.2,\n",
        "                                              shuffle=True,\n",
        "                                              random_state=2022)"
      ]
    },
    {
      "cell_type": "code",
      "execution_count": 5,
      "id": "68f8d43b",
      "metadata": {
        "id": "68f8d43b"
      },
      "outputs": [],
      "source": [
        "# RMSE 함수 (keras에는 RMSE 메소드 없어서 만들어줘야 함)\n",
        "def RMSE(y_true, y_pred):\n",
        "    return tf.sqrt(tf.reduce_mean(tf.square(y_true - y_pred)))"
      ]
    },
    {
      "cell_type": "code",
      "execution_count": 6,
      "id": "cd4888e9",
      "metadata": {
        "id": "cd4888e9"
      },
      "outputs": [],
      "source": [
        "# 잠재 요인의 수 \n",
        "K=200\n",
        "\n",
        "# 전체 평점 평균\n",
        "mu = ratings_train.rating.mean()\n",
        "\n",
        "# 사용자id, 영화id의 최대값을 구한다.\n",
        "# bias term의 크기 1을 고려하여 +1을 해준다.\n",
        "M = ratings.user_id.max() + 1\n",
        "N = ratings.movie_id.max() + 1"
      ]
    },
    {
      "cell_type": "code",
      "execution_count": 7,
      "id": "e157b05c",
      "metadata": {
        "colab": {
          "base_uri": "https://localhost:8080/"
        },
        "id": "e157b05c",
        "outputId": "351c869b-4354-4b82-b840-2637b52a2b17"
      },
      "outputs": [
        {
          "output_type": "stream",
          "name": "stdout",
          "text": [
            "사용자 개수 max값: 944\n",
            "아이템 개수 max값: 1683\n"
          ]
        }
      ],
      "source": [
        "print('사용자 개수 max값:', M)\n",
        "print('아이템 개수 max값:', N)"
      ]
    },
    {
      "cell_type": "markdown",
      "id": "f9a81234",
      "metadata": {
        "id": "f9a81234"
      },
      "source": [
        "# 케라스 모델 생성"
      ]
    },
    {
      "cell_type": "code",
      "execution_count": 8,
      "id": "02fefc87",
      "metadata": {
        "id": "02fefc87"
      },
      "outputs": [],
      "source": [
        "user = Input(shape=(1, ))\n",
        "item = Input(shape=(1, ))\n",
        "\n",
        "# 행렬 P,Q 임베딩\n",
        "P_embedding = Embedding(M, K, embeddings_regularizer=l2())(user)\n",
        "Q_embedding = Embedding(N, K, embeddings_regularizer=l2())(item)\n",
        "\n",
        "# 사용자, 아이템 평가 경향도 임베딩\n",
        "user_bias = Embedding(M, 1, embeddings_regularizer=l2())(user)\n",
        "item_bias = Embedding(N, 1, embeddings_regularizer=l2())(item)"
      ]
    },
    {
      "cell_type": "code",
      "execution_count": 9,
      "id": "26481564",
      "metadata": {
        "id": "26481564"
      },
      "outputs": [],
      "source": [
        "# concatenate를 위해서는 1차원으로 Flatten해야 한다.\n",
        "P_embedding = Flatten()(P_embedding)\n",
        "Q_embedding = Flatten()(Q_embedding)\n",
        "\n",
        "user_bias = Flatten()(user_bias)\n",
        "item_bias = Flatten()(item_bias)\n",
        "\n",
        "R = Concatenate()([P_embedding, Q_embedding, user_bias, item_bias])"
      ]
    },
    {
      "cell_type": "code",
      "execution_count": 10,
      "id": "9add4fb0",
      "metadata": {
        "id": "9add4fb0"
      },
      "outputs": [],
      "source": [
        "# layer 쌓기\n",
        "\n",
        "# 노드가 2048개인 layer 생성.\n",
        "# 활성화 함수는 'linear'\n",
        "R = Dense(2048)(R)\n",
        "R = Activation('linear')(R)\n",
        "\n",
        "# 노드가 256개인 layer 추가\n",
        "R = Dense(256)(R)\n",
        "R = Activation('linear')(R)\n",
        "\n",
        "# 노드가 1개인 dense layer(출력층) 한 개 추가\n",
        "R = Dense(1)(R)"
      ]
    },
    {
      "cell_type": "code",
      "execution_count": 11,
      "id": "2ccf9da2",
      "metadata": {
        "scrolled": false,
        "colab": {
          "base_uri": "https://localhost:8080/"
        },
        "id": "2ccf9da2",
        "outputId": "75cb962a-fa52-41c2-ec22-14dd8f729e91"
      },
      "outputs": [
        {
          "output_type": "stream",
          "name": "stdout",
          "text": [
            "Model: \"model\"\n",
            "__________________________________________________________________________________________________\n",
            " Layer (type)                   Output Shape         Param #     Connected to                     \n",
            "==================================================================================================\n",
            " input_1 (InputLayer)           [(None, 1)]          0           []                               \n",
            "                                                                                                  \n",
            " input_2 (InputLayer)           [(None, 1)]          0           []                               \n",
            "                                                                                                  \n",
            " embedding (Embedding)          (None, 1, 200)       188800      ['input_1[0][0]']                \n",
            "                                                                                                  \n",
            " embedding_1 (Embedding)        (None, 1, 200)       336600      ['input_2[0][0]']                \n",
            "                                                                                                  \n",
            " embedding_2 (Embedding)        (None, 1, 1)         944         ['input_1[0][0]']                \n",
            "                                                                                                  \n",
            " embedding_3 (Embedding)        (None, 1, 1)         1683        ['input_2[0][0]']                \n",
            "                                                                                                  \n",
            " flatten (Flatten)              (None, 200)          0           ['embedding[0][0]']              \n",
            "                                                                                                  \n",
            " flatten_1 (Flatten)            (None, 200)          0           ['embedding_1[0][0]']            \n",
            "                                                                                                  \n",
            " flatten_2 (Flatten)            (None, 1)            0           ['embedding_2[0][0]']            \n",
            "                                                                                                  \n",
            " flatten_3 (Flatten)            (None, 1)            0           ['embedding_3[0][0]']            \n",
            "                                                                                                  \n",
            " concatenate (Concatenate)      (None, 402)          0           ['flatten[0][0]',                \n",
            "                                                                  'flatten_1[0][0]',              \n",
            "                                                                  'flatten_2[0][0]',              \n",
            "                                                                  'flatten_3[0][0]']              \n",
            "                                                                                                  \n",
            " dense (Dense)                  (None, 2048)         825344      ['concatenate[0][0]']            \n",
            "                                                                                                  \n",
            " activation (Activation)        (None, 2048)         0           ['dense[0][0]']                  \n",
            "                                                                                                  \n",
            " dense_1 (Dense)                (None, 256)          524544      ['activation[0][0]']             \n",
            "                                                                                                  \n",
            " activation_1 (Activation)      (None, 256)          0           ['dense_1[0][0]']                \n",
            "                                                                                                  \n",
            " dense_2 (Dense)                (None, 1)            257         ['activation_1[0][0]']           \n",
            "                                                                                                  \n",
            "==================================================================================================\n",
            "Total params: 1,878,172\n",
            "Trainable params: 1,878,172\n",
            "Non-trainable params: 0\n",
            "__________________________________________________________________________________________________\n"
          ]
        }
      ],
      "source": [
        "model = Model(inputs=[user, item], outputs=R)\n",
        "\n",
        "model.compile(\n",
        "    loss = RMSE,\n",
        "    optimizer = SGD(),  # adam, adamax\n",
        "    metrics= [RMSE]\n",
        ")\n",
        "\n",
        "model.summary()\n",
        "# 사용자 수가 944, 잠재요인 수가 200 -> 944x200 = 188800\n",
        "# concatenate를 위해 flatten"
      ]
    },
    {
      "cell_type": "code",
      "execution_count": 12,
      "id": "5e8adbc0",
      "metadata": {
        "id": "5e8adbc0"
      },
      "outputs": [],
      "source": [
        "# 학습 데이터 정의\n",
        "train_user_ids = ratings_train.user_id.values, \n",
        "train_movie_ids = ratings_train.movie_id.values\n",
        "train_ratings = ratings_train.rating.values\n",
        "\n",
        "# 테스트 데이터 정의\n",
        "test_user_ids = ratings_test.user_id.values, \n",
        "test_movie_ids = ratings_test.movie_id.values\n",
        "test_ratings = ratings_test.rating.values"
      ]
    },
    {
      "cell_type": "code",
      "execution_count": 13,
      "id": "04bab380",
      "metadata": {
        "scrolled": true,
        "colab": {
          "base_uri": "https://localhost:8080/"
        },
        "id": "04bab380",
        "outputId": "b17cff64-3056-4c28-b346-94ff96723218"
      },
      "outputs": [
        {
          "output_type": "stream",
          "name": "stdout",
          "text": [
            "Epoch 1/65\n",
            "157/157 [==============================] - 19s 113ms/step - loss: 5.3993 - RMSE: 1.1250 - val_loss: 5.2623 - val_RMSE: 1.1196\n",
            "Epoch 2/65\n",
            "157/157 [==============================] - 17s 107ms/step - loss: 5.1376 - RMSE: 1.1233 - val_loss: 5.0084 - val_RMSE: 1.1176\n",
            "Epoch 3/65\n",
            "157/157 [==============================] - 17s 108ms/step - loss: 4.8917 - RMSE: 1.1224 - val_loss: 4.7702 - val_RMSE: 1.1159\n",
            "Epoch 4/65\n",
            "157/157 [==============================] - 17s 107ms/step - loss: 4.6607 - RMSE: 1.1205 - val_loss: 4.5467 - val_RMSE: 1.1146\n",
            "Epoch 5/65\n",
            "157/157 [==============================] - 17s 109ms/step - loss: 4.4438 - RMSE: 1.1186 - val_loss: 4.3366 - val_RMSE: 1.1131\n",
            "Epoch 6/65\n",
            "157/157 [==============================] - 17s 109ms/step - loss: 4.2401 - RMSE: 1.1167 - val_loss: 4.1390 - val_RMSE: 1.1114\n",
            "Epoch 7/65\n",
            "157/157 [==============================] - 17s 111ms/step - loss: 4.0484 - RMSE: 1.1154 - val_loss: 3.9535 - val_RMSE: 1.1098\n",
            "Epoch 8/65\n",
            "157/157 [==============================] - 17s 111ms/step - loss: 3.8683 - RMSE: 1.1134 - val_loss: 3.7790 - val_RMSE: 1.1079\n",
            "Epoch 9/65\n",
            "157/157 [==============================] - 18s 117ms/step - loss: 3.6988 - RMSE: 1.1116 - val_loss: 3.6152 - val_RMSE: 1.1062\n",
            "Epoch 10/65\n",
            "157/157 [==============================] - 18s 113ms/step - loss: 3.5393 - RMSE: 1.1092 - val_loss: 3.4610 - val_RMSE: 1.1043\n",
            "Epoch 11/65\n",
            "157/157 [==============================] - 17s 111ms/step - loss: 3.3891 - RMSE: 1.1061 - val_loss: 3.3146 - val_RMSE: 1.1005\n",
            "Epoch 12/65\n",
            "157/157 [==============================] - 17s 109ms/step - loss: 3.2475 - RMSE: 1.1027 - val_loss: 3.1773 - val_RMSE: 1.0973\n",
            "Epoch 13/65\n",
            "157/157 [==============================] - 18s 115ms/step - loss: 3.1138 - RMSE: 1.0991 - val_loss: 3.0479 - val_RMSE: 1.0937\n",
            "Epoch 14/65\n",
            "157/157 [==============================] - 20s 125ms/step - loss: 2.9875 - RMSE: 1.0943 - val_loss: 2.9252 - val_RMSE: 1.0891\n",
            "Epoch 15/65\n",
            "157/157 [==============================] - 17s 110ms/step - loss: 2.8683 - RMSE: 1.0897 - val_loss: 2.8096 - val_RMSE: 1.0843\n",
            "Epoch 16/65\n",
            "157/157 [==============================] - 17s 110ms/step - loss: 2.7551 - RMSE: 1.0835 - val_loss: 2.6996 - val_RMSE: 1.0783\n",
            "Epoch 17/65\n",
            "157/157 [==============================] - 18s 112ms/step - loss: 2.6478 - RMSE: 1.0774 - val_loss: 2.5958 - val_RMSE: 1.0719\n",
            "Epoch 18/65\n",
            "157/157 [==============================] - 18s 112ms/step - loss: 2.5457 - RMSE: 1.0694 - val_loss: 2.4968 - val_RMSE: 1.0644\n",
            "Epoch 19/65\n",
            "157/157 [==============================] - 17s 110ms/step - loss: 2.4488 - RMSE: 1.0606 - val_loss: 2.4025 - val_RMSE: 1.0559\n",
            "Epoch 20/65\n",
            "157/157 [==============================] - 18s 114ms/step - loss: 2.3564 - RMSE: 1.0515 - val_loss: 2.3133 - val_RMSE: 1.0471\n",
            "Epoch 21/65\n",
            "157/157 [==============================] - 18s 113ms/step - loss: 2.2687 - RMSE: 1.0411 - val_loss: 2.2286 - val_RMSE: 1.0378\n",
            "Epoch 22/65\n",
            "157/157 [==============================] - 18s 115ms/step - loss: 2.1856 - RMSE: 1.0313 - val_loss: 2.1495 - val_RMSE: 1.0297\n",
            "Epoch 23/65\n",
            "157/157 [==============================] - 16s 105ms/step - loss: 2.1069 - RMSE: 1.0204 - val_loss: 2.0740 - val_RMSE: 1.0208\n",
            "Epoch 24/65\n",
            "157/157 [==============================] - 17s 110ms/step - loss: 2.0327 - RMSE: 1.0101 - val_loss: 2.0024 - val_RMSE: 1.0116\n",
            "Epoch 25/65\n",
            "157/157 [==============================] - 20s 125ms/step - loss: 1.9628 - RMSE: 1.0010 - val_loss: 1.9351 - val_RMSE: 1.0030\n",
            "Epoch 26/65\n",
            "157/157 [==============================] - 17s 106ms/step - loss: 1.8976 - RMSE: 0.9924 - val_loss: 1.8727 - val_RMSE: 0.9958\n",
            "Epoch 27/65\n",
            "157/157 [==============================] - 17s 107ms/step - loss: 1.8361 - RMSE: 0.9838 - val_loss: 1.8143 - val_RMSE: 0.9892\n",
            "Epoch 28/65\n",
            "157/157 [==============================] - 16s 103ms/step - loss: 1.7789 - RMSE: 0.9774 - val_loss: 1.7596 - val_RMSE: 0.9833\n",
            "Epoch 29/65\n",
            "157/157 [==============================] - 17s 106ms/step - loss: 1.7254 - RMSE: 0.9711 - val_loss: 1.7098 - val_RMSE: 0.9795\n",
            "Epoch 30/65\n",
            "157/157 [==============================] - 17s 105ms/step - loss: 1.6754 - RMSE: 0.9654 - val_loss: 1.6616 - val_RMSE: 0.9744\n",
            "Epoch 31/65\n",
            "157/157 [==============================] - 18s 112ms/step - loss: 1.6286 - RMSE: 0.9606 - val_loss: 1.6169 - val_RMSE: 0.9704\n",
            "Epoch 32/65\n",
            "157/157 [==============================] - 17s 109ms/step - loss: 1.5850 - RMSE: 0.9563 - val_loss: 1.5756 - val_RMSE: 0.9672\n",
            "Epoch 33/65\n",
            "157/157 [==============================] - 17s 108ms/step - loss: 1.5440 - RMSE: 0.9525 - val_loss: 1.5363 - val_RMSE: 0.9638\n",
            "Epoch 34/65\n",
            "157/157 [==============================] - 17s 106ms/step - loss: 1.5057 - RMSE: 0.9480 - val_loss: 1.4994 - val_RMSE: 0.9605\n",
            "Epoch 35/65\n",
            "157/157 [==============================] - 16s 105ms/step - loss: 1.4699 - RMSE: 0.9448 - val_loss: 1.4651 - val_RMSE: 0.9579\n",
            "Epoch 36/65\n",
            "157/157 [==============================] - 16s 104ms/step - loss: 1.4364 - RMSE: 0.9420 - val_loss: 1.4331 - val_RMSE: 0.9558\n",
            "Epoch 37/65\n",
            "157/157 [==============================] - 18s 117ms/step - loss: 1.4051 - RMSE: 0.9399 - val_loss: 1.4036 - val_RMSE: 0.9542\n",
            "Epoch 38/65\n",
            "157/157 [==============================] - 16s 104ms/step - loss: 1.3757 - RMSE: 0.9373 - val_loss: 1.3753 - val_RMSE: 0.9522\n",
            "Epoch 39/65\n",
            "157/157 [==============================] - 16s 104ms/step - loss: 1.3479 - RMSE: 0.9359 - val_loss: 1.3519 - val_RMSE: 0.9536\n",
            "Epoch 40/65\n",
            "157/157 [==============================] - 16s 105ms/step - loss: 1.3223 - RMSE: 0.9338 - val_loss: 1.3248 - val_RMSE: 0.9498\n",
            "Epoch 41/65\n",
            "157/157 [==============================] - 17s 106ms/step - loss: 1.2980 - RMSE: 0.9322 - val_loss: 1.3017 - val_RMSE: 0.9484\n",
            "Epoch 42/65\n",
            "157/157 [==============================] - 17s 106ms/step - loss: 1.2756 - RMSE: 0.9308 - val_loss: 1.2817 - val_RMSE: 0.9489\n",
            "Epoch 43/65\n",
            "157/157 [==============================] - 16s 104ms/step - loss: 1.2543 - RMSE: 0.9291 - val_loss: 1.2600 - val_RMSE: 0.9467\n",
            "Epoch 44/65\n",
            "157/157 [==============================] - 16s 104ms/step - loss: 1.2343 - RMSE: 0.9281 - val_loss: 1.2424 - val_RMSE: 0.9472\n",
            "Epoch 45/65\n",
            "157/157 [==============================] - 16s 104ms/step - loss: 1.2158 - RMSE: 0.9274 - val_loss: 1.2244 - val_RMSE: 0.9464\n",
            "Epoch 46/65\n",
            "157/157 [==============================] - 16s 105ms/step - loss: 1.1983 - RMSE: 0.9262 - val_loss: 1.2067 - val_RMSE: 0.9447\n",
            "Epoch 47/65\n",
            "157/157 [==============================] - 16s 105ms/step - loss: 1.1820 - RMSE: 0.9255 - val_loss: 1.1934 - val_RMSE: 0.9466\n",
            "Epoch 48/65\n",
            "157/157 [==============================] - 17s 106ms/step - loss: 1.1666 - RMSE: 0.9249 - val_loss: 1.1768 - val_RMSE: 0.9441\n",
            "Epoch 49/65\n",
            "157/157 [==============================] - 18s 113ms/step - loss: 1.1521 - RMSE: 0.9241 - val_loss: 1.1674 - val_RMSE: 0.9482\n",
            "Epoch 50/65\n",
            "157/157 [==============================] - 17s 107ms/step - loss: 1.1389 - RMSE: 0.9242 - val_loss: 1.1500 - val_RMSE: 0.9433\n",
            "Epoch 51/65\n",
            "157/157 [==============================] - 16s 104ms/step - loss: 1.1264 - RMSE: 0.9232 - val_loss: 1.1394 - val_RMSE: 0.9445\n",
            "Epoch 52/65\n",
            "157/157 [==============================] - 16s 104ms/step - loss: 1.1143 - RMSE: 0.9227 - val_loss: 1.1267 - val_RMSE: 0.9428\n",
            "Epoch 53/65\n",
            "157/157 [==============================] - 17s 106ms/step - loss: 1.1034 - RMSE: 0.9227 - val_loss: 1.1242 - val_RMSE: 0.9508\n",
            "Epoch 54/65\n",
            "157/157 [==============================] - 17s 106ms/step - loss: 1.0927 - RMSE: 0.9221 - val_loss: 1.1058 - val_RMSE: 0.9421\n",
            "Epoch 55/65\n",
            "157/157 [==============================] - 16s 105ms/step - loss: 1.0829 - RMSE: 0.9216 - val_loss: 1.0968 - val_RMSE: 0.9423\n",
            "Epoch 56/65\n",
            "157/157 [==============================] - 16s 104ms/step - loss: 1.0738 - RMSE: 0.9215 - val_loss: 1.0886 - val_RMSE: 0.9428\n",
            "Epoch 57/65\n",
            "157/157 [==============================] - 17s 108ms/step - loss: 1.0651 - RMSE: 0.9210 - val_loss: 1.0796 - val_RMSE: 0.9420\n",
            "Epoch 58/65\n",
            "157/157 [==============================] - 17s 110ms/step - loss: 1.0570 - RMSE: 0.9211 - val_loss: 1.0726 - val_RMSE: 0.9428\n",
            "Epoch 59/65\n",
            "157/157 [==============================] - 18s 114ms/step - loss: 1.0494 - RMSE: 0.9204 - val_loss: 1.0664 - val_RMSE: 0.9435\n",
            "Epoch 60/65\n",
            "157/157 [==============================] - 17s 106ms/step - loss: 1.0420 - RMSE: 0.9202 - val_loss: 1.0583 - val_RMSE: 0.9426\n",
            "Epoch 61/65\n",
            "157/157 [==============================] - 20s 125ms/step - loss: 1.0353 - RMSE: 0.9200 - val_loss: 1.0555 - val_RMSE: 0.9459\n",
            "Epoch 62/65\n",
            "157/157 [==============================] - 18s 116ms/step - loss: 1.0293 - RMSE: 0.9211 - val_loss: 1.0446 - val_RMSE: 0.9412\n",
            "Epoch 63/65\n",
            "157/157 [==============================] - 18s 113ms/step - loss: 1.0232 - RMSE: 0.9203 - val_loss: 1.0399 - val_RMSE: 0.9417\n",
            "Epoch 64/65\n",
            "157/157 [==============================] - 17s 107ms/step - loss: 1.0179 - RMSE: 0.9205 - val_loss: 1.0378 - val_RMSE: 0.9450\n",
            "Epoch 65/65\n",
            "157/157 [==============================] - 18s 112ms/step - loss: 1.0126 - RMSE: 0.9207 - val_loss: 1.0292 - val_RMSE: 0.9415\n",
            "CPU times: user 31min 25s, sys: 36.9 s, total: 32min 2s\n",
            "Wall time: 19min 23s\n"
          ]
        }
      ],
      "source": [
        "%%time\n",
        "# 학습시간 약 5분\n",
        "result = model.fit(\n",
        "    x = [train_user_ids, train_movie_ids], \n",
        "    y = train_ratings - mu,\n",
        "    epochs = 65,\n",
        "    batch_size = 512,\n",
        "    validation_data = (\n",
        "        [test_user_ids, test_movie_ids], \n",
        "        test_ratings - mu\n",
        "    )\n",
        ")"
      ]
    },
    {
      "cell_type": "code",
      "execution_count": 14,
      "id": "592a3fd4",
      "metadata": {
        "colab": {
          "base_uri": "https://localhost:8080/",
          "height": 592
        },
        "id": "592a3fd4",
        "outputId": "96ee632b-9849-4fad-cf68-194180fd66b9"
      },
      "outputs": [
        {
          "output_type": "display_data",
          "data": {
            "text/plain": [
              "<Figure size 720x720 with 1 Axes>"
            ],
            "image/png": "[encoded data removed]"
          },
          "metadata": {
            "needs_background": "light"
          }
        }
      ],
      "source": [
        "# 학습 과정 시각화\n",
        "plt.figure(figsize=(10, 10))\n",
        "plt.plot(result.history['RMSE'], label=\"Train RMSE\")\n",
        "plt.plot(result.history['val_RMSE'], label=\"Test RMSE\")\n",
        "plt.legend()\n",
        "plt.show()"
      ]
    },
    {
      "cell_type": "code",
      "execution_count": 15,
      "id": "7ed5c77b",
      "metadata": {
        "colab": {
          "base_uri": "https://localhost:8080/"
        },
        "id": "7ed5c77b",
        "outputId": "a8f2ba51-fd02-44df-fd23-775572c11343"
      },
      "outputs": [
        {
          "output_type": "stream",
          "name": "stdout",
          "text": [
            "625/625 [==============================] - 5s 8ms/step\n"
          ]
        },
        {
          "output_type": "execute_result",
          "data": {
            "text/plain": [
              "array([[3.9327672],\n",
              "       [3.1705883],\n",
              "       [3.3890188],\n",
              "       [4.327269 ],\n",
              "       [3.7307653],\n",
              "       [2.7362952],\n",
              "       [3.67557  ],\n",
              "       [3.7813137],\n",
              "       [4.3019104],\n",
              "       [4.047604 ],\n",
              "       [3.5934827],\n",
              "       [3.796701 ],\n",
              "       [3.375623 ],\n",
              "       [3.4390185],\n",
              "       [3.0135682]], dtype=float32)"
            ]
          },
          "metadata": {},
          "execution_count": 15
        }
      ],
      "source": [
        "# 모델로 test 데이터 예측\n",
        "predictions = model.predict([test_user_ids, test_movie_ids]) + mu\n",
        "\n",
        "# 예측값들 확인\n",
        "predictions[:15]"
      ]
    },
    {
      "cell_type": "code",
      "execution_count": 16,
      "id": "997c7ead",
      "metadata": {
        "colab": {
          "base_uri": "https://localhost:8080/"
        },
        "id": "997c7ead",
        "outputId": "2745656a-617e-48b8-fa14-9711db2b9894"
      },
      "outputs": [
        {
          "output_type": "stream",
          "name": "stdout",
          "text": [
            "59286    4\n",
            "71695    3\n",
            "70788    5\n",
            "48299    4\n",
            "16144    5\n",
            "67827    4\n",
            "59373    2\n",
            "32506    4\n",
            "48843    4\n",
            "3767     4\n",
            "10090    3\n",
            "24858    2\n",
            "43351    3\n",
            "49282    3\n",
            "11074    2\n",
            "Name: rating, dtype: int64\n"
          ]
        }
      ],
      "source": [
        "# 실제값\n",
        "print(ratings_test.rating[:15])"
      ]
    },
    {
      "cell_type": "code",
      "execution_count": 17,
      "id": "c41cbb52",
      "metadata": {
        "id": "c41cbb52"
      },
      "outputs": [],
      "source": [
        "import numpy as np\n",
        "\n",
        "# 넘파이를 활용한 RMSE 함수\n",
        "def RMSE2(y_true, y_pred):\n",
        "    return np.sqrt(np.mean((np.array(y_true) - np.array(y_pred))**2))"
      ]
    },
    {
      "cell_type": "code",
      "execution_count": 18,
      "id": "18ef98b2",
      "metadata": {
        "colab": {
          "base_uri": "https://localhost:8080/"
        },
        "id": "18ef98b2",
        "outputId": "ef470bde-d29b-41c4-c1cf-79bce2c9edac"
      },
      "outputs": [
        {
          "output_type": "execute_result",
          "data": {
            "text/plain": [
              "0.9400312962768621"
            ]
          },
          "metadata": {},
          "execution_count": 18
        }
      ],
      "source": [
        "# ravel : 1차원으로 변환\n",
        "y_pred = np.ravel(predictions, order='C')\n",
        "y_true = np.array(ratings_test.rating)\n",
        "\n",
        "RMSE2(y_true, y_pred)"
      ]
    },
    {
      "cell_type": "raw",
      "id": "a0ba6609",
      "metadata": {
        "id": "a0ba6609"
      },
      "source": [
        "결론 : \n",
        "\n",
        "MF에 신경망(딥러닝)을 적용하였더니 RMSE가 향상되었다 (1.09 -> 0.94)\n",
        "RMSE를 더 향상시키려면 다양한 layer와 학습 하이퍼 파라미터들을 조정해봐야 함.\n",
        "\n",
        "MF : 데이터가 연속적인 경우 성능이 좋은 경향.\n",
        "\n",
        "MF+딥러닝 : 데이터가 binary하거나 sparse한 경우 성능이 좋은 경향."
      ]
    }
  ],
  "metadata": {
    "kernelspec": {
      "display_name": "Python 3",
      "language": "python",
      "name": "python3"
    },
    "language_info": {
      "codemirror_mode": {
        "name": "ipython",
        "version": 3
      },
      "file_extension": ".py",
      "mimetype": "text/x-python",
      "name": "python",
      "nbconvert_exporter": "python",
      "pygments_lexer": "ipython3",
      "version": "3.8.8"
    },
    "varInspector": {
      "cols": {
        "lenName": 16,
        "lenType": 16,
        "lenVar": 40
      },
      "kernels_config": {
        "python": {
          "delete_cmd_postfix": "",
          "delete_cmd_prefix": "del ",
          "library": "var_list.py",
          "varRefreshCmd": "print(var_dic_list())"
        },
        "r": {
          "delete_cmd_postfix": ") ",
          "delete_cmd_prefix": "rm(",
          "library": "var_list.r",
          "varRefreshCmd": "cat(var_dic_list()) "
        }
      },
      "types_to_exclude": [
        "module",
        "function",
        "builtin_function_or_method",
        "instance",
        "_Feature"
      ],
      "window_display": false
    },
    "colab": {
      "provenance": [],
      "include_colab_link": true
    }
  },
  "nbformat": 4,
  "nbformat_minor": 5
}